{
 "cells": [
  {
   "cell_type": "markdown",
   "metadata": {
    "nbpresent": {
     "id": "324c3256-4054-4685-a71c-ae0fe87670c2"
    }
   },
   "source": [
    "# 01. Python Basic\n",
    "\n",
    "<p style=\"text-align: right;\">\n",
    "blackdew7@gmail.com<br>\n",
    "Your name :\n",
    "</p>\n",
    "\n",
    "### 파이썬 실습시간 그 첫번째!<br>\n",
    "\n",
    "전체 교육 과정에서 파이썬을 사용합니다.\n",
    "\n",
    "#### 선행지식\n",
    "1. 컴퓨터로 문서를 작성하거나 수정할 수 있다.\n",
    "2. 프로그래밍 언어가 어떤 역할을 하는 지 않다.\n",
    "3. 프로그래밍의 소스코드를 본 적이 있다. \n",
    "4. 프로그래밍 언어를 배우려는 의지가 있다. \n",
    "\n",
    "#### 실습목표\n",
    "1. 데이터 타입을 알고 있다. - 숫자, 문자, boolean\n",
    "2. 출력문(print)을 이용하여 출력할 수 있다.\n",
    "3. 조건문(if-else)이 무엇인지 알고 조건문이 사용된 소스코드를 이해할 수 있다. \n",
    "4. 반복문(loop)이 무엇인지 알고 반복문이 사용된 소스코드를 이해할 수 있다. \n",
    "5. 자료형이 무엇인지 알고 자료형이 사용된 소스코드를 이해할 수 있다.\n",
    "6. List, Dictionary, Set, Tuple 각 자료형의 특징과 차이점을 안다.\n",
    "7. 함수(Function)가 무엇인지 알고, 함수가 사용된 소스코드를 이해할 수 있다. 간단한 함수를 작성할 수 있다. \n",
    "8. 클래스(Class)가 무엇인지 알고, 클래스가 사용된 소스코드를 이해할 수 있다.\n",
    "9. Python으로 작성된 소스코드를 이해하고, 간단한 코드를 작성할 수 있다."
   ]
  },
  {
   "cell_type": "markdown",
   "metadata": {},
   "source": [
    "## Jupyter Notebook 단축키\n",
    "* Cell 실행: Control + Enter\n",
    "* Cell 실행 + 다음셀 이동: Shift + Enter\n",
    "* Code Completion: Tab\n",
    "* Tooltip 보기: Shift + Tab\n",
    "* 셀 생성 & 삭제: A (셀을 선택된 셀 위에 생성), B (셀을 선택된 셀 아래에 생성), D (선택된 셀을 삭제)\n",
    "* 줄 번호 보기: L\n",
    "* Command Palette 보기: Shift + Control/Command + P\n",
    "* 단축키 모음 보기: H"
   ]
  },
  {
   "cell_type": "markdown",
   "metadata": {},
   "source": [
    "## Magic 키워드\n",
    "* Jupyter Notebook은 사용자 편의를 위해 Magic 키워드 를 지원한다.\n",
    "* Magic 키워드는 % 또는 %%를 이용하여 실행할 수 있다. 각각 한 줄, 한 셀에 대해 Magic 키워드를 실행한다.\n",
    "* Magic 키워드로 제공하는 기능은 여러가지가 있지만 주로 사용되는것은 다음과 같다."
   ]
  },
  {
   "cell_type": "code",
   "execution_count": null,
   "metadata": {
    "collapsed": true
   },
   "outputs": [],
   "source": [
    "# 메모리를 리셋한다.\n",
    "%reset\n",
    "\n",
    "# matplot 그래프와 그림을 출력한다.\n",
    "%matplotlib inline\n",
    "%config InlineBackend.figure_format = 'retina'\n",
    "\n",
    "# 파일을 로딩한다. \n",
    "%load"
   ]
  },
  {
   "cell_type": "markdown",
   "metadata": {
    "nbpresent": {
     "id": "77420740-c7d1-42dc-8cbf-f131e6ac7001"
    }
   },
   "source": [
    "## 00. Hello Python"
   ]
  },
  {
   "cell_type": "code",
   "execution_count": 3,
   "metadata": {
    "nbpresent": {
     "id": "41a29509-236f-4951-a9d2-6c2cf4963c6b"
    }
   },
   "outputs": [
    {
     "name": "stdout",
     "output_type": "stream",
     "text": [
      "Hello, Python World!!\n"
     ]
    }
   ],
   "source": [
    "print(\"Hello, Python World!!\") \n",
    "\n",
    "# !주의 \n",
    "# 2.0 버전에서는 '()' 괄호가 없는 형태로 print문을 처리할 수 있었습니다. \n",
    "# 3.0 버전에서 python 코드를 들고와서 돌렸는데 에러가 날 때에는 print 처리가 어떻게 되어있는지 확인해 봐야해요. \n",
    "# print \"Hello, Python World!!\""
   ]
  },
  {
   "cell_type": "code",
   "execution_count": null,
   "metadata": {
    "collapsed": true
   },
   "outputs": [],
   "source": [
    "# help '?' 이용, or Shift + Tab\n",
    "?print"
   ]
  },
  {
   "cell_type": "markdown",
   "metadata": {
    "nbpresent": {
     "id": "ae941080-9b54-48d0-9c2e-d789737ca6a3"
    }
   },
   "source": [
    "## 01. Basic data types"
   ]
  },
  {
   "cell_type": "code",
   "execution_count": null,
   "metadata": {
    "collapsed": true,
    "nbpresent": {
     "id": "ff5d24f2-939f-4007-9892-f241c94b9e6f"
    }
   },
   "outputs": [],
   "source": [
    "# 숫자\n",
    "# 숫자는 다른 언어에서 예상하는대로 작동합니다.\n",
    "\n",
    "x = 3\n",
    "print(type(x)) # Prints \"<class 'int'>\"\n",
    "\n",
    "print(x)       # \"3\" 출력\n",
    "print(x + 1)   # 더하기, \"4\"\n",
    "print(x - 1)   # 빼기, \"2\"\n",
    "print(x * 2)   # 곱하기, \"6\"\n",
    "print(x ** 2)  # 2제곱, \"9\"\n",
    "print(x ** 3)  # 3제곱, \"27\"\n",
    "print(x / 2)   # 2로 나누기, \"1.5\"\n",
    "print(x % 2)   # 2로 나누고 나머지, \"1\"\n",
    "\n",
    "x = x + 1\n",
    "print(x)\n",
    "x += 1\n",
    "print(x)  \n",
    "\n",
    "x = x * 2\n",
    "print(x)\n",
    "x *= 2\n",
    "print(x)  \n",
    "\n",
    "y = 2.5\n",
    "print(type(y)) # Prints \"<class 'float'>\"\n",
    "\n",
    "print(y, y + 1, y * 2, y ** 2) # \"2.5 3.5 5.0 6.25\""
   ]
  },
  {
   "cell_type": "code",
   "execution_count": null,
   "metadata": {
    "collapsed": true
   },
   "outputs": [],
   "source": [
    "# True/False Boolean\n",
    "\n",
    "t = True\n",
    "f = False\n",
    "print(type(t)) # Prints \"<class 'bool'>\"\n",
    "\n",
    "print(t and f) # AND 연산, \"False\"\n",
    "print(t or f)  # OR 연산, \"True\"\n",
    "print(not t)   # NOT 연산, prints \"False\""
   ]
  },
  {
   "cell_type": "code",
   "execution_count": null,
   "metadata": {
    "collapsed": true
   },
   "outputs": [],
   "source": [
    "# 문자열\n",
    "# 파이썬은 문자열에 대해 상당한 편의성을 지원합니다.\n",
    "\n",
    "hello = 'hello'    # 작은 따옴표를 사용할 수 있습니다.\n",
    "world = \"world\"    # 큰 따옴표도 사용할 수 있습니다.\n",
    "print(hello)       # \"hello\" 출력.\n",
    "print(len(hello))  # 문자열 길이 출력 - \"5\"\n",
    "\n",
    "hw = hello + ' ' + world  # 문자열 연결\n",
    "print(hw)  # \"hello world\" 출력\n",
    "\n",
    "hw12 = '%s %s %d' % (hello, world, 12)  # 변수를 활용하는 문자열 서식\n",
    "print(hw12)  # \"hello world 12\" 출력"
   ]
  },
  {
   "cell_type": "code",
   "execution_count": null,
   "metadata": {
    "collapsed": true
   },
   "outputs": [],
   "source": [
    "s = \"hello\"\n",
    "print(s.capitalize())  # Capitalize, 알파벳 첫 문자를 대문자로\n",
    "print(s.upper())       # 문자열 전체를 대문자로, \"HELLO\"\n",
    "\n",
    "# 공백 문자열을 추가하여 출력하되\n",
    "print(s.rjust(7))      # 오른쪽 정렬로 출력, \"  hello\"\n",
    "print(len(s.rjust(7))) # 문자열 길이는 7\n",
    "print(s.ljust(7))      # 왼쪽 정렬로 출력, \"hello  \"\n",
    "print(len(s.rjust(7))) # 문자열 길이는 7\n",
    "print(s.center(7))     # 중앙 정렬로 출력, \" hello \"\n",
    "print(len(s.center(7)))\n",
    "\n",
    "# 문자열 변경\n",
    "print(s.replace('o', ', go'))  # 'o'을 ', go'로 바꿈, \"hell, go\"\n",
    "\n",
    "# 앞 뒤 빈 문자열 제거\n",
    "print('  world '.strip())"
   ]
  },
  {
   "cell_type": "code",
   "execution_count": null,
   "metadata": {
    "collapsed": true
   },
   "outputs": [],
   "source": [
    "# 여러 변수를 한 줄에 입력\n",
    "a, b, c = 10, 'Hello', 0.1\n",
    "print(\"%d %s %f\" % (a, b, c))"
   ]
  },
  {
   "cell_type": "markdown",
   "metadata": {},
   "source": [
    "### 실습"
   ]
  },
  {
   "cell_type": "code",
   "execution_count": null,
   "metadata": {
    "collapsed": true
   },
   "outputs": [],
   "source": [
    "out = \"%d번 학생 %s, 총점은 %.1f점 입니다.\"\n",
    "\n",
    "stu01 = \" 김정환 \"\n",
    "stu01_num = 1\n",
    "stu01_course_1 = 92\n",
    "stu01_course_2 = 96\n",
    "stu01_course_3 = 98\n",
    "\n",
    "stu02 = \" 이숙번 \"\n",
    "stu02_num = 2\n",
    "stu02_course_1 = 58\n",
    "stu02_course_2 = 64\n",
    "stu02_course_3 = 100\n",
    "\n",
    "stu03 = \" 홍원의 \"\n",
    "stu03_num = 3\n",
    "stu03_course_1 = 88\n",
    "stu03_course_2 = 84\n",
    "stu03_course_3 = 92\n",
    "\n",
    "\n",
    "# 자신의 이름을 가지고 위의 변수값을 참고하여 동일한 형태로 stu04를 만들어 주세요. \n",
    "stu04 = \n",
    "stu04_num = \n",
    "stu04_course_1 = \n",
    "stu04_course_2 = \n",
    "stu04_course_3 = \n",
    "\n",
    "\n",
    "# strip() 함수를 이용하여, 각 학생들의 이름의 앞뒤에 있는 공백을 지워서 다시 같은 변수에 담기.\n",
    "# stu01, stu02, stu03, stu04\n",
    "\n",
    "\n",
    "# 각 학생들의 평균점수 구하기\n",
    "# stu01_avg, stu02_avg, stu03_avg, stu04_avg\n",
    "\n",
    "\n",
    "# replace()를 사용하여, out 변수에 들어있는 문자열 중에 \n",
    "# '총점은' 부분을 '평균점수는'으로 바꿔서 다시 out에 넣기.\n",
    "\n",
    "\n",
    "# out을 이용하여 각 학생의 번호, 이름, 평균점수 출력\n",
    "\n"
   ]
  },
  {
   "cell_type": "markdown",
   "metadata": {},
   "source": [
    "## 021. 제어문(Control)"
   ]
  },
  {
   "cell_type": "code",
   "execution_count": null,
   "metadata": {
    "collapsed": true
   },
   "outputs": [],
   "source": [
    "# 조건문 - if-else\n",
    "\n",
    "my_score = 73\n",
    " \n",
    "if my_score >= 90:\n",
    "    my_grade = 'A'\n",
    "elif my_score >= 80:\n",
    "    my_grade = 'B'\n",
    "elif my_score >= 70:\n",
    "    my_grade = 'C'\n",
    "elif my_score >= 60:\n",
    "    my_grade = 'E'\n",
    "else:\n",
    "    my_grade = 'F'\n",
    " \n",
    "print(my_grade)"
   ]
  },
  {
   "cell_type": "code",
   "execution_count": null,
   "metadata": {
    "collapsed": true
   },
   "outputs": [],
   "source": [
    "# 반복문 - for\n",
    "for i in range(5):\n",
    "    print(i)\n",
    "    \n",
    "fruits = ['apple', 'banana', 'cherry']\n",
    " \n",
    "for i in fruits:\n",
    "    print(i)\n",
    "    \n",
    "for index, value in enumerate(fruits):\n",
    "    print(index, value)"
   ]
  },
  {
   "cell_type": "code",
   "execution_count": null,
   "metadata": {
    "collapsed": true
   },
   "outputs": [],
   "source": [
    "# 반복문 - while\n",
    "i = 0 \n",
    "while i < len(fruits):\n",
    "    print(fruits[i])\n",
    "    i += 1"
   ]
  },
  {
   "cell_type": "markdown",
   "metadata": {},
   "source": [
    "### 실습"
   ]
  },
  {
   "cell_type": "code",
   "execution_count": null,
   "metadata": {
    "collapsed": true
   },
   "outputs": [],
   "source": [
    "score1 = 72\n",
    "score2 = 90\n",
    "score3 = 76\n",
    "\n",
    "# score 값에 따라 등급을 주는 다음의 조건문을 완성하시오.\n",
    "# 95점 이상 A+. 90점 이상 A, 85점 이상 B+, 80점 이상 B,\n",
    "# 75점 이상 C+. 70점 이상 C, 60점 이상 D, 60점 미만 F\n",
    "\n",
    "\n",
    "# score1, score2, score3 각 점수중 하나라도 60점 이하거나 \n",
    "# 점수의 평균이 80점 이하이면 Fail\n",
    "# 그렇지 않은 경우에는 Pass를 주는 조건문을 완성하시오.\n",
    "\n",
    "\n",
    "# for문과 range를 사용하여 1 ~ 100까지의 합을 구하시오\n",
    "\n",
    "\n",
    "# while문을 사용하여 1 ~ 100까지 사이의 홀수의 합을 구하시오\n",
    "\n"
   ]
  },
  {
   "cell_type": "markdown",
   "metadata": {},
   "source": [
    "## 031. 자료형(Container) - Lists"
   ]
  },
  {
   "cell_type": "code",
   "execution_count": null,
   "metadata": {
    "collapsed": true
   },
   "outputs": [],
   "source": [
    "# 리스트 생성\n",
    "xs = [3, 1, 2]\n",
    "\n",
    "print(xs)                   # \"[3, 1, 2]\"\n",
    "print(xs[1], xs[2], xs[0])  # \"1 2 3\"\n",
    "print(xs[-1])               # \"2\"\n",
    "\n",
    "# 리스트 내용 변경\n",
    "xs[2] = 6\n",
    "print(xs)         # \"[3, 1, 6]\"\n",
    "# 하나의 리스트 내에 여러가지 타입이 들어갈 수 있다.\n",
    "xs[2] = 'foo'\n",
    "print(xs)         # \"[3, 1, 'foo']\"\n",
    "\n",
    "# 새로운 요소 추가\n",
    "xs.append('bar')\n",
    "print(xs)         # \"[3, 1, 'foo', 'bar']\"\n",
    "\n",
    "# 요소 제거\n",
    "del xs[2]\n",
    "print(xs)         # \"[3, 1, 'bar']\"\n",
    "\n",
    "# 마지막 요소를 가져오면서 제거\n",
    "x = xs.pop()\n",
    "print(x, xs)      # Prints \"bar [3, 1]\""
   ]
  },
  {
   "cell_type": "code",
   "execution_count": null,
   "metadata": {
    "collapsed": true
   },
   "outputs": [],
   "source": [
    "# 자르기(Slicing)\n",
    "\n",
    "# range - 정수 목록을 만드는 함수\n",
    "nums = list(range(10))\n",
    "print(nums)               # \"[0, 1, 2, 3, 4, 5, 6, 7, 8, 9]\"\n",
    "nums1 = list(range(2, 10))\n",
    "print(nums1)               # \"[2, 3, 4, 5, 6, 7, 8, 9]\"\n",
    "nums2 = list(range(2, 10, 2))\n",
    "print(nums2)               # \"[2, 4, 6, 8]\"\n",
    "\n",
    "# 자르기\n",
    "print(nums[2:4])          # \"[2, 3]\"\n",
    "print(nums[7:])           # \"[7, 8, 9]\"\n",
    "print(nums[:3])           # \"[0, 1, 2]\"\n",
    "print(nums[:-2])          # \"[0, 1, 2, 3, 4, 5, 6, 7]\"\n",
    "\n",
    "# 잘라낸 부분을 새로운 리스트로 할당(assign)\n",
    "nums[2:4] = [8, 9, 10]  \n",
    "print(nums)               # \"[0, 1, 8, 9, 10, 4, 5, 6, 7, 8, 9]\""
   ]
  },
  {
   "cell_type": "code",
   "execution_count": null,
   "metadata": {
    "collapsed": true
   },
   "outputs": [],
   "source": [
    "# list 복사\n",
    "\n",
    "nums_copy_1 = nums\n",
    "nums_copy_2 = nums[:]\n",
    "print(nums_copy_1)            # \"[0, 1, 2, 3, 4, 5, 6, 7, 8, 9]\"\n",
    "print(nums_copy_2)            # \"[0, 1, 2, 3, 4, 5, 6, 7, 8, 9]\"\n",
    "\n",
    "nums_copy_1[0] = 'a'\n",
    "print(nums_copy_1)            # \"[a, 1, 2, 3, 4, 5, 6, 7, 8, 9]\"\n",
    "print(nums_copy_2)            # \"[0, 1, 2, 3, 4, 5, 6, 7, 8, 9]\"\n",
    "print(nums)                   # \"[a, 1, 2, 3, 4, 5, 6, 7, 8, 9]\"\n",
    "\n",
    "nums_copy_2[0] = 'b'\n",
    "print(nums_copy_1)            # \"[a, 1, 2, 3, 4, 5, 6, 7, 8, 9]\"\n",
    "print(nums_copy_2)            # \"[b, 1, 2, 3, 4, 5, 6, 7, 8, 9]\"\n",
    "print(nums)                   # \"[a, 1, 2, 3, 4, 5, 6, 7, 8, 9]\""
   ]
  },
  {
   "cell_type": "code",
   "execution_count": null,
   "metadata": {
    "collapsed": true
   },
   "outputs": [],
   "source": [
    "# 반복문(Loops)\n",
    "\n",
    "animals = ['cat', 'dog', 'monkey']\n",
    "for animal in animals:\n",
    "    print(animal)\n",
    "\n",
    "animals = ['cat', 'dog', 'monkey']\n",
    "for idx, animal in enumerate(animals):\n",
    "    print('#%d: %s' % (idx + 1, animal))"
   ]
  },
  {
   "cell_type": "code",
   "execution_count": null,
   "metadata": {
    "collapsed": true
   },
   "outputs": [],
   "source": [
    "# 반복문\n",
    "nums = [0, 1, 2, 3, 4]\n",
    "squares = []\n",
    "for x in nums:\n",
    "    squares.append(x ** 2)\n",
    "print(squares)\n",
    "\n",
    "# 확장 문법 - 반복문\n",
    "nums = [0, 1, 2, 3, 4]\n",
    "squares = [x ** 2 for x in nums]\n",
    "print(squares) \n",
    "\n",
    "# 확장 문법 - 반복문 + 조건문\n",
    "nums = [0, 1, 2, 3, 4]\n",
    "even_squares = [x ** 2 for x in nums if x % 2 == 0]\n",
    "print(even_squares)  # Prints \"[0, 4, 16]\""
   ]
  },
  {
   "cell_type": "markdown",
   "metadata": {},
   "source": [
    "### 실습"
   ]
  },
  {
   "cell_type": "code",
   "execution_count": null,
   "metadata": {
    "collapsed": true
   },
   "outputs": [],
   "source": [
    "score = [75, 46, 93, -82, -77, 130, 100, 75, -10]\n",
    "\n",
    "# len 함수를 이용하여 score에 들어있는 element의 갯수를 구하시오\n",
    "\n",
    "\n",
    "# 첫번째와 다섯번째 element의 값을 출력하시오.\n",
    "\n",
    "\n",
    "# append를 이용하여 마지막에 숫자 80을 추가하시오\n",
    "\n",
    "\n",
    "# 첫번째부터 3번째까지의 element를 slice하세요.\n",
    "\n",
    "\n",
    "# score에서 음수를 제거한 리스트를 score01 변수에 담으세요. \n",
    "\n",
    "\n",
    "# score01에서 100보다 큰 수를 제외한 리스트를 score02 변수에 담으세요.\n",
    "\n",
    "\n",
    "# score02 리스트의 element들 합과 평균을 구하시요\n",
    "\n",
    "\n",
    "# score02 리스트 각 element의 값을 10으로 나눈 값을 갖는 리스트 score03을 만드세요.\n"
   ]
  },
  {
   "cell_type": "markdown",
   "metadata": {},
   "source": [
    "## 032. 자료형(Container) - Dictionaries\n",
    "\n",
    "* (key, value) 구조.\n",
    "* index의 개념."
   ]
  },
  {
   "cell_type": "code",
   "execution_count": null,
   "metadata": {
    "collapsed": true
   },
   "outputs": [],
   "source": [
    "# dictionary 생성\n",
    "d = {'cat': 'cute', 'dog': 'furry'}  \n",
    "print(d)\n",
    "\n",
    "# dictionary 특정 값 조회\n",
    "print(d['cat'])       # \"cute\"\n",
    "\n",
    "# key 값이 들어있는지 확인\n",
    "print('cat' in d)     # \"True\"\n",
    "print('sheep' in d)     # \"False\"\n",
    "\n",
    "# 새로운 (key, value) 추가\n",
    "d['fish'] = 'wet'\n",
    "print(d['fish'])      # \"wet\"\n",
    "# print(d['monkey'])  # KeyError: 'monkey'를 key로 가진 value가 없다\n",
    "\n",
    "# key가 없는 경우, default value 사용\n",
    "print(d.get('monkey', 'N/A'))  # \"N/A\"\n",
    "print(d.get('fish', 'N/A'))    # \"wet\"\n",
    "\n",
    "# 요소 삭제\n",
    "del d['fish']\n",
    "print(d.get('fish', 'N/A')) # \"N/A\""
   ]
  },
  {
   "cell_type": "code",
   "execution_count": null,
   "metadata": {
    "collapsed": true
   },
   "outputs": [],
   "source": [
    "# 반복문 \n",
    "d = {'person': 2, 'cat': 4, 'spider': 8}\n",
    "for key in d:\n",
    "    value = d[key]\n",
    "    print('A %s has %d legs' % (key, value))\n",
    "\n",
    "d = {'person': 2, 'cat': 4, 'spider': 8}\n",
    "for key, value in d.items():\n",
    "    print('A %s has %d legs' % (key, value))"
   ]
  },
  {
   "cell_type": "code",
   "execution_count": null,
   "metadata": {
    "collapsed": true
   },
   "outputs": [],
   "source": [
    "# 확장 문법 - 반복문 + 제어문\n",
    "\n",
    "animals = {'cat': 11, 'dog': 7, 'fish': 15, 'horse': 3}\n",
    "animals_over_10 = {k: v for k, v in animals.items() if v > 10}\n",
    "print(animals_over_10)  # \"{'cat': 11, 'fish': 15}\""
   ]
  },
  {
   "cell_type": "markdown",
   "metadata": {},
   "source": [
    "### 실습"
   ]
  },
  {
   "cell_type": "code",
   "execution_count": null,
   "metadata": {
    "collapsed": true
   },
   "outputs": [],
   "source": [
    "stu01 = {\n",
    "    \"no\": 1,\n",
    "    \"name\": \"김정환\",\n",
    "    \"points\": [92, 96, 98]\n",
    "}\n",
    "stu02 = {\n",
    "    \"no\": 2,\n",
    "    \"name\": \"이숙번\",\n",
    "    \"points\": [58, 64, 100]\n",
    "}\n",
    "stu03 = {\n",
    "    \"no\": 3,\n",
    "    \"name\": \"홍원의\",\n",
    "    \"points\": [88, 84, 92]\n",
    "}\n",
    "\n",
    "\n",
    "# 각 학생들의 번호에 10씩 더하세요.\n",
    "\n",
    "\n",
    "# 각 학생별로 점수 합계를 구하시오.\n",
    "\n",
    "\n",
    "# 아래 out을 이용하여 stu01, stu02, stu03의 번호, 이름, 평균점수를 출력하시오.\n",
    "out = \"번호: %d, 이름: %s, 평균점수: %f\"\n",
    "\n",
    "\n",
    "# 아래 코드에 오류가 있습니다. 오류를 수정하여. key: value를 출력하는 코드를 완성하세요. \n",
    "for key, value in stu01:\n",
    "    print(\"%s: %s\" % (key, value))\n"
   ]
  },
  {
   "cell_type": "markdown",
   "metadata": {},
   "source": [
    "## 033. 자료형(Container) - Sets\n",
    "\n",
    "* 집합\n",
    "* 중복된 값을 중첩되어 가지지 않는 리스트 "
   ]
  },
  {
   "cell_type": "code",
   "execution_count": null,
   "metadata": {
    "collapsed": true
   },
   "outputs": [],
   "source": [
    "animals = {'cat', 'dog'}\n",
    "print(animals)\n",
    "\n",
    "# 요소가 있는지 체크\n",
    "print('cat' in animals)   # \"True\"\n",
    "print('fish' in animals)  # \"False\"\n",
    "\n",
    "# 요소 추가\n",
    "animals.add('fish')\n",
    "print('fish' in animals)  # \"True\"\n",
    "print(animals)\n",
    "\n",
    "# set 요소 갯수\n",
    "print(len(animals))       # \"3\"\n",
    "animals.add('cat')        # 중복되어 추가해도 요소가 더 추가되지 않는다. 리스트와 비교.\n",
    "print(len(animals))       # \"3\"\n",
    "print(animals)\n",
    "\n",
    "# 요소 삭제\n",
    "animals.remove('cat')     \n",
    "print(len(animals))       # \"2\"\n",
    "\n",
    "######################\n",
    "# List 비교\n",
    "list_animals = ['cat', 'dog', 'fish']\n",
    "print(list_animals)\n",
    "print(len(list_animals))       # \"3\"\n",
    "\n",
    "# list 요소 갯수\n",
    "list_animals.append('cat')     # 중복되어도 요소가 더 추가된다.\n",
    "print(len(list_animals))       # \"4\"\n",
    "print(list_animals)\n"
   ]
  },
  {
   "cell_type": "code",
   "execution_count": null,
   "metadata": {
    "collapsed": true
   },
   "outputs": [],
   "source": [
    "# 반복문\n",
    "animals = {'cat', 'dog', 'fish'}\n",
    "for idx, animal in enumerate(animals):\n",
    "    print('#%d: %s' % (idx + 1, animal))\n",
    "\n",
    "# 확장 문법 - 반복문\n",
    "from math import sqrt\n",
    "nums = {int(sqrt(x)) for x in range(30)}\n",
    "print(nums)  # \"{0, 1, 2, 3, 4, 5}\""
   ]
  },
  {
   "cell_type": "markdown",
   "metadata": {},
   "source": [
    "## 034. 자료형(Container) - Tuples"
   ]
  },
  {
   "cell_type": "code",
   "execution_count": null,
   "metadata": {
    "collapsed": true
   },
   "outputs": [],
   "source": [
    "# 튜플 생성\n",
    "t = (5, 6)\n",
    "print(type(t))    # Prints \"<class 'tuple'>\"\n",
    "print(t)    # \"(5, 6)\"\n",
    "\n",
    "print(t[0])       # \"5\"\n",
    "\n",
    "# dictionary의 키로 사용되는 tuple\n",
    "d = {(1, 0): 10, (2, 0): 20, (0, 1): 1}\n",
    "print(d[(1, 0)])  # \"10\"\n",
    "print(d[(0, 1)])  # \"1\"\n"
   ]
  },
  {
   "cell_type": "markdown",
   "metadata": {},
   "source": [
    "## 04. 함수(Function)"
   ]
  },
  {
   "cell_type": "code",
   "execution_count": null,
   "metadata": {
    "collapsed": true
   },
   "outputs": [],
   "source": [
    "def sign(x):\n",
    "    if x > 0:\n",
    "        return 'positive'\n",
    "    elif x < 0:\n",
    "        return 'negative'\n",
    "    else:\n",
    "        return 'zero'\n",
    "\n",
    "for x in [-1, 0, 1]:\n",
    "    print(sign(x))\n",
    "    "
   ]
  },
  {
   "cell_type": "code",
   "execution_count": null,
   "metadata": {
    "collapsed": true
   },
   "outputs": [],
   "source": [
    "def hello(name, loud=False):\n",
    "    if loud:\n",
    "        print('HELLO, %s!' % name.upper())\n",
    "    else:\n",
    "        print('Hello, %s' % name)\n",
    "\n",
    "hello('Bob')              # \"Hello, Bob\"\n",
    "hello('Fred', loud=True)  # \"HELLO, FRED!\""
   ]
  },
  {
   "cell_type": "markdown",
   "metadata": {},
   "source": [
    "### 실습"
   ]
  },
  {
   "cell_type": "code",
   "execution_count": null,
   "metadata": {
    "collapsed": true
   },
   "outputs": [],
   "source": [
    "# 숫자의 list를 받아서 평균을 반환하는 average 함수를 만들어 보자. \n",
    "def average(list_points):\n",
    "    # 여기를 작성해 주면 됩니다. \n",
    "    # 힌트: list_points의 요소의 평균을 계산해서 aver 변수에 담으면 됩니다. \n",
    "    \n",
    "    return aver\n",
    "\n",
    "\n",
    "points = [50, 60, 70, 80, 90, 100]\n",
    "a = average(points)\n",
    "print(a)\n",
    "\n",
    "\n",
    "# score 값에 따라 등급을 반환해 주는 grade 함수를 완성하시오.\n",
    "# 95점 이상 A+. 90점 이상 A, 85점 이상 B+, 80점 이상 B,\n",
    "# 75점 이상 C+. 70점 이상 C, 60점 이상 D, 60점 미만 F\n",
    "def grade(score):\n",
    "    # 여기를 작성해 주면 됩니다. \n",
    "    # 힌트: score의 값을 확인해서 등급을 grade 변수에 담으면 됩니다. \n",
    "    \n",
    "    return grade\n",
    "\n",
    "print(grade(points[0]))\n",
    "print(grade(points[1]))\n",
    "print(grade(points[2]))\n",
    "print(grade(points[3]))\n",
    "print(grade(points[4]))\n",
    "print(grade(points[5]))\n"
   ]
  },
  {
   "cell_type": "markdown",
   "metadata": {},
   "source": [
    "## 05. 클래스"
   ]
  },
  {
   "cell_type": "code",
   "execution_count": null,
   "metadata": {
    "collapsed": true
   },
   "outputs": [],
   "source": [
    "class Greeter(object):\n",
    "\n",
    "    # 생성자\n",
    "    def __init__(self, name):\n",
    "        self.name = name  # Create an instance variable\n",
    "\n",
    "    # 메쏘드\n",
    "    def greet(self, loud=False):\n",
    "        if loud:\n",
    "            print('HELLO, %s!' % self.name.upper())\n",
    "        else:\n",
    "            print('Hello, %s' % self.name)\n",
    "\n",
    "g = Greeter('Fred')  # 인스턴스 생성\n",
    "g.greet()            # \"Hello, Fred\"\n",
    "g.greet(loud=True)   # \"HELLO, FRED!\""
   ]
  },
  {
   "cell_type": "markdown",
   "metadata": {},
   "source": [
    "### print & __str__"
   ]
  },
  {
   "cell_type": "code",
   "execution_count": null,
   "metadata": {
    "collapsed": true
   },
   "outputs": [],
   "source": [
    "print(g)"
   ]
  },
  {
   "cell_type": "code",
   "execution_count": null,
   "metadata": {
    "collapsed": true
   },
   "outputs": [],
   "source": [
    "class Greeter(object):\n",
    "\n",
    "    # 생성자\n",
    "    def __init__(self, name):\n",
    "        self.name = name  # Create an instance variable\n",
    "\n",
    "    # 메쏘드\n",
    "    def greet(self, loud=False):\n",
    "        if loud:\n",
    "            print('HELLO, %s!' % self.name.upper())\n",
    "        else:\n",
    "            print('Hello, %s' % self.name)\n",
    "    \n",
    "    def __str__(self):\n",
    "        return \"I am %s\" % self.name"
   ]
  },
  {
   "cell_type": "code",
   "execution_count": null,
   "metadata": {
    "collapsed": true
   },
   "outputs": [],
   "source": [
    "g = Greeter('Fred')  # 인스턴스 생성\n",
    "g.greet()            # \"Hello, Fred\"\n",
    "g.greet(loud=True)   # \"HELLO, FRED!\"\n",
    "print(g)"
   ]
  },
  {
   "cell_type": "markdown",
   "metadata": {},
   "source": [
    "### with & __enter__ & __exit__"
   ]
  },
  {
   "cell_type": "code",
   "execution_count": null,
   "metadata": {
    "collapsed": true
   },
   "outputs": [],
   "source": [
    "# with \n",
    "with Greeter('Python') as g:\n",
    "    g.greet()\n",
    "    g.greet(loud=True)"
   ]
  },
  {
   "cell_type": "code",
   "execution_count": null,
   "metadata": {
    "collapsed": true
   },
   "outputs": [],
   "source": [
    "# with 사용하기 위해 class 조정\n",
    "\n",
    "class Greeter(object):\n",
    "    # 생성자\n",
    "    def __init__(self, name):\n",
    "        self.name = name  # Create an instance variable\n",
    "\n",
    "    # 메쏘드\n",
    "    def greet(self, loud=False):\n",
    "        if loud:\n",
    "            print('HELLO, %s!' % self.name.upper())\n",
    "        else:\n",
    "            print('Hello, %s' % self.name)\n",
    "            \n",
    "    def __str__(self):\n",
    "        return \"I am %s\" % self.name\n",
    "    def __enter__(self):\n",
    "        return self\n",
    "    def __exit__(self, type, value, traceback):\n",
    "        print('Good Bye.')\n",
    "        "
   ]
  },
  {
   "cell_type": "code",
   "execution_count": null,
   "metadata": {
    "collapsed": true
   },
   "outputs": [],
   "source": [
    "# with \n",
    "with Greeter('Python') as g:\n",
    "    g.greet()\n",
    "    g.greet(loud=True)\n",
    "    print(g)"
   ]
  },
  {
   "cell_type": "code",
   "execution_count": null,
   "metadata": {
    "collapsed": true
   },
   "outputs": [],
   "source": []
  }
 ],
 "metadata": {
  "anaconda-cloud": {},
  "kernelspec": {
   "display_name": "Python 3",
   "language": "python",
   "name": "python3"
  },
  "language_info": {
   "codemirror_mode": {
    "name": "ipython",
    "version": 2
   },
   "file_extension": ".py",
   "mimetype": "text/x-python",
   "name": "python",
   "nbconvert_exporter": "python",
   "pygments_lexer": "ipython2",
   "version": "2.7.12"
  },
  "nbpresent": {
   "slides": {
    "06673961-d8a5-4267-a63d-f313583104d9": {
     "id": "06673961-d8a5-4267-a63d-f313583104d9",
     "prev": "0879f191-9570-41d0-8172-779e645958bf",
     "regions": {
      "c4b181e9-2fef-4c54-a02d-add6a6973d29": {
       "attrs": {
        "height": 0.8,
        "width": 0.8,
        "x": 0.1,
        "y": 0.1
       },
       "content": {
        "cell": "85cfbf31-402d-4db2-8b14-0d0c0d847f8b",
        "part": "whole"
       },
       "id": "c4b181e9-2fef-4c54-a02d-add6a6973d29"
      }
     }
    },
    "0879f191-9570-41d0-8172-779e645958bf": {
     "id": "0879f191-9570-41d0-8172-779e645958bf",
     "prev": "67db25c5-f042-401f-8d2a-56ba736d31ae",
     "regions": {
      "4df75cd2-c637-493e-a7cf-5f96fb3013ca": {
       "attrs": {
        "height": 0.8,
        "width": 0.8,
        "x": 0.1,
        "y": 0.1
       },
       "content": {
        "cell": "daf8cfb3-efc8-4e87-b318-e5ad4c12f9b7",
        "part": "whole"
       },
       "id": "4df75cd2-c637-493e-a7cf-5f96fb3013ca"
      }
     }
    },
    "135b3672-2ba5-4f92-bdc7-4113351248a2": {
     "id": "135b3672-2ba5-4f92-bdc7-4113351248a2",
     "prev": "53b495c0-f73a-4af8-90a9-06052a15578c",
     "regions": {
      "29d2786a-e00f-4936-8f88-98d140ceb69d": {
       "attrs": {
        "height": 0.8,
        "width": 0.8,
        "x": 0.1,
        "y": 0.1
       },
       "content": {
        "cell": "ae941080-9b54-48d0-9c2e-d789737ca6a3",
        "part": "whole"
       },
       "id": "29d2786a-e00f-4936-8f88-98d140ceb69d"
      }
     }
    },
    "234a438e-9bbd-4d7c-aa4d-60a6ad360cad": {
     "id": "234a438e-9bbd-4d7c-aa4d-60a6ad360cad",
     "prev": "85cdfd47-b188-4127-b6ce-f2d6269764ca",
     "regions": {
      "44c764a2-1cf0-4fc0-91cb-0cb9bcefb745": {
       "attrs": {
        "height": 0.8,
        "width": 0.8,
        "x": 0.1,
        "y": 0.1
       },
       "content": {
        "cell": "dfdb1509-35cf-46ef-8552-f6b07ed1fbaf",
        "part": "whole"
       },
       "id": "44c764a2-1cf0-4fc0-91cb-0cb9bcefb745"
      }
     }
    },
    "338a1c9f-d631-4cd8-9830-35c4b298ee7d": {
     "id": "338a1c9f-d631-4cd8-9830-35c4b298ee7d",
     "prev": "f609d9b0-5a29-4ccc-84bf-e74355ab7eff",
     "regions": {
      "cd095279-4007-4e90-b96e-0b95b9ec3a3d": {
       "attrs": {
        "height": 0.8,
        "width": 0.8,
        "x": 0.1,
        "y": 0.1
       },
       "content": {
        "cell": "b5521ec6-6f3a-4b09-ab8e-955e09c040c2",
        "part": "whole"
       },
       "id": "cd095279-4007-4e90-b96e-0b95b9ec3a3d"
      }
     }
    },
    "53b495c0-f73a-4af8-90a9-06052a15578c": {
     "id": "53b495c0-f73a-4af8-90a9-06052a15578c",
     "prev": "be1c5d87-98b8-4a00-8fee-ab6aa9209fa8",
     "regions": {
      "ae2aebd0-8691-47f8-8aab-528a9c1ce2bf": {
       "attrs": {
        "height": 0.8,
        "width": 0.8,
        "x": 0.1,
        "y": 0.1
       },
       "content": {
        "cell": "41a29509-236f-4951-a9d2-6c2cf4963c6b",
        "part": "whole"
       },
       "id": "ae2aebd0-8691-47f8-8aab-528a9c1ce2bf"
      }
     }
    },
    "579d08fd-aae6-4977-a954-3bfed185e258": {
     "id": "579d08fd-aae6-4977-a954-3bfed185e258",
     "prev": "338a1c9f-d631-4cd8-9830-35c4b298ee7d",
     "regions": {
      "12149eb4-94d4-40e8-8ed1-5b01b3dc17ab": {
       "attrs": {
        "height": 0.8,
        "width": 0.8,
        "x": 0.1,
        "y": 0.1
       },
       "content": {
        "cell": "d1c43f06-e63a-4006-84fe-a80d43007720",
        "part": "whole"
       },
       "id": "12149eb4-94d4-40e8-8ed1-5b01b3dc17ab"
      }
     }
    },
    "67db25c5-f042-401f-8d2a-56ba736d31ae": {
     "id": "67db25c5-f042-401f-8d2a-56ba736d31ae",
     "prev": "579d08fd-aae6-4977-a954-3bfed185e258",
     "regions": {
      "8a7cf766-88b1-4512-ba59-c0907d84e812": {
       "attrs": {
        "height": 0.8,
        "width": 0.8,
        "x": 0.1,
        "y": 0.1
       },
       "content": {
        "cell": "6d01f784-fa77-43fc-a1de-5dca9733fe37",
        "part": "whole"
       },
       "id": "8a7cf766-88b1-4512-ba59-c0907d84e812"
      }
     }
    },
    "6864bc82-39ed-4597-9643-1f9eaebaa4ad": {
     "id": "6864bc82-39ed-4597-9643-1f9eaebaa4ad",
     "prev": null,
     "regions": {
      "458e5b71-90c5-4b8b-946f-3dbd0acabdd0": {
       "attrs": {
        "height": 0.8,
        "width": 0.8,
        "x": 0.1,
        "y": 0.1
       },
       "content": {
        "cell": "324c3256-4054-4685-a71c-ae0fe87670c2",
        "part": "whole"
       },
       "id": "458e5b71-90c5-4b8b-946f-3dbd0acabdd0"
      }
     }
    },
    "85cdfd47-b188-4127-b6ce-f2d6269764ca": {
     "id": "85cdfd47-b188-4127-b6ce-f2d6269764ca",
     "prev": "135b3672-2ba5-4f92-bdc7-4113351248a2",
     "regions": {
      "660896c7-2008-4690-a456-0f728323a4e9": {
       "attrs": {
        "height": 0.8,
        "width": 0.8,
        "x": 0.1,
        "y": 0.1
       },
       "content": {
        "cell": "ff5d24f2-939f-4007-9892-f241c94b9e6f",
        "part": "whole"
       },
       "id": "660896c7-2008-4690-a456-0f728323a4e9"
      }
     }
    },
    "be1c5d87-98b8-4a00-8fee-ab6aa9209fa8": {
     "id": "be1c5d87-98b8-4a00-8fee-ab6aa9209fa8",
     "prev": "6864bc82-39ed-4597-9643-1f9eaebaa4ad",
     "regions": {
      "02737d00-d567-4b1e-b981-39dc866fb994": {
       "attrs": {
        "height": 0.8,
        "width": 0.8,
        "x": 0.1,
        "y": 0.1
       },
       "content": {
        "cell": "77420740-c7d1-42dc-8cbf-f131e6ac7001",
        "part": "whole"
       },
       "id": "02737d00-d567-4b1e-b981-39dc866fb994"
      }
     }
    },
    "f609d9b0-5a29-4ccc-84bf-e74355ab7eff": {
     "id": "f609d9b0-5a29-4ccc-84bf-e74355ab7eff",
     "prev": "234a438e-9bbd-4d7c-aa4d-60a6ad360cad",
     "regions": {
      "aec5f004-bdc5-449c-80b3-52d3a1ae4596": {
       "attrs": {
        "height": 0.8,
        "width": 0.8,
        "x": 0.1,
        "y": 0.1
       },
       "content": {
        "cell": "439e3e1e-bdee-49a7-9a18-11f87ded9522",
        "part": "whole"
       },
       "id": "aec5f004-bdc5-449c-80b3-52d3a1ae4596"
      }
     }
    }
   },
   "themes": {}
  }
 },
 "nbformat": 4,
 "nbformat_minor": 1
}
