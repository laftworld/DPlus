{
 "cells": [
  {
   "cell_type": "markdown",
   "metadata": {
    "nbpresent": {
     "id": "324c3256-4054-4685-a71c-ae0fe87670c2"
    }
   },
   "source": [
    "# 02. Numpy\n",
    "\n",
    "<p style=\"text-align: right;\">\n",
    "blackdew7@gmail.com<br>\n",
    "Your name :\n",
    "</p>\n",
    "\n",
    "### 파이썬 실습시간 그 두번째!<br>\n",
    "\n",
    "Numpy는 데이터 과학을 위한 핵심 라이브러리입니다.\n",
    "고성능 다차원 배열과 배열 연산을 위한 유용한 도구를 제공합니다\n",
    "\n",
    "#### 선행지식\n",
    "1. Python 언어 기초.\n",
    "2. 행렬에 대한 이해와 약간의 수학적 지식.\n",
    "\n",
    "#### 실습목표\n",
    "1. numpy를 이용하여 다양한 모양(shape)의 행렬 array를 만들 수 있습니다. \n",
    "2. numpy를 이용하여 다양한 행렬 연산을 수행할 수 있습니다. \n",
    "3. 2-d 어레이(혹은 그 이상)를 만들기. \n",
    "4. 1-d array를 2-d array로 만들기. \n",
    "5. 행렬 간의 곱셈.\n",
    "6. csv파일 읽기. \n",
    "7. numpy array를 python list로 변환, python list를 numpy array로 변환\n",
    "8. array shuffle, split, sampling (복원/비복원 둘 다.)\n"
   ]
  },
  {
   "cell_type": "markdown",
   "metadata": {
    "nbpresent": {
     "id": "77420740-c7d1-42dc-8cbf-f131e6ac7001"
    }
   },
   "source": [
    "## 00. 라이브러리 불러오기"
   ]
  },
  {
   "cell_type": "code",
   "execution_count": null,
   "metadata": {
    "collapsed": true,
    "nbpresent": {
     "id": "41a29509-236f-4951-a9d2-6c2cf4963c6b"
    }
   },
   "outputs": [],
   "source": [
    "import numpy as np"
   ]
  },
  {
   "cell_type": "code",
   "execution_count": null,
   "metadata": {
    "collapsed": true
   },
   "outputs": [],
   "source": [
    "data = np.genfromtxt(\"./resources/graduate_apply.csv\", delimiter=\",\", names=True)\n",
    "print(type(data))\n",
    "print(data.shape)\n"
   ]
  },
  {
   "cell_type": "code",
   "execution_count": null,
   "metadata": {
    "collapsed": true
   },
   "outputs": [],
   "source": [
    "import numpy\n",
    "data1 = numpy.genfromtxt(\"./resources/graduate_apply.csv\", delimiter=\",\", names=True)\n",
    "print(type(data1))\n",
    "print(data1.shape)"
   ]
  },
  {
   "cell_type": "code",
   "execution_count": null,
   "metadata": {
    "collapsed": true
   },
   "outputs": [],
   "source": [
    "from numpy import genfromtxt as ggg\n",
    "data2 = ggg(\"./resources/graduate_apply.csv\", delimiter=\",\", names=True)\n",
    "print(type(data2))\n",
    "print(data2.shape)"
   ]
  },
  {
   "cell_type": "code",
   "execution_count": null,
   "metadata": {
    "collapsed": true
   },
   "outputs": [],
   "source": [
    "# 유용한 라이브러리\n",
    "import time\n",
    "import os\n",
    "\n",
    "print(time.clock())\n",
    "print(os.getcwd())"
   ]
  },
  {
   "cell_type": "code",
   "execution_count": null,
   "metadata": {
    "collapsed": true
   },
   "outputs": [],
   "source": [
    "# 유용한 라이브러리 02\n",
    "\n",
    "%matplotlib inline\n",
    "import matplotlib.pyplot as plt\n",
    "import matplotlib.image as mpimg\n",
    "\n",
    "img = mpimg.imread('https://upload.wikimedia.org/wikipedia/commons/a/a4/TensorFlowLogo.png')\n",
    "imgplot = plt.imshow(img)\n"
   ]
  },
  {
   "cell_type": "markdown",
   "metadata": {
    "nbpresent": {
     "id": "ae941080-9b54-48d0-9c2e-d789737ca6a3"
    }
   },
   "source": [
    "## 01. Arrays 생성"
   ]
  },
  {
   "cell_type": "code",
   "execution_count": null,
   "metadata": {
    "collapsed": true,
    "nbpresent": {
     "id": "ff5d24f2-939f-4007-9892-f241c94b9e6f"
    }
   },
   "outputs": [],
   "source": [
    "# Numpy 배열 생성하기\n",
    "\n",
    "# rank 1 array 생성\n",
    "a = np.array([1, 2, 3])\n",
    "print(type(a))            # \"<class 'numpy.ndarray'>\"\n",
    "print(a.shape)            # \"(3,)\"\n",
    "print(a[0], a[1], a[2])   # \"1 2 3\"\n",
    "\n",
    "# 값 변경\n",
    "a[0] = 5\n",
    "print(a)                  # \"[5, 2, 3]\"\n",
    "\n",
    "# rank 2 array 생성\n",
    "b = np.array([[1, 2, 3], \n",
    "              [4, 5, 6]])\n",
    "print(b.shape)                     # \"(2, 3)\" (* 주의: 3x2 행렬)\n",
    "print(b[0, 0], b[0, 1], b[1, 0])   # \"1 2 4\"\n"
   ]
  },
  {
   "cell_type": "markdown",
   "metadata": {},
   "source": [
    "### reshape"
   ]
  },
  {
   "cell_type": "code",
   "execution_count": null,
   "metadata": {
    "collapsed": true
   },
   "outputs": [],
   "source": [
    "# reshape\n",
    "c = np.reshape(b, (3, 2))\n",
    "print(c.shape)                     # \"(3, 2)\" (* 주의: 2x3 행렬)\n",
    "\n",
    "# 64 * 64 * 3\n",
    "arr = np.zeros((64, 64, 3))\n",
    "print(arr.shape)\n",
    "\n",
    "b = arr.reshape(64 * 64, 3) \n",
    "print(b.shape)\n",
    "\n",
    "# -1은 1차와 2차의 크기를 16과 16으로 맞추고 남은 나머지라는 뜻입니다. \n",
    "c = arr.reshape(16, 16, -1) \n",
    "print(c.shape) \n",
    "# (64 * 64 * 3) / (16 * 16) = 48이므로 배열의 세 번째 차원의 크기는 48이 됩니다.\n"
   ]
  },
  {
   "cell_type": "markdown",
   "metadata": {},
   "source": [
    "### 여러가지 array 생성함수"
   ]
  },
  {
   "cell_type": "code",
   "execution_count": null,
   "metadata": {
    "collapsed": true,
    "nbpresent": {
     "id": "dfdb1509-35cf-46ef-8552-f6b07ed1fbaf"
    }
   },
   "outputs": [],
   "source": [
    "# Numpy는 배열을 생성하는 다양한 함수를 제공합니다.\n",
    "\n",
    "# 0으로 채워진 array 생성\n",
    "a = np.zeros((2, 2))\n",
    "print(a)              # \"[[ 0.  0.]\n",
    "                      #   [ 0.  0.]]\"\n",
    "\n",
    "# 1로 채워진 array 생성\n",
    "b = np.ones((1, 2))\n",
    "print(b)              # \"[[ 1.  1.]]\"\n",
    "\n",
    "# 특정 값으로 채워진 array 생성\n",
    "c = np.full((2, 2), 7.)  \n",
    "print(c)               # \"[[ 7.  7.]\n",
    "                       #   [ 7.  7.]]\"\n",
    "\n",
    "# 2x2 단위 행렬(identity matrix) 생성\n",
    "d = np.eye(2)\n",
    "print(d)              # \"[[ 1.  0.]\n",
    "                      #   [ 0.  1.]]\"\n",
    "\n",
    "# 랜덤값으로 채운 array 생성\n",
    "e = np.random.random((2, 2))\n",
    "print(e)"
   ]
  },
  {
   "cell_type": "markdown",
   "metadata": {},
   "source": [
    "### 실습"
   ]
  },
  {
   "cell_type": "code",
   "execution_count": null,
   "metadata": {
    "collapsed": true
   },
   "outputs": [],
   "source": [
    "a = [1, 2, 3, 4, 5, 6]\n",
    "\n",
    "# a를 가지고 numpy array np_01을 생성하시오\n",
    "np_01 = \n",
    "\n",
    "# np_01의 shape를 확인하시오.\n",
    "\n",
    "# np_01의 shape를 (6, 1)로 변환하여 np_02에 넣으세요. \n",
    "\n",
    "# np_01의 shape를 (1, 6)로 변환하여 np_03에 넣으세요. \n",
    "\n",
    "# np_01의 shape를 (-1, 2)로 변환하여 np_04에 넣으세요. \n",
    "\n",
    "# np_01, np_02, np_03, np_04의 모양을 출력하시고 shape와 실제 값의 모양을 확인하세요. \n",
    "\n",
    "# 랜덤값으로 채운 (28, 28) numpy array를 생성하여 nmist_sample 변수에 담으세요.\n"
   ]
  },
  {
   "cell_type": "markdown",
   "metadata": {
    "nbpresent": {
     "id": "439e3e1e-bdee-49a7-9a18-11f87ded9522"
    }
   },
   "source": [
    "## 02. Array Indexing - Slice"
   ]
  },
  {
   "cell_type": "code",
   "execution_count": null,
   "metadata": {
    "collapsed": true,
    "nbpresent": {
     "id": "b5521ec6-6f3a-4b09-ab8e-955e09c040c2"
    }
   },
   "outputs": [],
   "source": [
    "# 다음의 shape을 가지는 array 생성\n",
    "# [[ 1  2  3  4]\n",
    "#  [ 5  6  7  8]\n",
    "#  [ 9 10 11 12]]\n",
    "a = np.array([[1, 2, 3, 4], [5, 6, 7, 8], [9, 10, 11, 12]])\n",
    "# shape (3, 4) - 4x3 행렬\n",
    "\n",
    "# Slice를 이용하여 하위 배열 잘라내기.\n",
    "# [[2 3]\n",
    "#  [6 7]]\n",
    "b = a[:2, 1:3]\n",
    "\n",
    "# 배열의 조각을 수정하면 원래 배열이 수정됩니다.\n",
    "print(a[0, 1])   # \"2\"\n",
    "b[0, 0] = 77     # b[0, 0] = a[0, 1]\n",
    "print(a[0, 1])   # \"77\""
   ]
  },
  {
   "cell_type": "code",
   "execution_count": null,
   "metadata": {
    "collapsed": true,
    "nbpresent": {
     "id": "d1c43f06-e63a-4006-84fe-a80d43007720"
    }
   },
   "outputs": [],
   "source": [
    "# 다음의 shape을 가지는 array 생성\n",
    "# [[ 1  2  3  4]\n",
    "#  [ 5  6  7  8]\n",
    "#  [ 9 10 11 12]]\n",
    "a = np.array([[1, 2, 3, 4], [5, 6, 7, 8], [9, 10, 11, 12]])\n",
    "\n",
    "# 데이터에 액세스하는 두 가지 방법.\n",
    "\n",
    "# 행\n",
    "# 1. 정수 인덱스와 슬라이스를 섞으면 더 낮은 순위의 배열이 생성됩니다. \n",
    "row_r1 = a[1, :]             # Rank 1\n",
    "print(row_r1, row_r1.shape)  # \"[5 6 7 8] (4,)\"\n",
    "\n",
    "# 2. 슬라이스만 사용하면 원래 배열과 동일한 순위의 배열이 생성됩니다.\n",
    "row_r2 = a[1:2, :]           # Rank 2\n",
    "print(row_r2, row_r2.shape)  # \"[[5 6 7 8]] (1, 4)\"\n",
    "\n",
    "# 열\n",
    "col_r1 = a[:, 1]\n",
    "print(col_r1, col_r1.shape)  # \"[ 2  6 10] (3,)\"\n",
    "\n",
    "col_r2 = a[:, 1:2]\n",
    "print(col_r2, col_r2.shape)  # \"[[ 2]\n",
    "                             #   [ 6]\n",
    "                             #   [10]] (3, 1)\""
   ]
  },
  {
   "cell_type": "code",
   "execution_count": null,
   "metadata": {
    "collapsed": true,
    "nbpresent": {
     "id": "6d01f784-fa77-43fc-a1de-5dca9733fe37"
    }
   },
   "outputs": [],
   "source": [
    "# Integer array indexing\n",
    "a = np.array([[1, 2], [3, 4], [5, 6]])\n",
    "b = a[[0, 1, 2]]\n",
    "\n",
    "# \"[1 4 5]\"\n",
    "print(a[[0, 1, 2], [0, 1, 0]])                \n",
    "print(np.array([a[0, 0], a[1, 1], a[2, 0]]))\n",
    "\n",
    "# 같은 위치 데이터를 여러번 사용할 수 있음\n",
    "# \"[2 2]\"\n",
    "print(a[[0, 0], [1, 1]])\n",
    "print(np.array([a[0, 1], a[0, 1]]))  "
   ]
  },
  {
   "cell_type": "code",
   "execution_count": null,
   "metadata": {
    "collapsed": true
   },
   "outputs": [],
   "source": [
    "a = np.array([[1, 2, 3], [4, 5, 6], [7, 8, 9], [10, 11, 12]])\n",
    "print(a)  # \"array([[ 1,  2,  3],\n",
    "          #         [ 4,  5,  6],\n",
    "          #         [ 7,  8,  9],\n",
    "          #         [10, 11, 12]])\"\n",
    "\n",
    "# element 선택 방식\n",
    "b = np.arange(4)\n",
    "c = np.array([0, 2, 0, 1])\n",
    "print(a[b, c])  # \"[ 1  6  7 11]\"\n",
    "\n",
    "# 선택된 모든 element를 변경\n",
    "a[b, c] += 10\n",
    "\n",
    "print(a)  # prints \"array([[11,  2,  3],\n",
    "          #                [ 4,  5, 16],\n",
    "          #                [17,  8,  9],\n",
    "          #                [10, 21, 12]])"
   ]
  },
  {
   "cell_type": "code",
   "execution_count": null,
   "metadata": {
    "collapsed": true
   },
   "outputs": [],
   "source": [
    "# Boolean array indexing\n",
    "\n",
    "a = np.array([[1, 2], [3, 4], [5, 6]])\n",
    "bool_idx = (a > 2)\n",
    "print(bool_idx)      # \"[[False False]\n",
    "                     #   [ True  True]\n",
    "                     #   [ True  True]]\"\n",
    "\n",
    "print(a[bool_idx])  # \"[3 4 5 6]\"\n",
    "print(a[a > 2])     # \"[3 4 5 6]\""
   ]
  },
  {
   "cell_type": "markdown",
   "metadata": {},
   "source": [
    "### 실습"
   ]
  },
  {
   "cell_type": "code",
   "execution_count": null,
   "metadata": {
    "collapsed": true
   },
   "outputs": [],
   "source": [
    "# 다음의 shape을 가지는 numpy array를 생성하여 np_arr 변수에 담으세요\n",
    "# [[  1  2  3]\n",
    "#  [  4  5  6]\n",
    "#  [  7  8  9]\n",
    "#  [ 10 11 12]]\n",
    "\n",
    "\n",
    "# np_arr의 shape를 확인하세요. \n",
    "\n",
    "# np_arr의 3행의 데이터를 낮은 순위의 배열로 출력하세요.\n",
    "# [7 8 9]\n",
    "\n",
    "# np_arr의 2열의 데이터를 낮은 순위의 배열로 출력하세요.\n",
    "# [2 5 8 11]\n",
    "\n",
    "# 아래의 출력문이 어떤 값을 출력할 지 추측한 후에 결과를 확인하세요.\n",
    "print(np_arr[[0, 1, 2, 3], [1, 0, 1, 2]])\n",
    "\n",
    "# 위의 실습에서 선택된 element 값을 모두 2배로 만드세요.\n",
    "\n",
    "# np_arr을 출력해 봅니다.\n",
    "\n",
    "# np_arr의 element중에 3의 배수인 element만 찾습니다. (3의 배수 찾는 법: x % 3 == 0)\n"
   ]
  },
  {
   "cell_type": "markdown",
   "metadata": {},
   "source": [
    "## 03. Data 변환"
   ]
  },
  {
   "cell_type": "code",
   "execution_count": null,
   "metadata": {
    "collapsed": true
   },
   "outputs": [],
   "source": [
    "x = np.array([1, 2])\n",
    "print(x.dtype)             # \"int64\"\n",
    "\n",
    "x = np.array([1.0, 2.0])\n",
    "print(x.dtype)             #\"float64\"\n",
    "\n",
    "x = np.array([1, 2], dtype=np.int32)   # 강제로 데이터 형식 지정\n",
    "print(x.dtype)                         # \"int32\""
   ]
  },
  {
   "cell_type": "code",
   "execution_count": null,
   "metadata": {
    "collapsed": true
   },
   "outputs": [],
   "source": [
    "# Numpy Array\n",
    "x = np.array([1, 2])\n",
    "print(type(x))             # <class ‘numpy.ndarray’>\n",
    "\n",
    "# numpy.ndarray to list\n",
    "y = x.tolist()\n",
    "print(y)            \t   # [1, 2]\n",
    "Print(type(y))             # <class ‘list’>"
   ]
  },
  {
   "cell_type": "markdown",
   "metadata": {},
   "source": [
    "## 04. Array Math"
   ]
  },
  {
   "cell_type": "code",
   "execution_count": null,
   "metadata": {
    "collapsed": true
   },
   "outputs": [],
   "source": [
    "x = np.array([[1, 2], [3, 4]], dtype=np.float64)\n",
    "y = np.array([[5, 6], [7, 8]], dtype=np.float64)\n",
    "\n",
    "# array 더하기\n",
    "# [[ 6.0  8.0]\n",
    "#  [10.0 12.0]]\n",
    "print(x + y)\n",
    "print(np.add(x, y))\n",
    "\n",
    "# array 빼기\n",
    "# [[-4.0 -4.0]\n",
    "#  [-4.0 -4.0]]\n",
    "print(x - y)\n",
    "print(np.subtract(x, y))\n",
    "\n",
    "# array 곱하기\n",
    "# [[ 5.0 12.0]\n",
    "#  [21.0 32.0]]\n",
    "print(x * y)\n",
    "print(np.multiply(x, y))\n",
    "\n",
    "# array 나누기\n",
    "# [[ 0.2         0.33333333]\n",
    "#  [ 0.42857143  0.5       ]]\n",
    "print(x / y)\n",
    "print(np.divide(x, y))\n",
    "\n",
    "# array 제곱\n",
    "# [[ 1.          1.41421356]\n",
    "#  [ 1.73205081  2.        ]]\n",
    "print(np.sqrt(x))"
   ]
  },
  {
   "cell_type": "code",
   "execution_count": null,
   "metadata": {
    "collapsed": true
   },
   "outputs": [],
   "source": [
    "# 행렬곱\n",
    "\n",
    "x = np.array([[1, 2], [3, 4]])\n",
    "y = np.array([[5, 6], [7, 8]])\n",
    "\n",
    "v = np.array([9, 10])\n",
    "w = np.array([11, 12])\n",
    "\n",
    "# (1, 2) * (1, 2), 219\n",
    "print(9 * 11 + 10 * 12)\n",
    "print(v.dot(w))\n",
    "print(np.dot(v, w))\n",
    "\n",
    "# (2, 2) * (1, 2), rank 2 array\n",
    "print(\"(1, 1): %d\" % (1 * 9 + 2 * 10))\n",
    "print(\"(1, 2): %d\" % (3 * 9 + 4 * 10))\n",
    "print(x.dot(v))\n",
    "print(np.dot(x, v))\n",
    "\n",
    "# (2, 2) * (2, 2), rank 2 array\n",
    "# [[19 22]\n",
    "#  [43 50]]\n",
    "print(\"(1, 1): %d\" % (1 * 5 + 2 * 7))\n",
    "print(\"(1, 2): %d\" % (1 * 6 + 2 * 8))\n",
    "print(\"(2, 1): %d\" % (3 * 5 + 4 * 7))\n",
    "print(\"(2, 2): %d\" % (3 * 6 + 4 * 8))\n",
    "print(x.dot(y))\n",
    "print(np.dot(x, y))"
   ]
  },
  {
   "cell_type": "code",
   "execution_count": null,
   "metadata": {
    "collapsed": true
   },
   "outputs": [],
   "source": [
    "x = np.array([[1, 2], [3, 4]])\n",
    "\n",
    "# 합산\n",
    "print(np.sum(x))          # \"10\"\n",
    "\n",
    "# 열 합산\n",
    "print(np.sum(x, axis=0))  # \"[4 6]\"\n",
    "\n",
    "# 행 합산\n",
    "print(np.sum(x, axis=1))  # \"[3 7]\""
   ]
  },
  {
   "cell_type": "code",
   "execution_count": null,
   "metadata": {
    "collapsed": true
   },
   "outputs": [],
   "source": [
    "x = np.array([[1, 2], [3, 4]])\n",
    "print(x)    # \"[[1 2]\n",
    "            #   [3 4]]\"\n",
    "\n",
    "# 전치 행렬\n",
    "print(x.T)  # \"[[1 3]\n",
    "            #   [2 4]]\"\n",
    "\n",
    "x = np.array([1, 2, 3, 4], ndmin=2) # ndmin 없이 해보기\n",
    "print(x)   \t    # \"[[1 2 3 4]]\"\n",
    "print(x.shape)  # (1, 4)\n",
    "\n",
    "# 전치 행렬\n",
    "print(x.T)  # \"[[1]\n",
    "            #   [2]\n",
    "            #   [3]\n",
    "            #   [4]]”\n",
    "            \n",
    "# rank 1 에서는 변화가 없음\n",
    "v = np.array([1,2,3])\n",
    "print(v)    # \"[1 2 3]\"\n",
    "print(v.T)  # \"[1 2 3]\""
   ]
  },
  {
   "cell_type": "markdown",
   "metadata": {},
   "source": [
    "### 실습"
   ]
  },
  {
   "cell_type": "code",
   "execution_count": null,
   "metadata": {
    "collapsed": true
   },
   "outputs": [],
   "source": [
    "# 랜덤값으로 채운 (4, 3) numpy array를 생성하여 rand 변수에 담으세요.\n",
    "\n",
    "# rand를 출력하세요.\n",
    "\n",
    "# rand를 열 방향으로 합산하세요.\n",
    "\n",
    "# rand를 행 방향으로 합산하세요.\n",
    "\n",
    "# rand의 전치 행렬을 출력하세요."
   ]
  },
  {
   "cell_type": "markdown",
   "metadata": {},
   "source": [
    "## 05. Broadcasting"
   ]
  },
  {
   "cell_type": "code",
   "execution_count": null,
   "metadata": {
    "collapsed": true
   },
   "outputs": [],
   "source": [
    "x = np.array([[1, 2, 3], [4, 5, 6], [7, 8, 9], [10, 11, 12]])\n",
    "v = np.array([1, 0, 1])\n",
    "\n",
    "# x와 같은 shape의 0행렬 생성\n",
    "y = np.empty_like(x)\n",
    "\n",
    "# x의 행과 v의 모양이 같으므로 각 행에 v를 더한다.\n",
    "for i in range(4):\n",
    "    y[i, :] = x[i, :] + v\n",
    "\n",
    "# y에 들어있는 결과 확인\n",
    "# [[ 2  2  4]\n",
    "#  [ 5  5  7]\n",
    "#  [ 8  8 10]\n",
    "#  [11 11 13]]\n",
    "print(y)"
   ]
  },
  {
   "cell_type": "code",
   "execution_count": null,
   "metadata": {
    "collapsed": true
   },
   "outputs": [],
   "source": [
    "x = np.array([[1, 2, 3], [4, 5, 6], [7, 8, 9], [10, 11, 12]])\n",
    "v = np.array([1, 0, 1])\n",
    "\n",
    "# v를 여러개 쌓아 큰 배열의 모양으로 배열을 만든다.\n",
    "vv = np.tile(v, (4, 1))\n",
    "print(vv)                 # \"[[1 0 1]\n",
    "                          #   [1 0 1]\n",
    "                          #   [1 0 1]\n",
    "                          #   [1 0 1]]\"\n",
    "y = x + vv\n",
    "print(y)    # \"[[ 2  2  4\n",
    "            #   [ 5  5  7]\n",
    "            #   [ 8  8 10]\n",
    "            #   [11 11 13]]\""
   ]
  },
  {
   "cell_type": "code",
   "execution_count": null,
   "metadata": {
    "collapsed": true
   },
   "outputs": [],
   "source": [
    "x = np.array([[1, 2, 3], [4, 5, 6], [7, 8, 9], [10, 11, 12]])\n",
    "v = np.array([1, 0, 1])\n",
    "y = x + v  # broadcasting, v를 x의 각 행에 더한다.\n",
    "print(y)   # \"[[ 2  2  4]\n",
    "           #   [ 5  5  7]\n",
    "           #   [ 8  8 10]\n",
    "           #   [11 11 13]]\""
   ]
  },
  {
   "cell_type": "code",
   "execution_count": null,
   "metadata": {
    "collapsed": true
   },
   "outputs": [],
   "source": [
    "x = np.array([[1, 2, 3], [4, 5, 6]])\n",
    "v = np.array([1, 2, 3])  # shape (3,)\n",
    "w = np.array([4, 5])     # shape (2,)\n",
    "\n",
    "print('------')\n",
    "print(x)\n",
    "print(x * 2)\n",
    "# [[ 2  4  6]\n",
    "#  [ 8 10 12]]\n",
    "\n",
    "print('------')\n",
    "print(x + v)\n",
    "# [[2 4 6]\n",
    "#  [5 7 9]]\n",
    "\n",
    "print('------')\n",
    "print(v)\n",
    "print(np.reshape(v, (3, 1)))\n",
    "print(w)\n",
    "# 1x3 행렬 * 2x1 행렬 => 2x3 행렬\n",
    "print(np.reshape(v, (3, 1)) * w)\n",
    "# [[ 4  5]\n",
    "#  [ 8 10]\n",
    "#  [12 15]]\n",
    "\n",
    "print('------')\n",
    "print(x)\n",
    "print(x.T)\n",
    "print(w)\n",
    "print(x.T + w)\n",
    "print((x.T + w).T)\n",
    "# [[ 5  6  7]\n",
    "#  [ 9 10 11]]\n",
    "\n",
    "print('------')\n",
    "print(x)\n",
    "print(np.reshape(w, (2, 1)))\n",
    "print(x + np.reshape(w, (2, 1)))"
   ]
  },
  {
   "cell_type": "markdown",
   "metadata": {},
   "source": [
    "### shuffle"
   ]
  },
  {
   "cell_type": "code",
   "execution_count": null,
   "metadata": {
    "collapsed": true
   },
   "outputs": [],
   "source": [
    "data = np.genfromtxt(\"./resources/graduate_apply.csv\", delimiter=\",\", names=True)\n",
    "\n",
    "print(data[0:10])\n",
    "\n",
    "# Shuffle\n",
    "np.random.shuffle(data)\n",
    "\n",
    "print(data[0:10])"
   ]
  },
  {
   "cell_type": "markdown",
   "metadata": {},
   "source": [
    "### split"
   ]
  },
  {
   "cell_type": "code",
   "execution_count": null,
   "metadata": {
    "collapsed": true
   },
   "outputs": [],
   "source": [
    "# Split\n",
    "s1, s2, s3, s4 = data[:100], data[100:200], data[200:300], data[300:]\n",
    "print(len(s1))\n",
    "print(s1)\n",
    "print(len(s2))\n",
    "print(len(s3))\n",
    "print(len(s4))\n"
   ]
  },
  {
   "cell_type": "markdown",
   "metadata": {},
   "source": [
    "### 실습"
   ]
  },
  {
   "cell_type": "code",
   "execution_count": null,
   "metadata": {
    "collapsed": true
   },
   "outputs": [],
   "source": [
    "# ./resources/graduate_apply.csv 파일을 읽어서 apply 변수에 담으세요. \n",
    "\n",
    "# apply의 element 갯수를 확인하세요. (400)\n",
    "\n",
    "# apply의 데이터 중 0 ~ 300 까지의 행은 train 변수에, 300 ~ 마지막 까지의 행은 test 변수에 담으세요.\n",
    "\n",
    "# train에 담겨있는 데이터를 suffle 하세요.\n"
   ]
  },
  {
   "cell_type": "markdown",
   "metadata": {},
   "source": [
    "## Numpy Documentation\n",
    "\n",
    "This brief overview has touched on many of the important things that you need to know about numpy, but is far from complete. Check out the <a href=\"http://docs.scipy.org/doc/numpy/reference/\">numpy reference</a> to find out much more about numpy."
   ]
  }
 ],
 "metadata": {
  "anaconda-cloud": {},
  "kernelspec": {
   "display_name": "Python 3",
   "language": "python",
   "name": "python3"
  },
  "language_info": {
   "codemirror_mode": {
    "name": "ipython",
    "version": 3
   },
   "file_extension": ".py",
   "mimetype": "text/x-python",
   "name": "python",
   "nbconvert_exporter": "python",
   "pygments_lexer": "ipython3",
   "version": "3.6.2"
  },
  "nbpresent": {
   "slides": {
    "06673961-d8a5-4267-a63d-f313583104d9": {
     "id": "06673961-d8a5-4267-a63d-f313583104d9",
     "prev": "0879f191-9570-41d0-8172-779e645958bf",
     "regions": {
      "c4b181e9-2fef-4c54-a02d-add6a6973d29": {
       "attrs": {
        "height": 0.8,
        "width": 0.8,
        "x": 0.1,
        "y": 0.1
       },
       "content": {
        "cell": "85cfbf31-402d-4db2-8b14-0d0c0d847f8b",
        "part": "whole"
       },
       "id": "c4b181e9-2fef-4c54-a02d-add6a6973d29"
      }
     }
    },
    "0879f191-9570-41d0-8172-779e645958bf": {
     "id": "0879f191-9570-41d0-8172-779e645958bf",
     "prev": "67db25c5-f042-401f-8d2a-56ba736d31ae",
     "regions": {
      "4df75cd2-c637-493e-a7cf-5f96fb3013ca": {
       "attrs": {
        "height": 0.8,
        "width": 0.8,
        "x": 0.1,
        "y": 0.1
       },
       "content": {
        "cell": "daf8cfb3-efc8-4e87-b318-e5ad4c12f9b7",
        "part": "whole"
       },
       "id": "4df75cd2-c637-493e-a7cf-5f96fb3013ca"
      }
     }
    },
    "135b3672-2ba5-4f92-bdc7-4113351248a2": {
     "id": "135b3672-2ba5-4f92-bdc7-4113351248a2",
     "prev": "53b495c0-f73a-4af8-90a9-06052a15578c",
     "regions": {
      "29d2786a-e00f-4936-8f88-98d140ceb69d": {
       "attrs": {
        "height": 0.8,
        "width": 0.8,
        "x": 0.1,
        "y": 0.1
       },
       "content": {
        "cell": "ae941080-9b54-48d0-9c2e-d789737ca6a3",
        "part": "whole"
       },
       "id": "29d2786a-e00f-4936-8f88-98d140ceb69d"
      }
     }
    },
    "234a438e-9bbd-4d7c-aa4d-60a6ad360cad": {
     "id": "234a438e-9bbd-4d7c-aa4d-60a6ad360cad",
     "prev": "85cdfd47-b188-4127-b6ce-f2d6269764ca",
     "regions": {
      "44c764a2-1cf0-4fc0-91cb-0cb9bcefb745": {
       "attrs": {
        "height": 0.8,
        "width": 0.8,
        "x": 0.1,
        "y": 0.1
       },
       "content": {
        "cell": "dfdb1509-35cf-46ef-8552-f6b07ed1fbaf",
        "part": "whole"
       },
       "id": "44c764a2-1cf0-4fc0-91cb-0cb9bcefb745"
      }
     }
    },
    "338a1c9f-d631-4cd8-9830-35c4b298ee7d": {
     "id": "338a1c9f-d631-4cd8-9830-35c4b298ee7d",
     "prev": "f609d9b0-5a29-4ccc-84bf-e74355ab7eff",
     "regions": {
      "cd095279-4007-4e90-b96e-0b95b9ec3a3d": {
       "attrs": {
        "height": 0.8,
        "width": 0.8,
        "x": 0.1,
        "y": 0.1
       },
       "content": {
        "cell": "b5521ec6-6f3a-4b09-ab8e-955e09c040c2",
        "part": "whole"
       },
       "id": "cd095279-4007-4e90-b96e-0b95b9ec3a3d"
      }
     }
    },
    "53b495c0-f73a-4af8-90a9-06052a15578c": {
     "id": "53b495c0-f73a-4af8-90a9-06052a15578c",
     "prev": "be1c5d87-98b8-4a00-8fee-ab6aa9209fa8",
     "regions": {
      "ae2aebd0-8691-47f8-8aab-528a9c1ce2bf": {
       "attrs": {
        "height": 0.8,
        "width": 0.8,
        "x": 0.1,
        "y": 0.1
       },
       "content": {
        "cell": "41a29509-236f-4951-a9d2-6c2cf4963c6b",
        "part": "whole"
       },
       "id": "ae2aebd0-8691-47f8-8aab-528a9c1ce2bf"
      }
     }
    },
    "579d08fd-aae6-4977-a954-3bfed185e258": {
     "id": "579d08fd-aae6-4977-a954-3bfed185e258",
     "prev": "338a1c9f-d631-4cd8-9830-35c4b298ee7d",
     "regions": {
      "12149eb4-94d4-40e8-8ed1-5b01b3dc17ab": {
       "attrs": {
        "height": 0.8,
        "width": 0.8,
        "x": 0.1,
        "y": 0.1
       },
       "content": {
        "cell": "d1c43f06-e63a-4006-84fe-a80d43007720",
        "part": "whole"
       },
       "id": "12149eb4-94d4-40e8-8ed1-5b01b3dc17ab"
      }
     }
    },
    "67db25c5-f042-401f-8d2a-56ba736d31ae": {
     "id": "67db25c5-f042-401f-8d2a-56ba736d31ae",
     "prev": "579d08fd-aae6-4977-a954-3bfed185e258",
     "regions": {
      "8a7cf766-88b1-4512-ba59-c0907d84e812": {
       "attrs": {
        "height": 0.8,
        "width": 0.8,
        "x": 0.1,
        "y": 0.1
       },
       "content": {
        "cell": "6d01f784-fa77-43fc-a1de-5dca9733fe37",
        "part": "whole"
       },
       "id": "8a7cf766-88b1-4512-ba59-c0907d84e812"
      }
     }
    },
    "6864bc82-39ed-4597-9643-1f9eaebaa4ad": {
     "id": "6864bc82-39ed-4597-9643-1f9eaebaa4ad",
     "prev": null,
     "regions": {
      "458e5b71-90c5-4b8b-946f-3dbd0acabdd0": {
       "attrs": {
        "height": 0.8,
        "width": 0.8,
        "x": 0.1,
        "y": 0.1
       },
       "content": {
        "cell": "324c3256-4054-4685-a71c-ae0fe87670c2",
        "part": "whole"
       },
       "id": "458e5b71-90c5-4b8b-946f-3dbd0acabdd0"
      }
     }
    },
    "85cdfd47-b188-4127-b6ce-f2d6269764ca": {
     "id": "85cdfd47-b188-4127-b6ce-f2d6269764ca",
     "prev": "135b3672-2ba5-4f92-bdc7-4113351248a2",
     "regions": {
      "660896c7-2008-4690-a456-0f728323a4e9": {
       "attrs": {
        "height": 0.8,
        "width": 0.8,
        "x": 0.1,
        "y": 0.1
       },
       "content": {
        "cell": "ff5d24f2-939f-4007-9892-f241c94b9e6f",
        "part": "whole"
       },
       "id": "660896c7-2008-4690-a456-0f728323a4e9"
      }
     }
    },
    "be1c5d87-98b8-4a00-8fee-ab6aa9209fa8": {
     "id": "be1c5d87-98b8-4a00-8fee-ab6aa9209fa8",
     "prev": "6864bc82-39ed-4597-9643-1f9eaebaa4ad",
     "regions": {
      "02737d00-d567-4b1e-b981-39dc866fb994": {
       "attrs": {
        "height": 0.8,
        "width": 0.8,
        "x": 0.1,
        "y": 0.1
       },
       "content": {
        "cell": "77420740-c7d1-42dc-8cbf-f131e6ac7001",
        "part": "whole"
       },
       "id": "02737d00-d567-4b1e-b981-39dc866fb994"
      }
     }
    },
    "f609d9b0-5a29-4ccc-84bf-e74355ab7eff": {
     "id": "f609d9b0-5a29-4ccc-84bf-e74355ab7eff",
     "prev": "234a438e-9bbd-4d7c-aa4d-60a6ad360cad",
     "regions": {
      "aec5f004-bdc5-449c-80b3-52d3a1ae4596": {
       "attrs": {
        "height": 0.8,
        "width": 0.8,
        "x": 0.1,
        "y": 0.1
       },
       "content": {
        "cell": "439e3e1e-bdee-49a7-9a18-11f87ded9522",
        "part": "whole"
       },
       "id": "aec5f004-bdc5-449c-80b3-52d3a1ae4596"
      }
     }
    }
   },
   "themes": {}
  }
 },
 "nbformat": 4,
 "nbformat_minor": 1
}
