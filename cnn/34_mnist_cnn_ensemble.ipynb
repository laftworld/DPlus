{
 "cells": [
  {
   "cell_type": "markdown",
   "metadata": {},
   "source": [
    "# 34. MNIST CNN with Ensemble\n",
    "\n",
    "<p style=\"text-align: right;\">\n",
    "blackdew7@gmail.com<br>\n",
    "Your name :\n",
    "</p>\n",
    "\n",
    "### 텐서플로 실습시간 그 일곱번째!<br>\n",
    "\n",
    "#### 선행지식\n",
    "1. TensorFlow 다루기 기초\n",
    "2. 모델링을 한다는 것에 대한 이해.\n",
    "3. Supervised Learning 중 Classification에 대한 기본 지식.\n",
    "4. CNN에 대한 기본 구조와 개념\n",
    "\n",
    "#### 실습목표\n",
    "1. CNN의 구조를 Graph로 그려낼 수 있다.\n",
    "2. 그려낸 Graph를 텐서플로우를 이용해 코딩할 수 있다.\n",
    "3. Dropout을 이해하고 사용할 수 있다.\n",
    "4. Ensemble을 이해하고 사용할 수 있다.\n",
    "5. CNN 레이어 구조를 Class로 구현할 수 있다.\n",
    "\n",
    "#### 사용데이터.\n",
    "\n",
    "01. Multinomial Classification : http://yann.lecun.com/exdb/mnist/"
   ]
  },
  {
   "cell_type": "markdown",
   "metadata": {},
   "source": [
    "## 00. 라이브러리 불러오기"
   ]
  },
  {
   "cell_type": "code",
   "execution_count": null,
   "metadata": {
    "collapsed": true
   },
   "outputs": [],
   "source": [
    "# 메모리 초기화\n",
    "%reset\n",
    "\n",
    "# MNIST and Convolutional Neural Network\n",
    "import numpy as np\n",
    "import tensorflow as tf\n",
    "import random"
   ]
  },
  {
   "cell_type": "markdown",
   "metadata": {},
   "source": [
    "## 01. 데이터 불러오기 & 전처리"
   ]
  },
  {
   "cell_type": "code",
   "execution_count": null,
   "metadata": {
    "collapsed": true
   },
   "outputs": [],
   "source": [
    "# Graph Clear\n",
    "tf.reset_default_graph()\n",
    "tf.set_random_seed(2017) # random seeding - reproduct\n",
    "\n",
    "from tensorflow.examples.tutorials.mnist import input_data\n",
    "mnist = input_data.read_data_sets(\"./resources/MNIST/\", one_hot=True)"
   ]
  },
  {
   "cell_type": "markdown",
   "metadata": {},
   "source": [
    "## 02. 제대로 복습해보자"
   ]
  },
  {
   "cell_type": "code",
   "execution_count": null,
   "metadata": {
    "collapsed": true
   },
   "outputs": [],
   "source": [
    "'''\n",
    "지난 시간에 배운 Prepare Variables 코드를 완성해보자.\n",
    "\n",
    "여러분이 직접 스크립트를 짜야 합니다.\n",
    "복사하여 붙여넣기를 하지 마시고, 직접 타이핑 하는 것을 권장합니다.\n",
    "'''\n",
    "\n",
    "############################\n",
    "# Place Holders\n",
    "\n",
    "############################\n",
    "# Weights & bias\n"
   ]
  },
  {
   "cell_type": "code",
   "execution_count": null,
   "metadata": {
    "collapsed": true
   },
   "outputs": [],
   "source": [
    "'''\n",
    "지난 시간에 배운 CNN Graph 코드를 완성해보자\n",
    "\n",
    "여러분이 직접 스크립트를 짜야 합니다.\n",
    "복사하여 붙여넣기를 하지 마시고, 직접 타이핑 하는 것을 권장합니다.\n",
    "'''\n",
    "\n",
    "#########################\n",
    "# ConvLayer 01 \n",
    "\n",
    "#########################\n",
    "# ConvLayer 02\n",
    "\n",
    "#########################\n",
    "# Dropout\n",
    "\n",
    "#########################\n",
    "# Fully Connected Layer\n",
    "\n",
    "#########################\n",
    "# Cost & Optimizer\n"
   ]
  },
  {
   "cell_type": "code",
   "execution_count": null,
   "metadata": {
    "collapsed": true
   },
   "outputs": [],
   "source": [
    "'''\n",
    "지난 시간에 배운 Traning & Evaluation 코드를 완성해보자\n",
    "\n",
    "여러분이 직접 스크립트를 짜야 합니다.\n",
    "복사하여 붙여넣기를 하지 마시고, 직접 타이핑 하는 것을 권장합니다.\n",
    "'''\n",
    "\n",
    "###########################\n",
    "# Initialize\n",
    "\n",
    "###########################\n",
    "# Training\n",
    "\n",
    "###########################\n",
    "# Evaluation\n"
   ]
  },
  {
   "cell_type": "markdown",
   "metadata": {},
   "source": [
    "## 03. Class 만들기"
   ]
  },
  {
   "cell_type": "code",
   "execution_count": null,
   "metadata": {
    "collapsed": true
   },
   "outputs": [],
   "source": [
    "class ModelCNN:\n",
    "    def __init__(self, sess, name):\n",
    "        self.sess = sess\n",
    "        self.name = name\n",
    "        self._prepare_variables()\n",
    "        self._build_net()\n",
    "    \n",
    "    def _prepare_variables(self):\n",
    "        ############################\n",
    "        # Place Holders\n",
    "\n",
    "        self.X = tf.placeholder(tf.float32, [None, 784])\n",
    "        self.X_img = tf.reshape(self.X, [-1, 28, 28, 1])\n",
    "        self.Y = tf.placeholder(tf.float32, [None, 10])\n",
    "        \n",
    "        self.keep_prob = tf.placeholder(tf.float32, name=\"keep_prob\")\n",
    "\n",
    "    def _build_net(self):\n",
    "        #########################\n",
    "        # ConvLayer 01 \n",
    "\n",
    "        with tf.name_scope(\"layer1_conv\"):\n",
    "\n",
    "            # for Conv Layer 01 filter - shape=(3, 3, 1)\n",
    "            W1 = tf.Variable(tf.random_normal([3, 3, 1, 32], stddev=0.01), name=\"W1\")\n",
    "\n",
    "            # Convolution Layer 01 -> (?, 28, 28, 32)\n",
    "            L1_conv = tf.nn.conv2d(self.X_img, W1, strides=[1, 1, 1, 1], padding='SAME', name=\"L1_conv\")\n",
    "            L1_conv = tf.nn.relu(L1_conv, name=\"L1_relu\")\n",
    "\n",
    "            # Pooling Layer 01 -> (?, 14, 14, 32)\n",
    "            L1_pool = tf.nn.max_pool(L1_conv, ksize=[1, 2, 2, 1], strides=[1, 2, 2, 1], padding='SAME', name=\"L1_max_pool\")\n",
    "\n",
    "\n",
    "        #########################\n",
    "        # ConvLayer 02\n",
    "\n",
    "        with tf.name_scope(\"layer2_conv\"):\n",
    "\n",
    "            # for Conv Layer 02 filter - shape=(3, 3, 32)\n",
    "            W2 = tf.Variable(tf.random_normal([3, 3, 32, 64], stddev=0.01), name=\"W2\")\n",
    "\n",
    "            # Convolution Layer 02 -> (?, 14, 14, 32)\n",
    "            L2_conv = tf.nn.conv2d(L1_pool, W2, strides=[1, 1, 1, 1], padding='SAME', name=\"L2_conv\")\n",
    "            L2_conv = tf.nn.relu(L2_conv, name=\"L2_relu\")\n",
    "\n",
    "            # Pooling Layer 02 -> (?, 7, 7, 64)\n",
    "            L2_pool = tf.nn.max_pool(L2_conv, ksize=[1, 2, 2, 1], strides=[1, 2, 2, 1], padding='SAME', name=\"L2_max_pool\")\n",
    "\n",
    "\n",
    "        #########################\n",
    "        # Fully Connected Layer 01\n",
    "\n",
    "        with tf.name_scope(\"layer1_fc\"):\n",
    "\n",
    "            ###############################\n",
    "            # Flatten layer\n",
    "            L_flat = tf.reshape(L2_pool, [-1, 7 * 7 * 64], name=\"L_flat\")\n",
    "\n",
    "            # for Final FC 7x7x64 inputs -> 1000\n",
    "            W1_fc = tf.Variable(tf.random_normal([7 * 7 * 64, 1000], stddev=0.01), name=\"W1_fc\")\n",
    "\n",
    "            # for Final FC Layer 1: 7x7x64 inputs -> 1000\n",
    "            L1_fc = tf.matmul(L_flat, W1_fc, name=\"L1_fc\")\n",
    "            L1_fc = tf.nn.relu(L1_fc, name=\"L1_fc_relu\")\n",
    "\n",
    "            #########################\n",
    "            # Dropout\n",
    "            L1_fc_dropout = tf.nn.dropout(L1_fc, keep_prob=self.keep_prob, name=\"dropout\")\n",
    "            #########################\n",
    "\n",
    "\n",
    "        #########################\n",
    "        # Fully Connected Layer 02\n",
    "\n",
    "        with tf.name_scope(\"layer2_fc\"):\n",
    "\n",
    "            # for Final FC 1000 inputs -> 10\n",
    "            W2_fc = tf.Variable(tf.random_normal([1000, 10], stddev=0.01), name=\"W2_fc\")\n",
    "\n",
    "            # bias\n",
    "            b = tf.Variable(tf.random_normal([10]), name=\"bias\")\n",
    "\n",
    "            # for Final FC Layer 2: 1000 inputs -> 10\n",
    "            self.logits = tf.add(tf.matmul(L1_fc_dropout, W2_fc), b, name=\"logits\")\n",
    "\n",
    "\n",
    "        #########################\n",
    "        # Cost & Optimizer\n",
    "\n",
    "        learning_rate = 0.001\n",
    "\n",
    "        with tf.name_scope(\"Optimizer\"):\n",
    "            # Cost(loss) function & Optimizer\n",
    "            cross_entropy = tf.nn.softmax_cross_entropy_with_logits(logits=self.logits, labels=self.Y, name=\"cross_entropy\")\n",
    "            self.cost = tf.reduce_mean(cross_entropy, name=\"cost\")\n",
    "            self.optimizer = tf.train.AdamOptimizer(learning_rate=learning_rate).minimize(self.cost)\n",
    "\n",
    "\n",
    "        ###########################\n",
    "        # Evaluation\n",
    "        with tf.name_scope(\"Prediction\"):\n",
    "            # Test model and check accuracy\n",
    "            correct_prediction = tf.equal(tf.argmax(self.logits, 1), tf.argmax(self.Y, 1), name=\"compare\")\n",
    "            self.accuracy = tf.reduce_mean(tf.cast(correct_prediction, tf.float32), name=\"accuracy\")\n",
    "\n",
    "    def train(self, x_data, y_data):\n",
    "        return self.sess.run([self.cost, self.optimizer], feed_dict={self.X: x_data, self.Y: y_data, self.keep_prob: 0.7})\n",
    "        \n",
    "    def predict(self, x_test):\n",
    "        return self.sess.run(self.logits, feed_dict={self.X: x_test, self.keep_prob: 1.0})\n",
    "\n",
    "    def get_accuracy(self, x_test, y_test):\n",
    "        return self.sess.run(self.accuracy, feed_dict={self.X: x_test, self.Y: y_test, self.keep_prob: 1.0})"
   ]
  },
  {
   "cell_type": "markdown",
   "metadata": {},
   "source": [
    "## 04. Ensemble"
   ]
  },
  {
   "cell_type": "code",
   "execution_count": null,
   "metadata": {
    "collapsed": true
   },
   "outputs": [],
   "source": [
    "# initialize\n",
    "sess = tf.Session()\n",
    "\n",
    "models = []\n",
    "num_models = 5\n",
    "for m in range(num_models):\n",
    "    models.append(ModelCNN(sess, \"model\" + str(m)))\n",
    "\n",
    "sess.run(tf.global_variables_initializer())\n",
    "\n",
    "print('Learning Started!')\n",
    "\n",
    "\n",
    "# train each model\n",
    "for m_idx, m in enumerate(models):\n",
    "    for i in range(200):\n",
    "        batch_xs, batch_ys = mnist.train.next_batch(100)\n",
    "        c, _ = m.train(batch_xs, batch_ys)\n",
    "\n",
    "        # 학습 상황 디스플레이\n",
    "        if i % 10 == 0:\n",
    "            print(\"%d modes, %dth records, training cost: %.3f\" % ((m_idx + 1), (i * 100), c))\n",
    "\n",
    "print('Learning Finished!')\n"
   ]
  },
  {
   "cell_type": "code",
   "execution_count": null,
   "metadata": {
    "collapsed": true
   },
   "outputs": [],
   "source": [
    "# Test model and check accuracy\n",
    "test_size = len(mnist.test.labels)\n",
    "predictions = np.zeros([test_size, 10])\n",
    "for m_idx, m in enumerate(models):\n",
    "    print(m_idx, 'Accuracy:', m.get_accuracy(mnist.test.images, mnist.test.labels))\n",
    "    p = m.predict(mnist.test.images)\n",
    "    predictions += p\n",
    "    \n",
    "print(predictions)\n",
    "print(tf.argmax(predictions, 1))\n",
    "\n",
    "# ensemble accuracy\n",
    "ensemble_correct_prediction = tf.equal(tf.argmax(predictions, 1), tf.argmax(mnist.test.labels, 1))\n",
    "ensemble_accuracy = tf.reduce_mean(tf.cast(ensemble_correct_prediction, tf.float32))\n",
    "\n",
    "print('Ensemble accuracy:', sess.run(ensemble_accuracy))"
   ]
  },
  {
   "cell_type": "markdown",
   "metadata": {},
   "source": [
    "### 성능을 한 번 확인해 보자. 제대로 되고 있는걸까?"
   ]
  },
  {
   "cell_type": "code",
   "execution_count": null,
   "metadata": {
    "collapsed": true
   },
   "outputs": [],
   "source": [
    "# Get one and predict\n",
    "r = random.randint(0, mnist.test.num_examples - 1)\n",
    "predictions = np.zeros([1, 10])\n",
    "for m_idx, m in enumerate(models):\n",
    "    p = m.predict(mnist.test.images[r:r + 1])\n",
    "    predictions += p\n",
    "    \n",
    "print(\"Label: \", sess.run(tf.argmax(mnist.test.labels[r:r + 1], 1)))\n",
    "print(\"Prediction: \", sess.run(tf.argmax(predictions, 1)))\n",
    "\n",
    "import matplotlib.pyplot as plt\n",
    "plt.imshow(mnist.test.images[r:r + 1].reshape(28, 28), cmap='Greys', interpolation='nearest')\n",
    "plt.show()"
   ]
  },
  {
   "cell_type": "code",
   "execution_count": null,
   "metadata": {
    "collapsed": true
   },
   "outputs": [],
   "source": [
    "# 세션을 종료하자\n",
    "sess.close()"
   ]
  }
 ],
 "metadata": {
  "kernelspec": {
   "display_name": "Python 3",
   "language": "python",
   "name": "python3"
  },
  "language_info": {
   "codemirror_mode": {
    "name": "ipython",
    "version": 3
   },
   "file_extension": ".py",
   "mimetype": "text/x-python",
   "name": "python",
   "nbconvert_exporter": "python",
   "pygments_lexer": "ipython3",
   "version": "3.6.2"
  }
 },
 "nbformat": 4,
 "nbformat_minor": 2
}
