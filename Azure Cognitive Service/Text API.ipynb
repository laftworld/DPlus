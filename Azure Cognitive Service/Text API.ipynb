{
 "cells": [
  {
   "cell_type": "markdown",
   "metadata": {},
   "source": [
    "### Text API Demo \n",
    "https://azure.microsoft.com/ko-kr/services/cognitive-services/text-analytics/"
   ]
  },
  {
   "cell_type": "markdown",
   "metadata": {},
   "source": [
    "### Text API Tutorial\n",
    "https://docs.microsoft.com/ko-kr/azure/cognitive-services/text-analytics/quickstarts/python"
   ]
  },
  {
   "cell_type": "markdown",
   "metadata": {},
   "source": [
    "### Detect Languages"
   ]
  },
  {
   "cell_type": "code",
   "execution_count": 3,
   "metadata": {},
   "outputs": [],
   "source": [
    "import requests\n",
    "from io import BytesIO\n",
    "from PIL import Image, ImageDraw\n",
    "import http.client, urllib, base64, json"
   ]
  },
  {
   "cell_type": "code",
   "execution_count": 1,
   "metadata": {},
   "outputs": [
    {
     "name": "stdout",
     "output_type": "stream",
     "text": [
      "https://eastus.api.cognitive.microsoft.com/text/analytics/v2.0/languages\n"
     ]
    }
   ],
   "source": [
    "subscription_key=\"dad33e2c55e943b19f44201404c0d52d\"\n",
    "assert subscription_key\n",
    "\n",
    "text_analytics_base_url = \"https://eastus.api.cognitive.microsoft.com/text/analytics/v2.0/\"\n",
    "\n",
    "language_api_url = text_analytics_base_url + \"languages\"\n",
    "print(language_api_url)\n",
    "\n",
    "    \n",
    "documents = { 'documents': [\n",
    "    { 'id': '1', 'text': 'This is a document written in English.' },\n",
    "    { 'id': '2', 'text': 'Este es un document escrito en Español.' },\n",
    "    { 'id': '3', 'text': '这是一个用中文写的文件' },\n",
    "    { 'id': '4', 'text': '한국어 입니다. 안녕 ㅎㅇ'}\n",
    "]}    "
   ]
  },
  {
   "cell_type": "code",
   "execution_count": 4,
   "metadata": {},
   "outputs": [
    {
     "name": "stdout",
     "output_type": "stream",
     "text": [
      "{'documents': [{'detectedLanguages': [{'iso6391Name': 'en',\n",
      "                                       'name': 'English',\n",
      "                                       'score': 1.0}],\n",
      "                'id': '1'},\n",
      "               {'detectedLanguages': [{'iso6391Name': 'es',\n",
      "                                       'name': 'Spanish',\n",
      "                                       'score': 1.0}],\n",
      "                'id': '2'},\n",
      "               {'detectedLanguages': [{'iso6391Name': 'zh_chs',\n",
      "                                       'name': 'Chinese_Simplified',\n",
      "                                       'score': 1.0}],\n",
      "                'id': '3'},\n",
      "               {'detectedLanguages': [{'iso6391Name': 'ko',\n",
      "                                       'name': 'Korean',\n",
      "                                       'score': 1.0}],\n",
      "                'id': '4'}],\n",
      " 'errors': []}\n"
     ]
    }
   ],
   "source": [
    "# import requests\n",
    "from pprint import pprint\n",
    "headers   = {\"Ocp-Apim-Subscription-Key\": subscription_key}\n",
    "response  = requests.post(language_api_url, headers=headers, json=documents)\n",
    "languages = response.json()\n",
    "pprint(languages)"
   ]
  },
  {
   "cell_type": "code",
   "execution_count": 5,
   "metadata": {},
   "outputs": [
    {
     "data": {
      "text/html": [
       "<table><tr><th>Text</th><th>Detected languages(scores)</th></tr><tr><td>This is a document written in English.</td><td>English(1.0)</td>\n",
       "<tr><td>Este es un document escrito en Español.</td><td>Spanish(1.0)</td>\n",
       "<tr><td>这是一个用中文写的文件</td><td>Chinese_Simplified(1.0)</td>\n",
       "<tr><td>한국어 입니다. 안녕 ㅎㅇ</td><td>Korean(1.0)</td></table>"
      ],
      "text/plain": [
       "<IPython.core.display.HTML object>"
      ]
     },
     "execution_count": 5,
     "metadata": {},
     "output_type": "execute_result"
    }
   ],
   "source": [
    "from IPython.display import HTML\n",
    "table = []\n",
    "for document in languages[\"documents\"]:\n",
    "    text  = next(iter(filter(lambda d: d[\"id\"] == document[\"id\"], documents[\"documents\"])))[\"text\"]\n",
    "    langs = \", \".join([\"{0}({1})\".format(lang[\"name\"], lang[\"score\"]) for lang in document[\"detectedLanguages\"]])\n",
    "    table.append(\"<tr><td>{0}</td><td>{1}</td>\".format(text, langs))\n",
    "HTML(\"<table><tr><th>Text</th><th>Detected languages(scores)</th></tr>{0}</table>\".format(\"\\n\".join(table)))"
   ]
  },
  {
   "cell_type": "markdown",
   "metadata": {},
   "source": [
    "### Analyze Sentiment"
   ]
  },
  {
   "cell_type": "code",
   "execution_count": 8,
   "metadata": {},
   "outputs": [
    {
     "name": "stdout",
     "output_type": "stream",
     "text": [
      "https://eastus.api.cognitive.microsoft.com/text/analytics/v2.0/sentiment\n"
     ]
    }
   ],
   "source": [
    "sentiment_api_url = text_analytics_base_url + \"sentiment\"\n",
    "print(sentiment_api_url)"
   ]
  },
  {
   "cell_type": "code",
   "execution_count": 19,
   "metadata": {},
   "outputs": [],
   "source": [
    "documents = {'documents' : [\n",
    "  {'id': '1', 'language': 'en', 'text': 'I had a wonderful experience! The rooms were wonderful and the staff was helpful.'},\n",
    "  {'id': '2', 'language': 'en', 'text': 'I had a terrible time at the hotel. The staff was rude and the food was awful.'}, \n",
    "  {'id': '3', 'language': 'en', 'text': 'None of this had even a hope of any practical application in my life. But 10 years later, when we were designing the first Macintosh computer, it all came back to me. And we designed it all into the Mac. It was the first computer with beautiful typography. If I had never dropped in on that single course in college, the Mac would have never had multiple typefaces or proportionally spaced fonts. And since Windows just copied the Mac, it’s likely that no personal computer would have them. If I had never dropped out, I would have never dropped in on this calligraphy class, and personal computers might not have the wonderful typography that they do. Of course it was impossible to connect the dots looking forward when I was in college. But it was very, very clear looking backward 10 years later.'},  \n",
    "  {'id': '4', 'language': 'es', 'text': 'Los caminos que llevan hasta Monte Rainier son espectaculares y hermosos.'}]}"
   ]
  },
  {
   "cell_type": "code",
   "execution_count": 20,
   "metadata": {},
   "outputs": [
    {
     "name": "stdout",
     "output_type": "stream",
     "text": [
      "{'documents': [{'id': '1', 'score': 0.9552919864654541},\n",
      "               {'id': '2', 'score': 0.002100616693496704},\n",
      "               {'id': '3', 'score': 0.22919490933418274},\n",
      "               {'id': '4', 'score': 0.7456425428390503}],\n",
      " 'errors': []}\n"
     ]
    }
   ],
   "source": [
    "headers   = {\"Ocp-Apim-Subscription-Key\": subscription_key}\n",
    "response  = requests.post(sentiment_api_url, headers=headers, json=documents)\n",
    "sentiments = response.json()\n",
    "pprint(sentiments)"
   ]
  },
  {
   "cell_type": "code",
   "execution_count": 30,
   "metadata": {},
   "outputs": [
    {
     "data": {
      "text/plain": [
       "{'documents': [{'id': '1', 'score': 0.9552919864654541},\n",
       "  {'id': '2', 'score': 0.002100616693496704},\n",
       "  {'id': '3', 'score': 0.22919490933418274},\n",
       "  {'id': '4', 'score': 0.7456425428390503}],\n",
       " 'errors': []}"
      ]
     },
     "execution_count": 30,
     "metadata": {},
     "output_type": "execute_result"
    }
   ],
   "source": [
    "sentiments"
   ]
  },
  {
   "cell_type": "code",
   "execution_count": 40,
   "metadata": {},
   "outputs": [
    {
     "data": {
      "text/plain": [
       "0.9552919864654541"
      ]
     },
     "execution_count": 40,
     "metadata": {},
     "output_type": "execute_result"
    }
   ],
   "source": [
    "sentiments[\"documents\"][0][\"score\"]"
   ]
  },
  {
   "cell_type": "markdown",
   "metadata": {},
   "source": [
    "### Extract Key Phrases"
   ]
  },
  {
   "cell_type": "code",
   "execution_count": 21,
   "metadata": {},
   "outputs": [
    {
     "name": "stdout",
     "output_type": "stream",
     "text": [
      "https://eastus.api.cognitive.microsoft.com/text/analytics/v2.0/keyPhrases\n"
     ]
    }
   ],
   "source": [
    "key_phrase_api_url = text_analytics_base_url + \"keyPhrases\"\n",
    "print(key_phrase_api_url)"
   ]
  },
  {
   "cell_type": "code",
   "execution_count": 22,
   "metadata": {},
   "outputs": [
    {
     "name": "stdout",
     "output_type": "stream",
     "text": [
      "{'documents': [{'id': '1',\n",
      "                'language': 'en',\n",
      "                'text': 'I had a wonderful experience! The rooms were '\n",
      "                        'wonderful and the staff was helpful.'},\n",
      "               {'id': '2',\n",
      "                'language': 'en',\n",
      "                'text': 'I had a terrible time at the hotel. The staff was '\n",
      "                        'rude and the food was awful.'},\n",
      "               {'id': '3',\n",
      "                'language': 'en',\n",
      "                'text': 'None of this had even a hope of any practical '\n",
      "                        'application in my life. But 10 years later, when we '\n",
      "                        'were designing the first Macintosh computer, it all '\n",
      "                        'came back to me. And we designed it all into the Mac. '\n",
      "                        'It was the first computer with beautiful typography. '\n",
      "                        'If I had never dropped in on that single course in '\n",
      "                        'college, the Mac would have never had multiple '\n",
      "                        'typefaces or proportionally spaced fonts. And since '\n",
      "                        'Windows just copied the Mac, it’s likely that no '\n",
      "                        'personal computer would have them. If I had never '\n",
      "                        'dropped out, I would have never dropped in on this '\n",
      "                        'calligraphy class, and personal computers might not '\n",
      "                        'have the wonderful typography that they do. Of course '\n",
      "                        'it was impossible to connect the dots looking forward '\n",
      "                        'when I was in college. But it was very, very clear '\n",
      "                        'looking backward 10 years later.'},\n",
      "               {'id': '4',\n",
      "                'language': 'es',\n",
      "                'text': 'Los caminos que llevan hasta Monte Rainier son '\n",
      "                        'espectaculares y hermosos.'}]}\n"
     ]
    }
   ],
   "source": [
    "pprint(documents)"
   ]
  },
  {
   "cell_type": "code",
   "execution_count": 23,
   "metadata": {},
   "outputs": [
    {
     "name": "stdout",
     "output_type": "stream",
     "text": [
      "{'documents': [{'id': '1',\n",
      "                'keyPhrases': ['wonderful experience', 'staff', 'rooms']},\n",
      "               {'id': '2',\n",
      "                'keyPhrases': ['food', 'terrible time', 'hotel', 'staff']},\n",
      "               {'id': '3',\n",
      "                'keyPhrases': ['Macintosh computer',\n",
      "                               'college',\n",
      "                               'years',\n",
      "                               'personal computers',\n",
      "                               'wonderful typography',\n",
      "                               'beautiful typography',\n",
      "                               'multiple typefaces',\n",
      "                               'practical application',\n",
      "                               'spaced fonts',\n",
      "                               'calligraphy class',\n",
      "                               'single course',\n",
      "                               'hope',\n",
      "                               'life',\n",
      "                               'dots',\n",
      "                               'Windows']},\n",
      "               {'id': '4', 'keyPhrases': ['Monte Rainier', 'caminos']}],\n",
      " 'errors': []}\n"
     ]
    }
   ],
   "source": [
    "headers   = {\"Ocp-Apim-Subscription-Key\": subscription_key}\n",
    "response  = requests.post(key_phrase_api_url, headers=headers, json=documents)\n",
    "key_phrases = response.json()\n",
    "pprint(key_phrases)"
   ]
  },
  {
   "cell_type": "code",
   "execution_count": 24,
   "metadata": {},
   "outputs": [
    {
     "data": {
      "text/html": [
       "<table><tr><th>Text</th><th>Key phrases</th></tr><tr><td>I had a wonderful experience! The rooms were wonderful and the staff was helpful.</td><td>wonderful experience,staff,rooms</td>\n",
       "<tr><td>I had a terrible time at the hotel. The staff was rude and the food was awful.</td><td>food,terrible time,hotel,staff</td>\n",
       "<tr><td>None of this had even a hope of any practical application in my life. But 10 years later, when we were designing the first Macintosh computer, it all came back to me. And we designed it all into the Mac. It was the first computer with beautiful typography. If I had never dropped in on that single course in college, the Mac would have never had multiple typefaces or proportionally spaced fonts. And since Windows just copied the Mac, it’s likely that no personal computer would have them. If I had never dropped out, I would have never dropped in on this calligraphy class, and personal computers might not have the wonderful typography that they do. Of course it was impossible to connect the dots looking forward when I was in college. But it was very, very clear looking backward 10 years later.</td><td>Macintosh computer,college,years,personal computers,wonderful typography,beautiful typography,multiple typefaces,practical application,spaced fonts,calligraphy class,single course,hope,life,dots,Windows</td>\n",
       "<tr><td>Los caminos que llevan hasta Monte Rainier son espectaculares y hermosos.</td><td>Monte Rainier,caminos</td></table>"
      ],
      "text/plain": [
       "<IPython.core.display.HTML object>"
      ]
     },
     "execution_count": 24,
     "metadata": {},
     "output_type": "execute_result"
    }
   ],
   "source": [
    "# from IPython.display import HTML\n",
    "table = []\n",
    "for document in key_phrases[\"documents\"]:\n",
    "    text    = next(iter(filter(lambda d: d[\"id\"] == document[\"id\"], documents[\"documents\"])))[\"text\"]    \n",
    "    phrases = \",\".join(document[\"keyPhrases\"])\n",
    "    table.append(\"<tr><td>{0}</td><td>{1}</td>\".format(text, phrases))\n",
    "HTML(\"<table><tr><th>Text</th><th>Key phrases</th></tr>{0}</table>\".format(\"\\n\".join(table)))"
   ]
  },
  {
   "cell_type": "code",
   "execution_count": 29,
   "metadata": {},
   "outputs": [
    {
     "data": {
      "text/plain": [
       "{'documents': [{'id': '1',\n",
       "   'keyPhrases': ['wonderful experience', 'staff', 'rooms']},\n",
       "  {'id': '2', 'keyPhrases': ['food', 'terrible time', 'hotel', 'staff']},\n",
       "  {'id': '3',\n",
       "   'keyPhrases': ['Macintosh computer',\n",
       "    'college',\n",
       "    'years',\n",
       "    'personal computers',\n",
       "    'wonderful typography',\n",
       "    'beautiful typography',\n",
       "    'multiple typefaces',\n",
       "    'practical application',\n",
       "    'spaced fonts',\n",
       "    'calligraphy class',\n",
       "    'single course',\n",
       "    'hope',\n",
       "    'life',\n",
       "    'dots',\n",
       "    'Windows']},\n",
       "  {'id': '4', 'keyPhrases': ['Monte Rainier', 'caminos']}],\n",
       " 'errors': []}"
      ]
     },
     "execution_count": 29,
     "metadata": {},
     "output_type": "execute_result"
    }
   ],
   "source": [
    "key_phrases"
   ]
  },
  {
   "cell_type": "code",
   "execution_count": null,
   "metadata": {},
   "outputs": [],
   "source": []
  }
 ],
 "metadata": {
  "kernelspec": {
   "display_name": "Python 3",
   "language": "python",
   "name": "python3"
  },
  "language_info": {
   "codemirror_mode": {
    "name": "ipython",
    "version": 3
   },
   "file_extension": ".py",
   "mimetype": "text/x-python",
   "name": "python",
   "nbconvert_exporter": "python",
   "pygments_lexer": "ipython3",
   "version": "3.6.3"
  }
 },
 "nbformat": 4,
 "nbformat_minor": 2
}
