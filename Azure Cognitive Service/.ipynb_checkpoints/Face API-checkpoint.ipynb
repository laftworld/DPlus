{
 "cells": [
  {
   "cell_type": "markdown",
   "metadata": {},
   "source": [
    "Face API 실습1 : Face Detect"
   ]
  },
  {
   "cell_type": "code",
   "execution_count": null,
   "metadata": {},
   "outputs": [],
   "source": [
    "!pip install cognitive_face"
   ]
  },
  {
   "cell_type": "code",
   "execution_count": null,
   "metadata": {},
   "outputs": [],
   "source": [
    "# import cognitive_face as CF\n",
    "import requests\n",
    "from io import BytesIO\n",
    "from PIL import Image, ImageDraw\n",
    "import http.client, urllib, base64, json"
   ]
  },
  {
   "cell_type": "code",
   "execution_count": null,
   "metadata": {},
   "outputs": [],
   "source": [
    "\n",
    "# 1. 자신이 등록한 Key 값으로 변경하시오.\n",
    "KEY = '2e2e1837f76340e78f3943f45d9d0d5e'\n",
    "\n",
    "# 2. api를 만든 지역 주소로 변경하시오.\n",
    "# 만약 미국 중서부라면 ==> https://westcentralus.api.cognitive.microsoft.com/face/v1.0/'\n",
    "BASE_DOMAIN = 'eastus.api.cognitive.microsoft.com'\n",
    "BASE_PATH = '/face/v1.0'\n",
    "BASE_URL = 'https://' + BASE_DOMAIN + BASE_PATH + '/'  \n",
    "\n",
    "# 2. 요청 헤더\n",
    "headers = { 'Content-Type': 'application/json',\n",
    "    'Ocp-Apim-Subscription-Key': KEY \n",
    "}\n",
    "\n",
    "# 3. 파라미터 설정\n",
    "params = urllib.parse.urlencode({\n",
    "    'returnFaceId': 'true',\n",
    "    'returnFaceLandmarks': 'false',\n",
    "    'returnFaceAttributes': 'age,gender,headPose,smile,facialHair,glasses,emotion,hair,makeup,accessories',\n",
    "})\n",
    "\n",
    "# 4. 분석하기 원하는 이미지 URL을 넣어주세요.\n",
    "img_url = 'https://t1.daumcdn.net/thumb/R1280x0/?fname=http://t1.daumcdn.net/brunch/service/user/iDy/image/gmBSAhRcnR1vyjPcTqf4dk2NHVY.jpg'\n",
    "body = \"{'url':'\" + img_url + \"'}\"\n"
   ]
  },
  {
   "cell_type": "code",
   "execution_count": null,
   "metadata": {},
   "outputs": [],
   "source": [
    "CF.Key.set(KEY)\n",
    "CF.BaseUrl.set(BASE_URL)\n",
    "faces = CF.face.detect(img_url)\n",
    "\n",
    "# 인식된 얼굴을 사각형으로 표시하는 함수\n",
    "def getRectangle(faceDictionary):\n",
    "    rect = faceDictionary['faceRectangle']\n",
    "    left = rect['left']\n",
    "    top = rect['top']\n",
    "    bottom = left + rect['height']\n",
    "    right = top + rect['width']\n",
    "    return ((left, top), (bottom, right))\n",
    "\n",
    "\n",
    "# 4. 이미지를 다운로드 받기.\n",
    "response = requests.get(img_url)\n",
    "img = Image.open(BytesIO(response.content))\n",
    "\n",
    "# 5. 이미지 위에 빨간 box 표시하기\n",
    "draw = ImageDraw.Draw(img)\n",
    "for face in faces:\n",
    "    draw.rectangle(getRectangle(face), outline='red')\n",
    "\n",
    "# 6. 그림판으로 열어봅시다.\n",
    "img"
   ]
  },
  {
   "cell_type": "code",
   "execution_count": null,
   "metadata": {},
   "outputs": [],
   "source": [
    "\n",
    "try:\n",
    "    # 5. REST API 호출 및 결과 받기\n",
    "    conn = http.client.HTTPSConnection(BASE_DOMAIN)\n",
    "    conn.request(\"POST\", BASE_PATH + \"/detect?%s\" % params, body, headers)\n",
    "    response = conn.getresponse()\n",
    "    data = response.read()\n",
    "    \n",
    "\n",
    "    # 6. 결과를 JSON구조로 print\n",
    "    parsed = json.loads(data)\n",
    "    print (\"Response:\")\n",
    "    print (json.dumps(parsed, sort_keys=True, indent=2))\n",
    "    conn.close()\n",
    "\n",
    "except Exception as e:\n",
    "    print(\"[Errno {0}] {1}\".format(e.errno, e.strerror))\n"
   ]
  },
  {
   "cell_type": "code",
   "execution_count": null,
   "metadata": {},
   "outputs": [],
   "source": [
    "parsed[0][\"faceAttributes\"][\"accessories\"]"
   ]
  },
  {
   "cell_type": "code",
   "execution_count": null,
   "metadata": {},
   "outputs": [],
   "source": [
    "print (json.dumps(parsed[0][\"faceAttributes\"][\"accessories\"], sort_keys=True, indent=2))"
   ]
  }
 ],
 "metadata": {
  "kernelspec": {
   "display_name": "Python 3",
   "language": "python",
   "name": "python3"
  },
  "language_info": {
   "codemirror_mode": {
    "name": "ipython",
    "version": 3
   },
   "file_extension": ".py",
   "mimetype": "text/x-python",
   "name": "python",
   "nbconvert_exporter": "python",
   "pygments_lexer": "ipython3",
   "version": "3.6.3"
  }
 },
 "nbformat": 4,
 "nbformat_minor": 2
}
