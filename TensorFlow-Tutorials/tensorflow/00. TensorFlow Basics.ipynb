{
 "cells": [
  {
   "cell_type": "markdown",
   "metadata": {},
   "source": [
    "# Introduction to Tensorflow\n",
    "\n",
    "<p style = \"text-align: right;\">\n",
    "written by: rayleigh@dplus.company<br>\n",
    "mod. by: eric.hong@dplus.company<br>\n",
    "</p>\n",
    "\n",
    "#### Aim\n",
    "1. Understanding basic components of Tensorflow\n",
    "2. Exploring sample code (MNIST Classification)\n",
    "\n",
    "#### References\n",
    "* [Official-Tensorflow]\n",
    "(https://www.tensorflow.org/get_started/)"
   ]
  },
  {
   "cell_type": "markdown",
   "metadata": {},
   "source": [
    "## 1. Import libraries"
   ]
  },
  {
   "cell_type": "code",
   "execution_count": 4,
   "metadata": {},
   "outputs": [
    {
     "ename": "NameError",
     "evalue": "name 'tensorflow' is not defined",
     "output_type": "error",
     "traceback": [
      "\u001b[0;31m---------------------------------------------------------------------------\u001b[0m",
      "\u001b[0;31mNameError\u001b[0m                                 Traceback (most recent call last)",
      "\u001b[0;32m<ipython-input-4-934dd6251cdc>\u001b[0m in \u001b[0;36m<module>\u001b[0;34m()\u001b[0m\n\u001b[0;32m----> 1\u001b[0;31m \u001b[0mtensorflow\u001b[0m \u001b[0;34m-\u001b[0m\u001b[0;34m-\u001b[0m\u001b[0mversion\u001b[0m\u001b[0;34m\u001b[0m\u001b[0m\n\u001b[0m",
      "\u001b[0;31mNameError\u001b[0m: name 'tensorflow' is not defined"
     ]
    }
   ],
   "source": [
    "tensorflow --version"
   ]
  },
  {
   "cell_type": "code",
   "execution_count": 5,
   "metadata": {},
   "outputs": [],
   "source": [
    "import tensorflow as tf\n",
    "import numpy as np\n",
    "from __inline_tensorboard import show_graph"
   ]
  },
  {
   "cell_type": "markdown",
   "metadata": {},
   "source": [
    "## 2. Hello world (Python)"
   ]
  },
  {
   "cell_type": "code",
   "execution_count": 6,
   "metadata": {},
   "outputs": [
    {
     "name": "stdout",
     "output_type": "stream",
     "text": [
      "Hello world\n"
     ]
    }
   ],
   "source": [
    "hello = \"Hello world\"\n",
    "print(hello)"
   ]
  },
  {
   "cell_type": "code",
   "execution_count": 7,
   "metadata": {},
   "outputs": [
    {
     "data": {
      "text/plain": [
       "'Hello world'"
      ]
     },
     "execution_count": 7,
     "metadata": {},
     "output_type": "execute_result"
    }
   ],
   "source": [
    "hello"
   ]
  },
  {
   "cell_type": "code",
   "execution_count": 8,
   "metadata": {},
   "outputs": [
    {
     "name": "stdout",
     "output_type": "stream",
     "text": [
      "Tensor(\"Const:0\", shape=(), dtype=string)\n"
     ]
    }
   ],
   "source": [
    "tf_hello = tf.constant(hello)\n",
    "print(tf_hello)"
   ]
  },
  {
   "cell_type": "markdown",
   "metadata": {},
   "source": [
    "## 2. Session"
   ]
  },
  {
   "cell_type": "code",
   "execution_count": null,
   "metadata": {},
   "outputs": [],
   "source": [
    "# How to print hello world in Tensorflow?\n",
    "\n",
    "sess = tf.Session()\n",
    "print(sess.run(tf_hello))\n",
    "print(sess.run(tf_hello).decode())\n",
    "sess.close()"
   ]
  },
  {
   "cell_type": "code",
   "execution_count": null,
   "metadata": {},
   "outputs": [],
   "source": [
    "with tf.Session() as sess:\n",
    "    s = sess.run(tf_hello)\n",
    "    s_decoded = sess.run(tf_hello).decode()\n",
    "\n",
    "print(s)\n",
    "print(s_decoded)"
   ]
  },
  {
   "cell_type": "markdown",
   "metadata": {},
   "source": [
    "## 3. Basic Operations\n",
    "### tf.add / tf.subtract / tf.multiply / tf.pow"
   ]
  },
  {
   "cell_type": "code",
   "execution_count": null,
   "metadata": {},
   "outputs": [],
   "source": [
    "a = tf.add(2, 8)\n",
    "\n",
    "sess = tf.Session()\n",
    "print(\"2 + 8 = {}\".format(sess.run(a)))\n",
    "sess.close()\n",
    "show_graph(tf.get_default_graph().as_graph_def())"
   ]
  },
  {
   "cell_type": "code",
   "execution_count": null,
   "metadata": {},
   "outputs": [],
   "source": [
    "tf.reset_default_graph()\n",
    "\n",
    "a = tf.add(3, 7)\n",
    "b = tf.subtract(a, 3)\n",
    "\n",
    "sess = tf.Session()\n",
    "print(\"3 + 7 - 3 = {}\".format(sess.run(b)))\n",
    "sess.close()\n",
    "\n",
    "show_graph(tf.get_default_graph().as_graph_def())"
   ]
  },
  {
   "cell_type": "code",
   "execution_count": null,
   "metadata": {},
   "outputs": [],
   "source": [
    "tf.reset_default_graph()\n",
    "\n",
    "a = tf.add(3, 7)\n",
    "b = tf.subtract(a, 3)\n",
    "c = tf.multiply(a, b)\n",
    "d = tf.pow(c, 2)\n",
    "\n",
    "sess = tf.Session()\n",
    "print(\"((3 + 7 - 3)*7)^2= {}\".format(sess.run(d)))\n",
    "sess.close()\n",
    "\n",
    "\n",
    "show_graph(tf.get_default_graph().as_graph_def())"
   ]
  },
  {
   "cell_type": "markdown",
   "metadata": {},
   "source": [
    "## 4. Placeholder and Variable"
   ]
  },
  {
   "cell_type": "code",
   "execution_count": null,
   "metadata": {},
   "outputs": [],
   "source": [
    "tf.reset_default_graph()\n",
    "\n",
    "X_1 = tf.constant(1, name = 'Input_1')\n",
    "X_2 = tf.constant(2, name = 'Input_2')\n",
    "\n",
    "layer1_mul = tf.multiply(X_1, X_2, name = 'Mul_layer1')\n",
    "layer1_add = tf.add(X_1, X_2, name = 'Add_layer1')\n",
    "output = tf.add(layer1_mul, layer1_add, name = 'Output')\n",
    "\n",
    "sess = tf.Session()\n",
    "print(\"( {} * {} ) + ( {} + {} ) = {}\".format(sess.run(X_1), sess.run(X_2), sess.run(X_1), sess.run(X_2), sess.run(output)))\n",
    "sess.close()\n",
    "\n",
    "show_graph(tf.get_default_graph().as_graph_def())"
   ]
  },
  {
   "cell_type": "code",
   "execution_count": null,
   "metadata": {},
   "outputs": [],
   "source": [
    "tf.reset_default_graph()\n",
    "\n",
    "X_1 = tf.placeholder(tf.float32, shape = (), name = 'Input_1')\n",
    "X_2 = tf.placeholder(tf.float32, shape = (), name = 'Input_2')\n",
    "\n",
    "layer1_mul = tf.multiply(X_1, X_2, name = 'Mul_layer1')\n",
    "layer1_add = tf.add(X_1, X_2, name = 'Add_layer1')\n",
    "output = tf.add(layer1_mul, layer1_add, name = 'Output')\n",
    "\n",
    "sess = tf.Session()\n",
    "print(sess.run(output))\n",
    "sess.close()\n",
    "\n",
    "show_graph(tf.get_default_graph().as_graph_def())\n",
    "\n",
    "'''\n",
    "You must feed a value for placeholder tensor\n",
    "'''"
   ]
  },
  {
   "cell_type": "markdown",
   "metadata": {},
   "source": [
    "### Why Error...?"
   ]
  },
  {
   "cell_type": "code",
   "execution_count": null,
   "metadata": {},
   "outputs": [],
   "source": [
    "tf.reset_default_graph()\n",
    "\n",
    "X_1 = tf.placeholder(tf.float32, shape = (), name = 'Input_1')\n",
    "X_2 = tf.placeholder(tf.float32, shape = (), name = 'Input_2')\n",
    "\n",
    "layer1_mul = tf.multiply(X_1, X_2, name = 'Mul_layer1')\n",
    "layer1_add = tf.add(X_1, X_2, name = 'Add_layer1')\n",
    "output = tf.add(layer1_mul, layer1_add, name = 'Output')\n",
    "\n",
    "sess = tf.Session()\n",
    "result = sess.run(output, feed_dict={X_1 : 1, X_2 : 2})\n",
    "print(result)\n",
    "sess.close()\n",
    "\n",
    "show_graph(tf.get_default_graph().as_graph_def())\n",
    "\n",
    "'''\n",
    "You must feed a value for placeholder tensor\n",
    "'''"
   ]
  },
  {
   "cell_type": "code",
   "execution_count": null,
   "metadata": {},
   "outputs": [],
   "source": [
    "tf.reset_default_graph()\n",
    "\n",
    "data1 = np.array([float(i) for i in range(10)])              # data1 = np.array([1,2,3,4,5,6,7,8,9,10]) \n",
    "data2 = np.array([float(i) for i in reversed(range(10))])    # data2 = np.array([10,9,8,7,6,5,4,3,2,1])\n",
    "\n",
    "X_1 = tf.placeholder(tf.float32, shape = [None,], name = 'Input_1')\n",
    "X_2 = tf.placeholder(tf.float32, shape = [None,], name = 'Input_2')\n",
    "\n",
    "mul = tf.multiply(X_1, X_2, name = 'Mul_layer1')\n",
    "add = tf.add(X_1, X_2, name = 'Add_layer1')\n",
    "output = tf.add(mul, add, name = 'Output')\n",
    "\n",
    "sess = tf.Session()\n",
    "out_mul = sess.run(mul, feed_dict={X_1 : data1, X_2 : data2})\n",
    "out_add = sess.run(add, feed_dict={X_1 : data1, X_2 : data2})\n",
    "out_output = sess.run(output, feed_dict={X_1 : data1, X_2 : data2})\n",
    "sess.close()\n",
    "\n",
    "print(\"data1 : {}\".format(data1))\n",
    "print(\"data2 : {}\".format(data2))\n",
    "\n",
    "print(\"layer1_mul : {}\".format(out_mul))\n",
    "print(\"layer1_add : {}\".format(out_add))\n",
    "print(\"result : {}\".format(out_output))\n",
    "show_graph(tf.get_default_graph().as_graph_def())\n",
    "\n",
    "'''\n",
    "You must feed a value for placeholder tensor\n",
    "'''"
   ]
  },
  {
   "cell_type": "code",
   "execution_count": null,
   "metadata": {},
   "outputs": [],
   "source": [
    "print(X_1.shape, X_2.shape, mul.shape, add.shape, output.shape)"
   ]
  },
  {
   "cell_type": "code",
   "execution_count": null,
   "metadata": {},
   "outputs": [],
   "source": [
    "print(data1.shape, data2.shape, out_mul.shape, out_add.shape, out_output.shape)"
   ]
  },
  {
   "cell_type": "code",
   "execution_count": null,
   "metadata": {},
   "outputs": [],
   "source": [
    "tf.reset_default_graph()\n",
    "\n",
    "data1 = np.array([1,2,3,4,5,6,7,8,9,10])\n",
    "data2 = np.array([10,9,8,7,6,5,4,3,2,1])\n",
    "\n",
    "with tf.name_scope(\"Input_layer\"):\n",
    "    with tf.device('/cpu:0'):\n",
    "        X_1 = tf.placeholder(tf.float32, shape=[], name = 'Input_1')\n",
    "        X_2 = tf.placeholder(tf.float32, shape=[], name = 'Input_2')\n",
    "with tf.name_scope(\"hidden_layer\"):\n",
    "    with tf.device('/cpu:0'):\n",
    "        layer1_mul = tf.multiply(X_1, X_2, name = 'Mul_layer1')\n",
    "    with tf.device('/gpu:0'):\n",
    "        layer1_add = tf.add(X_1, X_2, name = 'Add_layer1')\n",
    "with tf.name_scope(\"Output_layer\"):\n",
    "    with tf.device('/gpu:0'):\n",
    "        output = tf.add(layer1_mul, layer1_add, name = 'Output')\n",
    "\n",
    "sess = tf.Session()    \n",
    "for i in range(len(data1)):\n",
    "    result = sess.run(output, feed_dict = {X_1 : data1[i], X_2 : data2[i]})\n",
    "    print(result)\n",
    "\n",
    "\n",
    "sess.close()\n",
    "\n",
    "\n",
    "show_graph(tf.get_default_graph().as_graph_def())"
   ]
  },
  {
   "cell_type": "code",
   "execution_count": null,
   "metadata": {},
   "outputs": [],
   "source": [
    "tf.reset_default_graph()\n",
    "Weight = tf.Variable([[1],[2]], name = 'my_first_weight')\n",
    "print(Weight)"
   ]
  },
  {
   "cell_type": "code",
   "execution_count": null,
   "metadata": {},
   "outputs": [],
   "source": [
    "sess = tf.Session()\n",
    "print(sess.run(Weight))\n",
    "sess.close()"
   ]
  },
  {
   "cell_type": "markdown",
   "metadata": {},
   "source": [
    "무시무시한 에러가 보이십니까?!\n",
    "\n",
    "기억하세요.\n",
    "\n",
    "### Variable은 반드시, 반드시 [ global_variables_initializer() ] 를 하고 나서 사용해야 합니다."
   ]
  },
  {
   "cell_type": "code",
   "execution_count": null,
   "metadata": {},
   "outputs": [],
   "source": [
    "tf.reset_default_graph()\n",
    "Weight = tf.Variable([[1],[2]], name = 'my_first_weight')\n",
    "init = tf.global_variables_initializer()\n",
    "sess = tf.Session()\n",
    "sess.run(init)\n",
    "print(sess.run(Weight))\n",
    "sess.close()\n"
   ]
  },
  {
   "cell_type": "code",
   "execution_count": null,
   "metadata": {},
   "outputs": [],
   "source": [
    "tf.reset_default_graph()\n",
    "Weight = tf.Variable(tf.random_normal([10,4]), name = 'my_first_weight')\n",
    "init = tf.global_variables_initializer()\n",
    "sess = tf.Session()\n",
    "sess.run(init)\n",
    "print(sess.run(Weight))\n",
    "sess.close()"
   ]
  },
  {
   "cell_type": "code",
   "execution_count": null,
   "metadata": {},
   "outputs": [],
   "source": [
    "'''\n",
    "아래 코드를 수정하거나, Ctrl + Enter를 통해 반복 실행해보세요.\n",
    "'''\n",
    "\n",
    "\n",
    "tf.reset_default_graph()\n",
    "#  tf.set_random_seed(2017)   <-   주석을 풀고서도 실행해보아요.\n",
    "Weight = tf.Variable(tf.random_normal([10,4]), name = 'my_first_weight')\n",
    "\n",
    "init = tf.global_variables_initializer()\n",
    "sess = tf.Session()\n",
    "\n",
    "sess.run(init)\n",
    "print(sess.run(Weight))\n",
    "sess.close()"
   ]
  },
  {
   "cell_type": "markdown",
   "metadata": {},
   "source": [
    "## Simple learning model"
   ]
  },
  {
   "cell_type": "code",
   "execution_count": null,
   "metadata": {},
   "outputs": [],
   "source": [
    "tf.reset_default_graph()\n",
    "tf.set_random_seed(2017)           # 주석을 하고나서도 실행해 보아요.\n",
    "random_value = tf.Variable(tf.random_normal(shape=()), name = 'random')\n",
    "constant_value = tf.constant(100, tf.float32)\n",
    "\n",
    "cost = tf.square(tf.subtract(constant_value,random_value))\n",
    "\n",
    "Optimizer = tf.train.AdamOptimizer(learning_rate = 0.2)\n",
    "\n",
    "One_step_training = Optimizer.minimize(cost)\n",
    "\n",
    "init = tf.global_variables_initializer()\n",
    "sess = tf.Session()\n",
    "\n",
    "sess.run(init)\n",
    "\n",
    "for i in range(1401) :\n",
    "    sess.run(One_step_training)\n",
    "    if i % 100 ==0 :\n",
    "        random = sess.run(random_value)\n",
    "        print('{}th epoch, answer : {}, current_value : {}'.format(i, 100, random))\n",
    "\n",
    "sess.close()\n",
    "\n",
    "show_graph(tf.get_default_graph().as_graph_def())"
   ]
  }
 ],
 "metadata": {
  "kernelspec": {
   "display_name": "Python 3",
   "language": "python",
   "name": "python3"
  },
  "language_info": {
   "codemirror_mode": {
    "name": "ipython",
    "version": 3
   },
   "file_extension": ".py",
   "mimetype": "text/x-python",
   "name": "python",
   "nbconvert_exporter": "python",
   "pygments_lexer": "ipython3",
   "version": "3.5.2"
  }
 },
 "nbformat": 4,
 "nbformat_minor": 2
}
