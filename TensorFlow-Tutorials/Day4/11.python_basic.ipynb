{
 "cells": [
  {
   "cell_type": "markdown",
   "metadata": {
    "nbpresent": {
     "id": "324c3256-4054-4685-a71c-ae0fe87670c2"
    }
   },
   "source": [
    "# 01. Python Basic\n",
    "\n",
    "<p style=\"text-align: right;\">\n",
    "blackdew7@gmail.com<br>\n",
    "</p>\n",
    "\n",
    "### 파이썬 실습시간 그 첫번째!\n",
    "전체 교육 과정에서 파이썬을 사용합니다. \n",
    "\n",
    "#### 실습목표\n",
    "1. 데이터 타입을 알고 있다. - 숫자, 문자, boolean\n",
    "2. 제어문을 사용할 수 있고, 제어문이 사용된 소스코드를 이해할 수 있다. \n",
    "3. 자료형이 무엇인지 알고 자료형이 사용된 소스코드를 이해할 수 있다.\n",
    "4. List, Dictionary, Set, Tuple 각 자료형의 특징과 차이점을 안다.\n",
    "5. 함수(Function)가 무엇인지 알고, 함수가 사용된 소스코드를 이해할 수 있다. 간단한 함수를 작성할 수 있다. \n",
    "6. 클래스(Class)가 무엇인지 알고, 클래스가 사용된 소스코드를 이해할 수 있다.\n",
    "9. Lambda가 무엇인지 알고, Labmda가 사용된 소스코드를 이해할 수 있다."
   ]
  },
  {
   "cell_type": "markdown",
   "metadata": {},
   "source": [
    "## Jupyter Notebook 단축키\n",
    "* Cell 실행: Control + Enter\n",
    "* Cell 실행 + 다음셀 이동: Shift + Enter\n",
    "* Code Completion: Tab\n",
    "* Tooltip 보기: Shift + Tab\n",
    "* 셀 생성 & 삭제: A (셀을 선택된 셀 위에 생성), B (셀을 선택된 셀 아래에 생성), D (선택된 셀을 삭제)\n",
    "* 줄 번호 보기: L\n",
    "* Command Palette 보기: Shift + Control/Command + P\n",
    "* 단축키 모음 보기: H"
   ]
  },
  {
   "cell_type": "markdown",
   "metadata": {},
   "source": [
    "## Magic 키워드\n",
    "* Jupyter Notebook은 사용자 편의를 위해 Magic 키워드 를 지원한다.\n",
    "* Magic 키워드는 % 또는 %%를 이용하여 실행할 수 있다. 각각 한 줄, 한 셀에 대해 Magic 키워드를 실행한다.\n",
    "* Magic 키워드로 제공하는 기능은 여러가지가 있지만 주로 사용되는것은 다음과 같다."
   ]
  },
  {
   "cell_type": "code",
   "execution_count": null,
   "metadata": {
    "collapsed": true
   },
   "outputs": [],
   "source": [
    "# 메모리를 리셋한다.\n",
    "%reset\n",
    "\n",
    "# matplot 그래프와 그림을 출력한다.\n",
    "%matplotlib inline\n",
    "%config InlineBackend.figure_format = 'retina'\n",
    "\n",
    "# 파일을 로딩한다. \n",
    "%load"
   ]
  },
  {
   "cell_type": "markdown",
   "metadata": {},
   "source": [
    "# 01 파이썬 기초 문법\n",
    "\n",
    "1. hello python\n",
    "2. Variables\n",
    "3. Type & Operator - Number\n",
    "4. Type & Operator - String\n",
    "5. Container - List\n",
    "6. Slicing"
   ]
  },
  {
   "cell_type": "markdown",
   "metadata": {
    "nbpresent": {
     "id": "77420740-c7d1-42dc-8cbf-f131e6ac7001"
    }
   },
   "source": [
    "## 1. Hello Python"
   ]
  },
  {
   "cell_type": "code",
   "execution_count": null,
   "metadata": {
    "collapsed": true,
    "nbpresent": {
     "id": "41a29509-236f-4951-a9d2-6c2cf4963c6b"
    }
   },
   "outputs": [],
   "source": [
    "print(\"Hello, Python World!!\") \n",
    "\n",
    "# !주의 \n",
    "# 2.0 버전에서는 '()' 괄호가 없는 형태로 print문을 처리할 수 있었습니다. \n",
    "# 3.0 버전에서 python 코드를 들고와서 돌렸는데 에러가 날 때에는 print 처리가 어떻게 되어있는지 확인해 봐야해요. \n",
    "# print \"Hello, Python World!!\""
   ]
  },
  {
   "cell_type": "code",
   "execution_count": null,
   "metadata": {
    "collapsed": true
   },
   "outputs": [],
   "source": [
    "# help '?' 이용, or Shift + Tab\n",
    "?print"
   ]
  },
  {
   "cell_type": "markdown",
   "metadata": {},
   "source": [
    "## 2. Variables\n",
    "\n",
    "- 대소문자 구분함.\n",
    "- 알파벳 + 숫자 및 언더바\n",
    "- 변수 이름으로 변수에 담긴 값을 소환\n",
    "- 다중 할당"
   ]
  },
  {
   "cell_type": "code",
   "execution_count": null,
   "metadata": {
    "collapsed": true
   },
   "outputs": [],
   "source": [
    "# 학점 규칙: 중간고사 40%, 기말고사 40%, 퀴즈 20%\n",
    "\n",
    "# 변수 할당\n",
    "midterm = 95\n",
    "finals = 65\n",
    "quiz = 90\n",
    "\n",
    "result = midterm * 0.4 + finals * 0.4 + quiz * 0.2\n",
    "print(result)\n",
    "\n",
    "# 다중 할당\n",
    "\n"
   ]
  },
  {
   "cell_type": "markdown",
   "metadata": {
    "nbpresent": {
     "id": "ae941080-9b54-48d0-9c2e-d789737ca6a3"
    }
   },
   "source": [
    "## 3. Type & Operator - Number\n",
    "\n",
    "- number: int, float\n",
    "- 산술 연산자 "
   ]
  },
  {
   "cell_type": "code",
   "execution_count": null,
   "metadata": {
    "collapsed": true,
    "nbpresent": {
     "id": "ff5d24f2-939f-4007-9892-f241c94b9e6f"
    }
   },
   "outputs": [],
   "source": [
    "# 학점 규칙: 중간고사 40%, 기말고사 40%, 퀴즈 20%\n",
    "\n",
    "midterm, finals, quiz = 95, 65, 90\n",
    "result = midterm * 0.4 + finals * 0.4 + quiz * 0.2\n",
    "print(result)\n",
    "\n",
    "# int\n",
    "print(type(midterm))\n",
    "\n",
    "# float\n",
    "print(type(result))\n",
    "\n",
    "# 수리 연산자\n",
    "# +, -, *, /\n",
    "# %\n",
    "# **\n",
    "# //\n",
    "# +=, -=, *=, /=\n"
   ]
  },
  {
   "cell_type": "markdown",
   "metadata": {},
   "source": [
    "## 4. Type & Operator - String\n",
    "\n",
    "- string\n",
    "- print 활용\n",
    "- string slicing"
   ]
  },
  {
   "cell_type": "code",
   "execution_count": null,
   "metadata": {
    "collapsed": true
   },
   "outputs": [],
   "source": [
    "# 문자열\n",
    "# 파이썬은 문자열에 대해 상당한 편의성을 지원합니다.\n",
    "\n",
    "thanks = 'thanks'    # 작은 따옴표를 사용할 수 있습니다.\n",
    "name = \"Guido van Rossum\"    # 큰 따옴표도 사용할 수 있습니다.\n",
    "tn = thanks + ' ' + name  # 문자열 연결\n",
    "\n",
    "# print\n",
    "print(thanks)       # \"thanks\" 출력.\n",
    "print(len(thanks))  # 문자열 길이 출력 - \"5\"\n",
    "print(tn)  # \"thanks Guido van Rossum\" 출력\n",
    "\n",
    "# multi line string\n",
    "multilines = \"\"\"\n",
    "hello, python world\n",
    "- Guido van Rossum\n",
    "- python.org\n",
    "\"\"\"\n",
    "\n",
    "# 문자열 출력 활용 1\n",
    "\n",
    "\n",
    "# 문자열 출력 활용 2\n",
    "\n"
   ]
  },
  {
   "cell_type": "markdown",
   "metadata": {},
   "source": [
    "## 5. Container - List\n",
    "\n",
    "- list \n",
    "- add & remove"
   ]
  },
  {
   "cell_type": "code",
   "execution_count": 4,
   "metadata": {},
   "outputs": [
    {
     "name": "stdout",
     "output_type": "stream",
     "text": [
      "<class 'list'>\n",
      "95\n",
      "<class 'list'>\n"
     ]
    },
    {
     "data": {
      "text/plain": [
       "'Geoffery Hinton'"
      ]
     },
     "execution_count": 4,
     "metadata": {},
     "output_type": "execute_result"
    }
   ],
   "source": [
    "# stu01 - name, midterm, finals, quiz = \"Geoffery Hinton\", 95, 65, 90\n",
    "# stu02 - name, midterm, finals, quiz = \"Yann Lecun\", 80, 85, 90\n",
    "# stu03 - name, midterm, finals, quiz = \"Yoshua Bengio\", 92, 88, 84\n",
    "# stu04 - name, midterm, finals, quiz = \"Andrew Ng\", 75, 85, 100\n",
    "\n",
    "# 리스트 생성\n",
    "stu01 = [\"Geoffery Hinton\", 95, 65, 90]\n",
    "stu02 = [\"Yann Lecun\", 80, 85, 90]\n",
    "stu03 = [\"Yoshua Bengio\", 92, 88, 84]\n",
    "stu04 = [\"Andrew Ng\", 75, 85, 100]\n",
    "\n",
    "print(type(stu01))\n",
    "\n",
    "# 리스트 요소 조회\n",
    "print(stu01[1])\n",
    "\n",
    "\n",
    "# 2차원 리스트\n",
    "stu = [stu01, stu02, stu03, stu04]\n",
    "print(type(stu01))\n",
    "\n",
    "# 2차원 리스트 요소 조회\n",
    "stu[0][0]\n",
    "\n"
   ]
  },
  {
   "cell_type": "code",
   "execution_count": null,
   "metadata": {
    "collapsed": true
   },
   "outputs": [],
   "source": [
    "# stu01 - name, midterm, finals, quiz = \"Geoffery Hinton\", 95, 65, 90\n",
    "# stu02 - name, midterm, finals, quiz = \"Yann Lecun\", 80, 85, 90\n",
    "# stu03 - name, midterm, finals, quiz = \"Yoshua Bengio\", 92, 88, 84\n",
    "# stu04 - name, midterm, finals, quiz = \"Andrew Ng\", 75, 85, 100\n",
    "\n",
    "# 리스트 생성\n",
    "stu01 = [\"Geoffery Hinton\", 95, 65, 90]\n",
    "stu02 = [\"Yann Lecun\", 80, 85, 90]\n",
    "stu03 = [\"Yoshua Bengio\", 92, 88, 84]\n",
    "stu04 = [\"Andrew Ng\", 75, 85, 100]\n",
    "\n",
    "print(type(stu01))\n",
    "\n",
    "## 요소 추가하기 \n",
    "\n",
    "\n",
    "## 요소 제거하기 \n",
    "\n",
    "\n",
    "## 요소 변경하기\n",
    "\n",
    "\n",
    "## 리스트 복제\n",
    "\n"
   ]
  },
  {
   "cell_type": "markdown",
   "metadata": {},
   "source": [
    "## 6. Slicing\n",
    "- slicing list\n",
    "- slicing string"
   ]
  },
  {
   "cell_type": "code",
   "execution_count": 5,
   "metadata": {
    "scrolled": true
   },
   "outputs": [
    {
     "name": "stdout",
     "output_type": "stream",
     "text": [
      "[95, 65, 90]\n",
      "[80, 85, 90]\n",
      "[92, 88, 84]\n",
      "[75, 85, 100]\n"
     ]
    }
   ],
   "source": [
    "# 리스트 생성\n",
    "numbers = [95, 65, 90, 80, 85, 90, 92, 88, 84, 75, 85, 100]\n",
    "\n",
    "# 리스트의 subset 01\n",
    "print(numbers[0:3])\n",
    "print(numbers[3:6])\n",
    "print(numbers[6:9])\n",
    "print(numbers[9:12])\n",
    "\n",
    "# 리스트의 subset 02\n",
    "\n",
    "\n",
    "# 리스트의 subset 03\n",
    "\n"
   ]
  },
  {
   "cell_type": "code",
   "execution_count": 6,
   "metadata": {
    "scrolled": true
   },
   "outputs": [
    {
     "name": "stdout",
     "output_type": "stream",
     "text": [
      "hobby\n",
      "project\n"
     ]
    }
   ],
   "source": [
    "# 문자열 생성\n",
    "python = \"hobby project during the week around Christmas as his office was closed\"\n",
    "\n",
    "# 문자열 subset 01\n",
    "print(python[0:5])\n",
    "print(python[6:13])\n",
    "\n",
    "# 문자열 subset 02\n",
    "\n",
    "\n",
    "# 문자열 subset 03\n",
    "\n"
   ]
  },
  {
   "cell_type": "markdown",
   "metadata": {},
   "source": [
    "### 실습"
   ]
  },
  {
   "cell_type": "code",
   "execution_count": null,
   "metadata": {
    "collapsed": true
   },
   "outputs": [],
   "source": [
    "# 각 리스트의 요소는 name, midterm, quiz, finals입니다. \n",
    "stu01 = [\"Geoffery Hinton\", 95, 65, 90]\n",
    "stu02 = [\"Yann Lecun\", 80, 85, 90]\n",
    "stu03 = [\"Yoshua Bengio\", 92, 88, 84]\n",
    "stu04 = [\"Andrew Ng\", 75, 85, 100]\n",
    "\n",
    "# 위의 4개의 리스트를 담은 stu 리스트를 생성하세요. \n",
    "stu = []\n",
    "\n",
    "\n",
    "# 각 학생들의 이름 중 Last Name만 출력하시오.\n",
    "\n",
    "\n",
    "# 각 학생들의 학기 합산 점수를 구하세요. \n",
    "# result = midterm * 0.4 + finals * 0.4 + quiz * 0.2\n",
    "stu01_avg = \n",
    "stu02_avg = \n",
    "stu03_avg = \n",
    "stu04_avg = \n",
    "\n",
    "\n",
    "# stu 리스트에 위에서 구한 합산 점수를 추가 하세요. \n",
    "\n",
    "\n",
    "# 다음의  활용하여 이름과 합산 점수를 출력하세요. \n",
    "email = \"\"\"\n",
    "Hello, {0}\n",
    "\n",
    "{0}의 이번학기 성적은 {1}입니다.\n",
    "\n",
    "수고하셨습니다. \n",
    "\n",
    "\"\"\"\n",
    "\n",
    "# 학생들의 midterm, quiz, finals 요소만 slicing 해서 mqf list에 추가하는 구문을 완성하세요.\n",
    "mqf = []\n",
    "mqf.append(stu[0][:])\n",
    "mqf.append(stu[1][:])\n",
    "mqf.append(stu[2][:])\n",
    "mqf.append(stu[3][:])\n"
   ]
  },
  {
   "cell_type": "markdown",
   "metadata": {},
   "source": [
    "# 02 파이썬 입문\n",
    "\n",
    "1. Type & Operator - Boolean\n",
    "2. Control (제어문)\n",
    "3. Function (함수)\n",
    "4. Method\n",
    "5. Package"
   ]
  },
  {
   "cell_type": "markdown",
   "metadata": {},
   "source": [
    "## 1. Type & Operator - Boolean\n",
    "\n",
    "- boolean\n",
    "- 비교 연산자"
   ]
  },
  {
   "cell_type": "code",
   "execution_count": null,
   "metadata": {
    "collapsed": true
   },
   "outputs": [],
   "source": [
    "# True/False Boolean\n",
    "\n",
    "t = True\n",
    "f = False\n",
    "print(type(t)) # Prints \"<class 'bool'>\"\n",
    "\n",
    "# 논리 연산자\n",
    "print(t and f) # AND 연산, \"False\"\n",
    "print(t or f)  # OR 연산, \"True\"\n",
    "print(not t)   # NOT 연산, prints \"False\"\n",
    "\n",
    "# 비교 연산자\n",
    "# ==, !=, >, <, >=, <=\n"
   ]
  },
  {
   "cell_type": "markdown",
   "metadata": {},
   "source": [
    "## 2. Control (제어문)\n",
    "\n",
    "- 조건문: if-else\n",
    "- 반복문: while\n",
    "- 반복문: for\n"
   ]
  },
  {
   "cell_type": "code",
   "execution_count": null,
   "metadata": {
    "collapsed": true
   },
   "outputs": [],
   "source": [
    "# 조건문 - if-else\n",
    "\n",
    "my_score = 73\n",
    " \n",
    "if my_score >= 90:\n",
    "    my_grade = 'A'\n",
    "elif my_score >= 80:\n",
    "    my_grade = 'B'\n",
    "elif my_score >= 70:\n",
    "    my_grade = 'C'\n",
    "elif my_score >= 60:\n",
    "    my_grade = 'E'\n",
    "else:\n",
    "    my_grade = 'F'\n",
    " \n",
    "print(my_grade)"
   ]
  },
  {
   "cell_type": "code",
   "execution_count": null,
   "metadata": {
    "collapsed": true
   },
   "outputs": [],
   "source": [
    "# 반복문 - for\n",
    "for i in range(5):\n",
    "    print(i)\n",
    "    \n",
    "for i in range(5):\n",
    "    print('*', end='')\n",
    "\n",
    "fruits = ['apple', 'banana', 'cherry']\n",
    " \n",
    "for i in fruits:\n",
    "    print(i)\n",
    "    \n",
    "for index, value in enumerate(fruits):\n",
    "    print(index, value)\n",
    "    \n",
    "for index in range(len(fruits)):\n",
    "    print(index, fruits[index])"
   ]
  },
  {
   "cell_type": "code",
   "execution_count": null,
   "metadata": {
    "collapsed": true
   },
   "outputs": [],
   "source": [
    "# 반복문 - while\n",
    "fruits = ['apple', 'banana', 'cherry']\n",
    "i = 0 \n",
    "while i < len(fruits):\n",
    "    print(fruits[i])\n",
    "    i += 1"
   ]
  },
  {
   "cell_type": "markdown",
   "metadata": {},
   "source": [
    "### 실습"
   ]
  },
  {
   "cell_type": "code",
   "execution_count": 16,
   "metadata": {},
   "outputs": [
    {
     "name": "stdout",
     "output_type": "stream",
     "text": [
      "*****\n",
      "*****\n",
      "*****\n",
      "*****\n",
      "[0]\n",
      "*\n",
      "[0, 1]\n",
      "**\n",
      "[0, 1, 2]\n",
      "***\n",
      "[0, 1, 2, 3]\n",
      "****\n",
      "[0, 1, 2, 3, 4]\n",
      "*****\n",
      "[0, 1, 2, 3, 4]\n",
      "*****\n",
      "[0, 1, 2, 3]\n",
      "****\n",
      "[0, 1, 2]\n",
      "***\n",
      "[0, 1]\n",
      "**\n",
      "[0]\n",
      "*\n",
      "     *\n",
      "    **\n",
      "   ***\n",
      "  ****\n",
      " *****\n"
     ]
    }
   ],
   "source": [
    "for j in range(4):\n",
    "    for i in range(5):\n",
    "        print('*', end='')\n",
    "    print()\n",
    "\n",
    "    \n",
    "# 위의 코드를 변형하여 다음 모양을 출력해보자\n",
    "# 1. \n",
    "# *\n",
    "# **\n",
    "# ***\n",
    "# ****\n",
    "# *****\n",
    "for j in range(5):\n",
    "    print(list(range(j + 1)))\n",
    "    for i in range(j + 1):\n",
    "        print('*', end='')\n",
    "    print()\n",
    "\n",
    "\n",
    "# 2. \n",
    "# *****\n",
    "# ****\n",
    "# ***\n",
    "# **\n",
    "# *\n",
    "for j in range(5):\n",
    "    print(list(range(5 - j)))\n",
    "    for i in range(5 - j):\n",
    "        print('*', end='')\n",
    "    print()\n",
    "\n",
    "\n",
    "# 3.\n",
    "#     *\n",
    "#    **\n",
    "#   ***\n",
    "#  ****\n",
    "# *****\n",
    "for j in range(5):\n",
    "    for i in range(5 - j):\n",
    "        print(' ', end='')\n",
    "    for i in range(j + 1):\n",
    "        print('*', end='')\n",
    "    print()\n",
    "\n",
    "# 각 리스트의 요소는 name, midterm, quiz, finals입니다. \n",
    "stu = [[\"Geoffery Hinton\", 95, 65, 90],\n",
    "       [\"Yann Lecun\", 80, 85, 90],\n",
    "       [\"Yoshua Bengio\", 92, 88, 84],\n",
    "       [\"Andrew Ng\", 75, 85, 100]]\n",
    "\n",
    "# 학점 규칙: 중간고사 35%, 기말고사 35%, 퀴즈 30%\n",
    "# total을 계산하는 함수를 생성하시오. \n",
    "def total(midterm, finals, quiz):\n",
    "    return r\n",
    "\n",
    "# 점수에 해당하는 grade를 반환하는 함수를 만드시오. \n",
    "# 90이상 A, 80이상 B, 70 이상 C, 나머지는 F\n",
    "def grade(total):\n",
    "    return g\n",
    "\n",
    "# for문을 이용하여 stu 모든 학생들의 total 결과를 totals list에 차례로 담으세요. \n",
    "totals = []\n",
    "    \n"
   ]
  },
  {
   "cell_type": "markdown",
   "metadata": {},
   "source": [
    "\n",
    "## 3. Function (함수)\n",
    "\n",
    "- 내장 함수: print, round, max, min, sorted\n",
    "- 함수 만들기"
   ]
  },
  {
   "cell_type": "code",
   "execution_count": null,
   "metadata": {
    "collapsed": true
   },
   "outputs": [],
   "source": [
    "print(\"I love you\")\n",
    "\n",
    "# 아래의 문장을 출력해보자.\n",
    "# 1. He said \"I'll be back\"\n",
    "# 2. the file's directory is \"C:\\\\Python3\""
   ]
  },
  {
   "cell_type": "code",
   "execution_count": null,
   "metadata": {
    "collapsed": true
   },
   "outputs": [],
   "source": [
    "print(round(10.4607))\n",
    "print(round(10.5129))\n",
    "print(round(10.5129, 2))\n",
    "print(round(10.5029, 3))\n",
    "\n",
    "numbers = [95, 65, 90, 80, 85, 90, 92, 88, 84, 75, 85, 100]\n",
    "print(max(numbers))\n",
    "print(min(numbers))\n",
    "print(sorted(numbers))\n",
    "\n",
    "# help\n",
    "help(print)"
   ]
  },
  {
   "cell_type": "code",
   "execution_count": null,
   "metadata": {
    "collapsed": true
   },
   "outputs": [],
   "source": [
    "# os 모듈\n",
    "import os\n",
    "\n",
    "print(os.getcwd())\n",
    "print(os.listdir())"
   ]
  },
  {
   "cell_type": "code",
   "execution_count": null,
   "metadata": {
    "collapsed": true
   },
   "outputs": [],
   "source": [
    "def sign(x):\n",
    "    if x > 0:\n",
    "        return 'positive'\n",
    "    elif x < 0:\n",
    "        return 'negative'\n",
    "    else:\n",
    "        return 'zero'\n",
    "\n",
    "for x in [-1, 0, 1]:\n",
    "    print(sign(x))\n",
    "    "
   ]
  },
  {
   "cell_type": "code",
   "execution_count": null,
   "metadata": {
    "collapsed": true
   },
   "outputs": [],
   "source": [
    "def total(midterm, quiz, finals):\n",
    "    return midterm * 0.4 + quiz * 0.2 + finals * 0.4\n",
    "\n",
    "stu01 = [\"Geoffery Hinton\", 95, 65, 90]\n",
    "stu02 = [\"Yann Lecun\", 80, 85, 90]\n",
    "stu03 = [\"Yoshua Bengio\", 92, 88, 84]\n",
    "stu04 = [\"Andrew Ng\", 75, 85, 100]\n",
    "\n",
    "print(total(stu01[1], stu01[2], stu01[3]))\n",
    "\n",
    "# 꿀팁 1 - 여러 개의 value return\n",
    "def total(s):\n",
    "    result = s[1] * 0.4 + s[2] * 0.2 + s[3] * 0.4\n",
    "    return s[0], result\n",
    "\n",
    "# 꿀팁 2 - '*'\n",
    "print(total(stu01[1:4]))\n",
    "def total(x, y, z):\n",
    "    return x * 0.4 + y * 0.2 + z * 0.4\n",
    "\n",
    "total(*stu01[1:4])"
   ]
  },
  {
   "cell_type": "markdown",
   "metadata": {},
   "source": [
    "### 실습"
   ]
  },
  {
   "cell_type": "code",
   "execution_count": 23,
   "metadata": {},
   "outputs": [
    {
     "name": "stdout",
     "output_type": "stream",
     "text": [
      "-1\n",
      "5\n",
      "45\n"
     ]
    }
   ],
   "source": [
    "# 1. 두 개의 정수 값을 받아 평균을 구하는 함수를 작성하세요.\n",
    "def get_average(x, y):\n",
    "    # 함수구현\n",
    "    return (x + y) / 2\n",
    "\n",
    "# 2. 리스트를 입력받아서 최소값과 최대값을 반환하는 함수를 작성하세요.\n",
    "def get_min(ls):\n",
    "    # 함수구현\n",
    "    r = ls[0]\n",
    "    for i in ls:\n",
    "        if (r > i):\n",
    "            r = i\n",
    "    return r\n",
    "\n",
    "print(get_min([1, 2, 3, 4, -1, 5]))\n",
    "\n",
    "    \n",
    "def get_max(ls):\n",
    "    # 함수구현\n",
    "    r = ls[0]\n",
    "    for i in ls:\n",
    "        if (r < i):\n",
    "            r = i\n",
    "    return r\n",
    "\n",
    "print(get_max([1, 2, 3, 4, -1, 5]))\n",
    "\n",
    "\n",
    "# 3. 시작과 끝 숫자를 받아 시작부터 끝까지의 모든 정수값의 합을 반환하는 함수를 작성하세요. (시작값과 끝값 포함)\n",
    "def get_sum(start, end):\n",
    "    # 함수구현\n",
    "    r = 0\n",
    "    for i in range(end - start + 1):\n",
    "        r += i + start\n",
    "    \n",
    "    return r\n",
    "    \n",
    "print(get_sum(5, 10))"
   ]
  },
  {
   "cell_type": "markdown",
   "metadata": {},
   "source": [
    "## 4. Method\n",
    "\n",
    "- list의 metnods\n",
    "- string의 methods\n",
    "- 'dir': object의 methods 확인"
   ]
  },
  {
   "cell_type": "code",
   "execution_count": null,
   "metadata": {
    "collapsed": true
   },
   "outputs": [],
   "source": [
    "numbers = [95, 65, 90, 80, 85, 90, 92, 88, 84, 75, 85, 100]\n",
    "print(numbers)\n",
    "\n",
    "print(numbers.index(65))\n",
    "\n",
    "numbers.remove(65)\n",
    "print(numbers)\n",
    "\n",
    "numbers.sort()\n",
    "print(numbers)\n",
    "\n",
    "numbers.clear()\n",
    "print(numbers)\n"
   ]
  },
  {
   "cell_type": "code",
   "execution_count": null,
   "metadata": {
    "collapsed": true
   },
   "outputs": [],
   "source": [
    "hello = \"hello, guido van Rossum \"\n",
    "print(hello)\n",
    "\n",
    "print(hello.capitalize())\n",
    "print(hello.upper())\n",
    "print(hello.lower())\n",
    "print(hello.replace('hello', 'goodbyeindexindex'))"
   ]
  },
  {
   "cell_type": "code",
   "execution_count": null,
   "metadata": {
    "collapsed": true,
    "scrolled": true
   },
   "outputs": [],
   "source": [
    "hello = \"\"\n",
    "print(type(hello))\n",
    "print(dir(hello))\n",
    "\n",
    "numbers = []\n",
    "print(type(numbers))\n",
    "print(dir(numbers))"
   ]
  },
  {
   "cell_type": "code",
   "execution_count": null,
   "metadata": {
    "collapsed": true
   },
   "outputs": [],
   "source": [
    "# 1. string object의 strip 메쏘드가 무엇인지 알아보고 사용해보자.\n",
    "\n",
    "# 2. string object의 split 메쏘드가 무엇인지 알아보고 알아보고 사용해보자.\n",
    "\n",
    "# 3. string object의 join 메쏘드가 무엇인지 알아보고 알아보고 사용해보자.\n",
    "\n",
    "# 4. list object의 insert 메쏘드가 무엇인지 알아보고 사용해보자. append와 어떤 차이가 있는지 설명해보자.\n",
    "\n",
    "# 5. list object의 pop 메쏘드가 무엇인지 알아보고 사용해보자.\n",
    "\n",
    "numbers = [95, 65, 90, 80, 85, 90, 92, 88, 84, 75, 85, 100]\n",
    "# 6. numbers의 요소가 몇개인지 구하시오.\n",
    "\n",
    "# 7. numbers를 역순으로 정렬하시오\n",
    "\n",
    "names = \"    guido van Rossum     \"\n",
    "# 8. names 문자열의 길이를 구하시오\n",
    "\n",
    "# 9. names 앞 뒤 공백을 재거하고 출력하시오\n",
    "\n"
   ]
  },
  {
   "cell_type": "markdown",
   "metadata": {},
   "source": [
    "## 5. Package\n",
    "\n",
    "- install package\n",
    "- import package"
   ]
  },
  {
   "cell_type": "code",
   "execution_count": null,
   "metadata": {
    "collapsed": true
   },
   "outputs": [],
   "source": [
    "# !pip install package\n",
    "# !pip3 install package"
   ]
  },
  {
   "cell_type": "code",
   "execution_count": null,
   "metadata": {
    "collapsed": true
   },
   "outputs": [],
   "source": [
    "import numpy\n",
    "\n",
    "a = numpy.array([1, 2, 3])\n",
    "type(a)"
   ]
  },
  {
   "cell_type": "code",
   "execution_count": null,
   "metadata": {
    "collapsed": true
   },
   "outputs": [],
   "source": [
    "import numpy as np\n",
    "\n",
    "a = np.array([1, 2, 3])\n",
    "type(a)"
   ]
  },
  {
   "cell_type": "code",
   "execution_count": null,
   "metadata": {
    "collapsed": true
   },
   "outputs": [],
   "source": [
    "from numpy import array as arr\n",
    "\n",
    "a = arr([1, 2, 3])\n",
    "type(a)"
   ]
  },
  {
   "cell_type": "markdown",
   "metadata": {},
   "source": [
    "# 03 파이썬 중급자 되기\n",
    "\n",
    "1. Container - List\n",
    "2. Container - Dictionary\n",
    "3. Container - Set\n",
    "4. Container - Tuple\n",
    "5. Class\n",
    "6. Lambda"
   ]
  },
  {
   "cell_type": "markdown",
   "metadata": {},
   "source": [
    "## 1. 자료형(Container) - Lists\n",
    "- 일반적인 배열\n",
    "- 여러 타입의 데이터를 혼합해서 가질 수 있다."
   ]
  },
  {
   "cell_type": "code",
   "execution_count": null,
   "metadata": {
    "collapsed": true
   },
   "outputs": [],
   "source": [
    "# 리스트 생성\n",
    "xs = [3, 1, 2]\n",
    "\n",
    "print(xs)                   # \"[3, 1, 2]\"\n",
    "print(xs[1], xs[2], xs[0])  # \"1 2 3\"\n",
    "print(xs[-1])               # \"2\"\n",
    "\n",
    "# 리스트 내용 변경\n",
    "xs[2] = 6\n",
    "print(xs)         # \"[3, 1, 6]\"\n",
    "# 하나의 리스트 내에 여러가지 타입이 들어갈 수 있다.\n",
    "xs[2] = 'foo'\n",
    "print(xs)         # \"[3, 1, 'foo']\"\n",
    "\n",
    "# 새로운 요소 추가\n",
    "xs.append('bar')\n",
    "print(xs)         # \"[3, 1, 'foo', 'bar']\"\n",
    "\n",
    "# 요소 제거\n",
    "del xs[2]\n",
    "print(xs)         # \"[3, 1, 'bar']\"\n",
    "\n",
    "# 마지막 요소를 가져오면서 제거\n",
    "x = xs.pop()\n",
    "print(x, xs)      # Prints \"bar [3, 1]\""
   ]
  },
  {
   "cell_type": "code",
   "execution_count": null,
   "metadata": {
    "collapsed": true
   },
   "outputs": [],
   "source": [
    "# 자르기(Slicing)\n",
    "\n",
    "# range - 정수 목록을 만드는 함수\n",
    "nums = list(range(10))\n",
    "print(nums)               # \"[0, 1, 2, 3, 4, 5, 6, 7, 8, 9]\"\n",
    "nums1 = list(range(2, 10))\n",
    "print(nums1)               # \"[2, 3, 4, 5, 6, 7, 8, 9]\"\n",
    "nums2 = list(range(2, 10, 2))\n",
    "print(nums2)               # \"[2, 4, 6, 8]\"\n",
    "\n",
    "# 자르기\n",
    "print(nums[2:4])          # \"[2, 3]\"\n",
    "print(nums[7:])           # \"[7, 8, 9]\"\n",
    "print(nums[:3])           # \"[0, 1, 2]\"\n",
    "print(nums[:-2])          # \"[0, 1, 2, 3, 4, 5, 6, 7]\"\n",
    "\n",
    "# 잘라낸 부분을 새로운 리스트로 할당(assign)\n",
    "nums[2:4] = [8, 9, 10]  \n",
    "print(nums)               # \"[0, 1, 8, 9, 10, 4, 5, 6, 7, 8, 9]\""
   ]
  },
  {
   "cell_type": "code",
   "execution_count": null,
   "metadata": {
    "collapsed": true
   },
   "outputs": [],
   "source": [
    "# list 복사\n",
    "\n",
    "nums_copy_1 = nums\n",
    "nums_copy_2 = nums[:]\n",
    "print(nums_copy_1)            # \"[0, 1, 2, 3, 4, 5, 6, 7, 8, 9]\"\n",
    "print(nums_copy_2)            # \"[0, 1, 2, 3, 4, 5, 6, 7, 8, 9]\"\n",
    "\n",
    "nums_copy_1[0] = 'a'\n",
    "print(nums_copy_1)            # \"[a, 1, 2, 3, 4, 5, 6, 7, 8, 9]\"\n",
    "print(nums_copy_2)            # \"[0, 1, 2, 3, 4, 5, 6, 7, 8, 9]\"\n",
    "print(nums)                   # \"[a, 1, 2, 3, 4, 5, 6, 7, 8, 9]\"\n",
    "\n",
    "nums_copy_2[0] = 'b'\n",
    "print(nums_copy_1)            # \"[a, 1, 2, 3, 4, 5, 6, 7, 8, 9]\"\n",
    "print(nums_copy_2)            # \"[b, 1, 2, 3, 4, 5, 6, 7, 8, 9]\"\n",
    "print(nums)                   # \"[a, 1, 2, 3, 4, 5, 6, 7, 8, 9]\""
   ]
  },
  {
   "cell_type": "code",
   "execution_count": null,
   "metadata": {
    "collapsed": true
   },
   "outputs": [],
   "source": [
    "# 반복문(Loops)\n",
    "animals = ['cat', 'dog', 'monkey']\n",
    "for animal in animals:\n",
    "    print(animal)\n",
    "\n",
    "animals = ['cat', 'dog', 'monkey']\n",
    "for idx, animal in enumerate(animals):\n",
    "    print('#%d: %s' % (idx + 1, animal))"
   ]
  },
  {
   "cell_type": "code",
   "execution_count": null,
   "metadata": {
    "collapsed": true
   },
   "outputs": [],
   "source": [
    "# 반복문\n",
    "nums = [0, 1, 2, 3, 4]\n",
    "squares = []\n",
    "for x in nums:\n",
    "    squares.append(x ** 2)\n",
    "print(squares)\n",
    "\n",
    "# 확장 문법 - 반복문\n",
    "nums = [0, 1, 2, 3, 4]\n",
    "squares = [x ** 2 for x in nums]\n",
    "print(squares) \n",
    "\n",
    "# 확장 문법 - 반복문 + 조건문\n",
    "nums = [0, 1, 2, 3, 4]\n",
    "even_squares = [x ** 2 for x in nums if x % 2 == 0]\n",
    "print(even_squares)  # Prints \"[0, 4, 16]\""
   ]
  },
  {
   "cell_type": "markdown",
   "metadata": {},
   "source": [
    "### 실습"
   ]
  },
  {
   "cell_type": "code",
   "execution_count": 30,
   "metadata": {},
   "outputs": [
    {
     "name": "stdout",
     "output_type": "stream",
     "text": [
      "9\n",
      "75 -77\n",
      "[75, 46, 93, -82, -77, 130, 100, 75, -10, 80]\n",
      "[75, 46, 93]\n",
      "[75, 46, 93, 130, 100, 75, 80]\n",
      "[75, 46, 93, 100, 75, 80]\n",
      "469\n",
      "78.16666666666667\n",
      "[7.5, 4.6, 9.3, 10.0, 7.5, 8.0]\n"
     ]
    }
   ],
   "source": [
    "score = [75, 46, 93, -82, -77, 130, 100, 75, -10]\n",
    "\n",
    "# score에 들어있는 element의 갯수를 구하시오\n",
    "print(len(score))\n",
    "\n",
    "# 첫번째와 다섯번째 element의 값을 출력하시오.\n",
    "print(score[0], score[4])\n",
    "\n",
    "# 마지막에 숫자 80을 추가하시오\n",
    "score.append(80)\n",
    "print(score)\n",
    "\n",
    "# 첫번째부터 3번째까지의 element를 slice하세요.\n",
    "print(score[:3])\n",
    "\n",
    "# score에서 음수를 제거한 리스트를 score01 변수에 담으세요. \n",
    "score01 = [i for i in score if i >= 0]\n",
    "print(score01)\n",
    "\n",
    "# score01에서 100보다 큰 수를 제외한 리스트를 score02 변수에 담으세요.\n",
    "score02 = [i for i in score01 if i <= 100]\n",
    "print(score02)\n",
    "\n",
    "# score02 리스트의 element들 합과 평균을 구하시요\n",
    "print(sum(score02))\n",
    "print(sum(score02) / len(score02))\n",
    "\n",
    "# score02 리스트 각 element의 값을 10으로 나눈 값을 갖는 리스트 score03을 만드세요.\n",
    "score03 = [i / 10 for i in score02]\n",
    "print(score03)\n"
   ]
  },
  {
   "cell_type": "markdown",
   "metadata": {},
   "source": [
    "## 2. 자료형(Container) - Dictionaries\n",
    "\n",
    "- (key, value) 구조.\n",
    "- index의 개념.\n",
    "- 순서의 의미가 없음"
   ]
  },
  {
   "cell_type": "code",
   "execution_count": null,
   "metadata": {
    "collapsed": true
   },
   "outputs": [],
   "source": [
    "# dictionary 생성\n",
    "d = {'cat': 'cute', 'dog': 'furry'}  \n",
    "print(d)\n",
    "\n",
    "# dictionary 특정 값 조회\n",
    "print(d['cat'])       # \"cute\"\n",
    "\n",
    "# key 값이 들어있는지 확인\n",
    "print('cat' in d)     # \"True\"\n",
    "print('sheep' in d)     # \"False\"\n",
    "\n",
    "# 새로운 (key, value) 추가\n",
    "d['fish'] = 'wet'\n",
    "print(d['fish'])      # \"wet\"\n",
    "# print(d['monkey'])  # KeyError: 'monkey'를 key로 가진 value가 없다\n",
    "\n",
    "# key가 없는 경우, default value 사용\n",
    "print(d.get('monkey', 'N/A'))  # \"N/A\"\n",
    "print(d.get('fish', 'N/A'))    # \"wet\"\n",
    "\n",
    "# 요소 삭제\n",
    "del d['fish']\n",
    "print(d.get('fish', 'N/A')) # \"N/A\""
   ]
  },
  {
   "cell_type": "code",
   "execution_count": null,
   "metadata": {
    "collapsed": true
   },
   "outputs": [],
   "source": [
    "# 반복문 \n",
    "d = {'person': 2, 'cat': 4, 'spider': 8}\n",
    "for key in d:\n",
    "    value = d[key]\n",
    "    print('A %s has %d legs' % (key, value))\n",
    "\n",
    "d = {'person': 2, 'cat': 4, 'spider': 8}\n",
    "for key, value in d.items():\n",
    "    print('A %s has %d legs' % (key, value))"
   ]
  },
  {
   "cell_type": "code",
   "execution_count": 32,
   "metadata": {},
   "outputs": [
    {
     "name": "stdout",
     "output_type": "stream",
     "text": [
      "{'cat': 11, 'fish': 15}\n",
      "{'cat': 11, 'fish': 15}\n"
     ]
    }
   ],
   "source": [
    "# 확장 문법 - 반복문 + 제어문\n",
    "\n",
    "animals = {'cat': 11, 'dog': 7, 'fish': 15, 'horse': 3}\n",
    "animals_over_10 = {k: v for k, v in animals.items() if v > 10}\n",
    "print(animals_over_10)  # \"{'cat': 11, 'fish': 15}\"\n",
    "\n",
    "animals_over_11 = dict([(k, v) for k, v in animals.items() if v > 10])\n",
    "print(animals_over_11)  # \"{'cat': 11, 'fish': 15}\"\n"
   ]
  },
  {
   "cell_type": "markdown",
   "metadata": {},
   "source": [
    "### 실습"
   ]
  },
  {
   "cell_type": "code",
   "execution_count": 39,
   "metadata": {},
   "outputs": [
    {
     "name": "stdout",
     "output_type": "stream",
     "text": [
      "[{'no': 11, 'name': 'Geoffery Hinton', 'points': [92, 96, 98]}, {'no': 12, 'name': 'Yann Lecun', 'points': [58, 64, 100]}, {'no': 13, 'name': 'Yoshua Bengio', 'points': [88, 84, 92]}, {'no': 14, 'name': 'Andrew Ng', 'points': [75, 85, 100]}]\n",
      "[{'no': 11, 'name': 'Geoffery Hinton', 'points': [92, 96, 98], 'sum': 286}, {'no': 12, 'name': 'Yann Lecun', 'points': [58, 64, 100], 'sum': 222}, {'no': 13, 'name': 'Yoshua Bengio', 'points': [88, 84, 92], 'sum': 264}, {'no': 14, 'name': 'Andrew Ng', 'points': [75, 85, 100], 'sum': 260}]\n",
      "번호: 11, 이름: Geoffery Hinton, 평균점수: 95.3\n",
      "번호: 12, 이름: Yann Lecun, 평균점수: 74.0\n",
      "번호: 13, 이름: Yoshua Bengio, 평균점수: 88.0\n",
      "번호: 14, 이름: Andrew Ng, 평균점수: 86.7\n",
      "no 11\n",
      "name Geoffery Hinton\n",
      "points [92, 96, 98]\n",
      "sum 286\n",
      "no 12\n",
      "name Yann Lecun\n",
      "points [58, 64, 100]\n",
      "sum 222\n",
      "no 13\n",
      "name Yoshua Bengio\n",
      "points [88, 84, 92]\n",
      "sum 264\n",
      "no 14\n",
      "name Andrew Ng\n",
      "points [75, 85, 100]\n",
      "sum 260\n"
     ]
    }
   ],
   "source": [
    "stu01 = {\n",
    "    \"no\": 1,\n",
    "    \"name\": \"Geoffery Hinton\",\n",
    "    \"points\": [92, 96, 98]\n",
    "}\n",
    "stu02 = {\n",
    "    \"no\": 2,\n",
    "    \"name\": \"Yann Lecun\",\n",
    "    \"points\": [58, 64, 100]\n",
    "}\n",
    "stu03 = {\n",
    "    \"no\": 3,\n",
    "    \"name\": \"Yoshua Bengio\",\n",
    "    \"points\": [88, 84, 92]\n",
    "}\n",
    "stu04 = {\n",
    "    \"no\": 4,\n",
    "    \"name\": \"Andrew Ng\",\n",
    "    \"points\": [75, 85, 100]\n",
    "}\n",
    "\n",
    "stu = [stu01, stu02, stu03, stu04]\n",
    "\n",
    "# 각 학생들의 번호에 10씩 더하세요.\n",
    "for s in stu:\n",
    "    s['no'] += 10\n",
    "print(stu)\n",
    "\n",
    "# 각 학생별로 점수 합계를 구하세요.\n",
    "# 'sum' 항목을 추가하여 위에서 구한 결과를 넣으세요.\n",
    "for s in stu:\n",
    "    s['sum'] = sum(s['points'])\n",
    "print(stu)\n",
    "\n",
    "\n",
    "# 아래 out 문자열을 이용하여 학생들의 번호, 이름, 평균점수를 출력하시오.\n",
    "out = \"번호: %d, 이름: %s, 평균점수: %.1f\"\n",
    "for s in stu:\n",
    "    print(out % (s['no'], s['name'], s['sum'] / 3))\n",
    "\n",
    "# 모든 학생의 key: value를 출력하는 코드를 작성하세요. \n",
    "for s in stu:\n",
    "    for k, v in s.items():\n",
    "        print(k, v)"
   ]
  },
  {
   "cell_type": "markdown",
   "metadata": {},
   "source": [
    "## 3. 자료형(Container) - Sets\n",
    "\n",
    "* 집합\n",
    "* 중복된 값을 중첩되어 가지지 않는 리스트 "
   ]
  },
  {
   "cell_type": "code",
   "execution_count": null,
   "metadata": {
    "collapsed": true
   },
   "outputs": [],
   "source": [
    "animals = {'cat', 'dog'}\n",
    "print(animals)\n",
    "\n",
    "# 요소가 있는지 체크\n",
    "print('cat' in animals)   # \"True\"\n",
    "print('fish' in animals)  # \"False\"\n",
    "\n",
    "# 요소 추가\n",
    "animals.add('fish')\n",
    "print('fish' in animals)  # \"True\"\n",
    "print(animals)\n",
    "\n",
    "# set 요소 갯수\n",
    "print(len(animals))       # \"3\"\n",
    "animals.add('cat')        # 중복되어 추가해도 요소가 더 추가되지 않는다. 리스트와 비교.\n",
    "print(len(animals))       # \"3\"\n",
    "print(animals)\n",
    "\n",
    "# 요소 삭제\n",
    "animals.remove('cat')     \n",
    "print(len(animals))       # \"2\"\n",
    "\n",
    "######################\n",
    "# List 비교\n",
    "list_animals = ['cat', 'dog', 'fish']\n",
    "print(list_animals)\n",
    "print(len(list_animals))       # \"3\"\n",
    "\n",
    "# list 요소 갯수\n",
    "list_animals.append('cat')     # 중복되어도 요소가 더 추가된다.\n",
    "print(len(list_animals))       # \"4\"\n",
    "print(list_animals)\n"
   ]
  },
  {
   "cell_type": "code",
   "execution_count": null,
   "metadata": {
    "collapsed": true
   },
   "outputs": [],
   "source": [
    "# 반복문\n",
    "animals = {'cat', 'dog', 'fish'}\n",
    "for idx, animal in enumerate(animals):\n",
    "    print('#%d: %s' % (idx + 1, animal))\n",
    "\n",
    "# 확장 문법 - 반복문\n",
    "from math import sqrt\n",
    "nums = {int(sqrt(x)) for x in range(30)}\n",
    "print(nums)  # \"{0, 1, 2, 3, 4, 5}\""
   ]
  },
  {
   "cell_type": "markdown",
   "metadata": {},
   "source": [
    "## 4. 자료형(Container) - Tuples\n",
    "- 수정이 불가능한 배열의 모음\n",
    "- Dictionary의 key로 이용될 수 있다. "
   ]
  },
  {
   "cell_type": "code",
   "execution_count": null,
   "metadata": {
    "collapsed": true
   },
   "outputs": [],
   "source": [
    "# 튜플 생성\n",
    "t = (5, 6)\n",
    "print(type(t))    # Prints \"<class 'tuple'>\"\n",
    "print(t)    # \"(5, 6)\"\n",
    "\n",
    "print(t[0])       # \"5\"\n",
    "\n",
    "# dictionary의 키로 사용되는 tuple\n",
    "d = {(1, 0): 10, (2, 0): 20, (0, 1): 1}\n",
    "print(d[(1, 0)])  # \"10\"\n",
    "print(d[(0, 1)])  # \"1\"\n"
   ]
  },
  {
   "cell_type": "markdown",
   "metadata": {},
   "source": [
    "### 형변환"
   ]
  },
  {
   "cell_type": "code",
   "execution_count": 40,
   "metadata": {},
   "outputs": [
    {
     "name": "stdout",
     "output_type": "stream",
     "text": [
      "[('Geoffery Hinton', [95, 65, 90]), ('Yann Lecun', [80, 85, 90]), ('Yoshua Bengio', [92, 88, 84]), ('Andrew Ng', [75, 85, 100])]\n",
      "{'Geoffery Hinton': [95, 65, 90], 'Yann Lecun': [80, 85, 90], 'Yoshua Bengio': [92, 88, 84], 'Andrew Ng': [75, 85, 100]}\n",
      "['Geoffery Hinton', 'Yann Lecun', 'Yoshua Bengio', 'Andrew Ng']\n",
      "['Geoffery Hinton', 'Yann Lecun', 'Yoshua Bengio', 'Andrew Ng']\n",
      "[[95, 65, 90], [80, 85, 90], [92, 88, 84], [75, 85, 100]]\n",
      "[('Geoffery Hinton', [95, 65, 90]), ('Yann Lecun', [80, 85, 90]), ('Yoshua Bengio', [92, 88, 84]), ('Andrew Ng', [75, 85, 100])]\n",
      "[[95, 65, 90], [80, 85, 90], [92, 88, 84], [75, 85, 100]]\n"
     ]
    }
   ],
   "source": [
    "stu = [[\"Geoffery Hinton\", 95, 65, 90],\n",
    "       [\"Yann Lecun\", 80, 85, 90],\n",
    "       [\"Yoshua Bengio\", 92, 88, 84],\n",
    "       [\"Andrew Ng\", 75, 85, 100]]\n",
    "\n",
    "# list to dict\n",
    "stu = [(s[0], s[1:]) for s in stu]\n",
    "print(stu)\n",
    "stu = dict(stu)\n",
    "print(stu)\n",
    "\n",
    "\n",
    "# dict to list\n",
    "print(list(stu))\n",
    "print(list(stu.keys()))\n",
    "print(list(stu.values()))\n",
    "print(list(stu.items()))\n",
    "print([v for k, v in stu.items()])\n"
   ]
  },
  {
   "cell_type": "markdown",
   "metadata": {},
   "source": [
    "## 5. Class \n"
   ]
  },
  {
   "cell_type": "code",
   "execution_count": 7,
   "metadata": {},
   "outputs": [
    {
     "name": "stdout",
     "output_type": "stream",
     "text": [
      "width: 10.0, heght: 20.0 도형입니다.\n",
      "width: 10.0, heght: 20.0 도형입니다.\n",
      "hey~~\n"
     ]
    }
   ],
   "source": [
    "class Shape:\n",
    "    # 생성자\n",
    "    def __init__(self, width, height):\n",
    "        self.width = float(width)  # Create an instance variable\n",
    "        self.height = float(height)\n",
    "    # 메쏘드\n",
    "    def show(self):\n",
    "        print('width: %s, heght: %s 도형입니다.' % (self.width, self.height))\n",
    "    \n",
    "    def show2():\n",
    "        print(\"hey~~\")\n",
    "\n",
    "g = Shape(10, 20)  # 인스턴스 생성\n",
    "g.show()\n",
    "Shape.show(g)\n",
    "\n",
    "Shape.show2()\n"
   ]
  },
  {
   "cell_type": "code",
   "execution_count": 8,
   "metadata": {},
   "outputs": [
    {
     "name": "stdout",
     "output_type": "stream",
     "text": [
      "width: 10.0, heght: 20.0 도형입니다.\n",
      "100.0\n",
      "width: 10.0, heght: 20.0 도형입니다.\n",
      "200.0\n"
     ]
    }
   ],
   "source": [
    "class Triangle(Shape):\n",
    "    # 메쏘드\n",
    "    def area(self):\n",
    "        return (self.width * self.height) / 2\n",
    "    \n",
    "class Square(Shape):\n",
    "    # 메쏘드\n",
    "    def area(self):\n",
    "        return self.width * self.height\n",
    "\n",
    "\n",
    "t = Triangle(10, 20)  # 인스턴스 생성\n",
    "t.show()\n",
    "print(t.area())\n",
    "\n",
    "s = Square(10, 20)  # 인스턴스 생성\n",
    "s.show()\n",
    "print(s.area())"
   ]
  },
  {
   "cell_type": "code",
   "execution_count": null,
   "metadata": {
    "collapsed": true
   },
   "outputs": [],
   "source": []
  },
  {
   "cell_type": "markdown",
   "metadata": {},
   "source": [
    "### print & __str__"
   ]
  },
  {
   "cell_type": "code",
   "execution_count": 49,
   "metadata": {},
   "outputs": [
    {
     "name": "stdout",
     "output_type": "stream",
     "text": [
      "<class '__main__.Shape'>\n",
      "<__main__.Shape object at 0x10c563c88>\n"
     ]
    }
   ],
   "source": [
    "print(type(g))\n",
    "print(g)"
   ]
  },
  {
   "cell_type": "code",
   "execution_count": 57,
   "metadata": {
    "collapsed": true
   },
   "outputs": [],
   "source": [
    "class Shape:\n",
    "    # 생성자\n",
    "    def __init__(self, width, height, d):\n",
    "        self.width = float(width)  # Create an instance variable\n",
    "        self.height = float(height)\n",
    "        self.f = int(d)\n",
    "\n",
    "        \n",
    "    # 메쏘드\n",
    "    def show(self):\n",
    "        print('show - width: %s, heght: %s 도형입니다.' % (self.width, self.height))\n",
    "        \n",
    "    def __str__(self):\n",
    "        return 'str - width: %s, heght: %s 도형입니다.' % (self.width, self.height)"
   ]
  },
  {
   "cell_type": "code",
   "execution_count": 58,
   "metadata": {},
   "outputs": [
    {
     "name": "stdout",
     "output_type": "stream",
     "text": [
      "show - width: 10.0, heght: 20.0 도형입니다.\n",
      "str - width: 10.0, heght: 20.0 도형입니다.\n"
     ]
    }
   ],
   "source": [
    "g = Shape(10, 20, 10)  # 인스턴스 생성\n",
    "g.show()\n",
    "g.__init2__(10, 20)\n",
    "\n",
    "print(g)\n"
   ]
  },
  {
   "cell_type": "markdown",
   "metadata": {},
   "source": [
    "### 실습"
   ]
  },
  {
   "cell_type": "code",
   "execution_count": 6,
   "metadata": {},
   "outputs": [
    {
     "name": "stdout",
     "output_type": "stream",
     "text": [
      "(10, 20)\n",
      "(5, 20)\n",
      "(10, 25)\n",
      "{'x': 10, 'y': 25}\n"
     ]
    }
   ],
   "source": [
    "# 다음의 조건을 만족하는 Point라는 클래스를 작성하세요.\n",
    "\n",
    "# 1. Point 클래스는 생성자를 통해 (x, y) 좌표를 입력받는다.\n",
    "\n",
    "# 2. setx(x), sety(y) 메서드를 통해 x 좌표와 y 좌표를 따로 입력받을 수도 있다.\n",
    "\n",
    "# 3. get() 메서드를 호출하면 튜플로 구성된 (x, y) 좌표를 반환한다.\n",
    "\n",
    "# 4. move(dx, dy) 메서드는 현재 좌표를 dx, dy만큼 이동시킨다.\n",
    "\n",
    "class Point:\n",
    "    def __init__(self, x, y):\n",
    "        self.x = x\n",
    "        self.y = y\n",
    "    \n",
    "    def setx(self, x):\n",
    "        self.x = x\n",
    "        \n",
    "    def sety(self, y):\n",
    "        self.y = y\n",
    "    \n",
    "    def get(self):\n",
    "        return (self.x, self.y)\n",
    "    \n",
    "    def move(self, dx, dy):\n",
    "        self.x += dx\n",
    "        self.y += dy\n",
    "\n",
    "p = Point(10, 20)\n",
    "print(p.get())\n",
    "\n",
    "p.setx(5)\n",
    "print(p.get())\n",
    "\n",
    "p.move(5, 5)\n",
    "print(p.get())\n",
    "\n",
    "print(p.__dict__)"
   ]
  },
  {
   "cell_type": "markdown",
   "metadata": {},
   "source": [
    "## 6. Lambda\n",
    "- 사용법 - lambda [인자] : [표현식]"
   ]
  },
  {
   "cell_type": "code",
   "execution_count": null,
   "metadata": {
    "collapsed": true
   },
   "outputs": [],
   "source": [
    "func = lambda x: x ** 2\n",
    "print(func(3))\n",
    "\n",
    "def grade(my_score):\n",
    "    if my_score >= 90:\n",
    "        my_grade = 'A'\n",
    "    elif my_score >= 80:\n",
    "        my_grade = 'B'\n",
    "    elif my_score >= 70:\n",
    "        my_grade = 'C'\n",
    "    elif my_score >= 60:\n",
    "        my_grade = 'E'\n",
    "    else:\n",
    "        my_grade = 'F'\n",
    "        \n",
    "    return my_grade\n",
    "\n",
    "func = lambda x: grade(x)\n",
    "print(func(100))\n"
   ]
  },
  {
   "cell_type": "code",
   "execution_count": null,
   "metadata": {
    "collapsed": true
   },
   "outputs": [],
   "source": [
    "stu01 = {\n",
    "    \"no\": 1,\n",
    "    \"name\": \"Geoffery Hinton\",\n",
    "    \"points\": [92, 96, 98]\n",
    "}\n",
    "stu02 = {\n",
    "    \"no\": 2,\n",
    "    \"name\": \"Yann Lecun\",\n",
    "    \"points\": [58, 64, 100]\n",
    "}\n",
    "stu03 = {\n",
    "    \"no\": 3,\n",
    "    \"name\": \"Yoshua Bengio\",\n",
    "    \"points\": [88, 84, 92]\n",
    "}\n",
    "stu04 = {\n",
    "    \"no\": 4,\n",
    "    \"name\": \"Andrew Ng\",\n",
    "    \"points\": [75, 85, 100]\n",
    "}\n",
    "stu = [stu01, stu02, stu03, stu04]\n"
   ]
  },
  {
   "cell_type": "code",
   "execution_count": null,
   "metadata": {
    "collapsed": true
   },
   "outputs": [],
   "source": [
    "list(map(lambda x: max(x['points']), stu))"
   ]
  },
  {
   "cell_type": "code",
   "execution_count": null,
   "metadata": {
    "collapsed": true
   },
   "outputs": [],
   "source": [
    "list(filter(lambda x: len(x['name']) > 10, stu))"
   ]
  },
  {
   "cell_type": "code",
   "execution_count": null,
   "metadata": {
    "collapsed": true
   },
   "outputs": [],
   "source": [
    "sorted(stu, key=lambda x: x['points'][0])"
   ]
  },
  {
   "cell_type": "markdown",
   "metadata": {},
   "source": [
    "#### bonus - [*variable]에 대하여"
   ]
  },
  {
   "cell_type": "code",
   "execution_count": null,
   "metadata": {
    "collapsed": true
   },
   "outputs": [],
   "source": [
    "_, *test = [None, 3, 3, 1]\n",
    "print(test)\n",
    "print(*test)\n",
    "\n",
    "print([None, test])\n",
    "print([None, *test])"
   ]
  }
 ],
 "metadata": {
  "anaconda-cloud": {},
  "kernelspec": {
   "display_name": "Python 3",
   "language": "python",
   "name": "python3"
  },
  "language_info": {
   "codemirror_mode": {
    "name": "ipython",
    "version": 3
   },
   "file_extension": ".py",
   "mimetype": "text/x-python",
   "name": "python",
   "nbconvert_exporter": "python",
   "pygments_lexer": "ipython3",
   "version": "3.6.2"
  },
  "nbpresent": {
   "slides": {
    "06673961-d8a5-4267-a63d-f313583104d9": {
     "id": "06673961-d8a5-4267-a63d-f313583104d9",
     "prev": "0879f191-9570-41d0-8172-779e645958bf",
     "regions": {
      "c4b181e9-2fef-4c54-a02d-add6a6973d29": {
       "attrs": {
        "height": 0.8,
        "width": 0.8,
        "x": 0.1,
        "y": 0.1
       },
       "content": {
        "cell": "85cfbf31-402d-4db2-8b14-0d0c0d847f8b",
        "part": "whole"
       },
       "id": "c4b181e9-2fef-4c54-a02d-add6a6973d29"
      }
     }
    },
    "0879f191-9570-41d0-8172-779e645958bf": {
     "id": "0879f191-9570-41d0-8172-779e645958bf",
     "prev": "67db25c5-f042-401f-8d2a-56ba736d31ae",
     "regions": {
      "4df75cd2-c637-493e-a7cf-5f96fb3013ca": {
       "attrs": {
        "height": 0.8,
        "width": 0.8,
        "x": 0.1,
        "y": 0.1
       },
       "content": {
        "cell": "daf8cfb3-efc8-4e87-b318-e5ad4c12f9b7",
        "part": "whole"
       },
       "id": "4df75cd2-c637-493e-a7cf-5f96fb3013ca"
      }
     }
    },
    "135b3672-2ba5-4f92-bdc7-4113351248a2": {
     "id": "135b3672-2ba5-4f92-bdc7-4113351248a2",
     "prev": "53b495c0-f73a-4af8-90a9-06052a15578c",
     "regions": {
      "29d2786a-e00f-4936-8f88-98d140ceb69d": {
       "attrs": {
        "height": 0.8,
        "width": 0.8,
        "x": 0.1,
        "y": 0.1
       },
       "content": {
        "cell": "ae941080-9b54-48d0-9c2e-d789737ca6a3",
        "part": "whole"
       },
       "id": "29d2786a-e00f-4936-8f88-98d140ceb69d"
      }
     }
    },
    "234a438e-9bbd-4d7c-aa4d-60a6ad360cad": {
     "id": "234a438e-9bbd-4d7c-aa4d-60a6ad360cad",
     "prev": "85cdfd47-b188-4127-b6ce-f2d6269764ca",
     "regions": {
      "44c764a2-1cf0-4fc0-91cb-0cb9bcefb745": {
       "attrs": {
        "height": 0.8,
        "width": 0.8,
        "x": 0.1,
        "y": 0.1
       },
       "content": {
        "cell": "dfdb1509-35cf-46ef-8552-f6b07ed1fbaf",
        "part": "whole"
       },
       "id": "44c764a2-1cf0-4fc0-91cb-0cb9bcefb745"
      }
     }
    },
    "338a1c9f-d631-4cd8-9830-35c4b298ee7d": {
     "id": "338a1c9f-d631-4cd8-9830-35c4b298ee7d",
     "prev": "f609d9b0-5a29-4ccc-84bf-e74355ab7eff",
     "regions": {
      "cd095279-4007-4e90-b96e-0b95b9ec3a3d": {
       "attrs": {
        "height": 0.8,
        "width": 0.8,
        "x": 0.1,
        "y": 0.1
       },
       "content": {
        "cell": "b5521ec6-6f3a-4b09-ab8e-955e09c040c2",
        "part": "whole"
       },
       "id": "cd095279-4007-4e90-b96e-0b95b9ec3a3d"
      }
     }
    },
    "53b495c0-f73a-4af8-90a9-06052a15578c": {
     "id": "53b495c0-f73a-4af8-90a9-06052a15578c",
     "prev": "be1c5d87-98b8-4a00-8fee-ab6aa9209fa8",
     "regions": {
      "ae2aebd0-8691-47f8-8aab-528a9c1ce2bf": {
       "attrs": {
        "height": 0.8,
        "width": 0.8,
        "x": 0.1,
        "y": 0.1
       },
       "content": {
        "cell": "41a29509-236f-4951-a9d2-6c2cf4963c6b",
        "part": "whole"
       },
       "id": "ae2aebd0-8691-47f8-8aab-528a9c1ce2bf"
      }
     }
    },
    "579d08fd-aae6-4977-a954-3bfed185e258": {
     "id": "579d08fd-aae6-4977-a954-3bfed185e258",
     "prev": "338a1c9f-d631-4cd8-9830-35c4b298ee7d",
     "regions": {
      "12149eb4-94d4-40e8-8ed1-5b01b3dc17ab": {
       "attrs": {
        "height": 0.8,
        "width": 0.8,
        "x": 0.1,
        "y": 0.1
       },
       "content": {
        "cell": "d1c43f06-e63a-4006-84fe-a80d43007720",
        "part": "whole"
       },
       "id": "12149eb4-94d4-40e8-8ed1-5b01b3dc17ab"
      }
     }
    },
    "67db25c5-f042-401f-8d2a-56ba736d31ae": {
     "id": "67db25c5-f042-401f-8d2a-56ba736d31ae",
     "prev": "579d08fd-aae6-4977-a954-3bfed185e258",
     "regions": {
      "8a7cf766-88b1-4512-ba59-c0907d84e812": {
       "attrs": {
        "height": 0.8,
        "width": 0.8,
        "x": 0.1,
        "y": 0.1
       },
       "content": {
        "cell": "6d01f784-fa77-43fc-a1de-5dca9733fe37",
        "part": "whole"
       },
       "id": "8a7cf766-88b1-4512-ba59-c0907d84e812"
      }
     }
    },
    "6864bc82-39ed-4597-9643-1f9eaebaa4ad": {
     "id": "6864bc82-39ed-4597-9643-1f9eaebaa4ad",
     "prev": null,
     "regions": {
      "458e5b71-90c5-4b8b-946f-3dbd0acabdd0": {
       "attrs": {
        "height": 0.8,
        "width": 0.8,
        "x": 0.1,
        "y": 0.1
       },
       "content": {
        "cell": "324c3256-4054-4685-a71c-ae0fe87670c2",
        "part": "whole"
       },
       "id": "458e5b71-90c5-4b8b-946f-3dbd0acabdd0"
      }
     }
    },
    "85cdfd47-b188-4127-b6ce-f2d6269764ca": {
     "id": "85cdfd47-b188-4127-b6ce-f2d6269764ca",
     "prev": "135b3672-2ba5-4f92-bdc7-4113351248a2",
     "regions": {
      "660896c7-2008-4690-a456-0f728323a4e9": {
       "attrs": {
        "height": 0.8,
        "width": 0.8,
        "x": 0.1,
        "y": 0.1
       },
       "content": {
        "cell": "ff5d24f2-939f-4007-9892-f241c94b9e6f",
        "part": "whole"
       },
       "id": "660896c7-2008-4690-a456-0f728323a4e9"
      }
     }
    },
    "be1c5d87-98b8-4a00-8fee-ab6aa9209fa8": {
     "id": "be1c5d87-98b8-4a00-8fee-ab6aa9209fa8",
     "prev": "6864bc82-39ed-4597-9643-1f9eaebaa4ad",
     "regions": {
      "02737d00-d567-4b1e-b981-39dc866fb994": {
       "attrs": {
        "height": 0.8,
        "width": 0.8,
        "x": 0.1,
        "y": 0.1
       },
       "content": {
        "cell": "77420740-c7d1-42dc-8cbf-f131e6ac7001",
        "part": "whole"
       },
       "id": "02737d00-d567-4b1e-b981-39dc866fb994"
      }
     }
    },
    "f609d9b0-5a29-4ccc-84bf-e74355ab7eff": {
     "id": "f609d9b0-5a29-4ccc-84bf-e74355ab7eff",
     "prev": "234a438e-9bbd-4d7c-aa4d-60a6ad360cad",
     "regions": {
      "aec5f004-bdc5-449c-80b3-52d3a1ae4596": {
       "attrs": {
        "height": 0.8,
        "width": 0.8,
        "x": 0.1,
        "y": 0.1
       },
       "content": {
        "cell": "439e3e1e-bdee-49a7-9a18-11f87ded9522",
        "part": "whole"
       },
       "id": "aec5f004-bdc5-449c-80b3-52d3a1ae4596"
      }
     }
    }
   },
   "themes": {}
  }
 },
 "nbformat": 4,
 "nbformat_minor": 1
}
